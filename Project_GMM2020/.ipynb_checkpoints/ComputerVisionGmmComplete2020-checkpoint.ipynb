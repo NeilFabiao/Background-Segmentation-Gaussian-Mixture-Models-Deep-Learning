{
 "cells": [
  {
   "cell_type": "code",
   "execution_count": 1,
   "metadata": {
    "colab": {
     "base_uri": "https://localhost:8080/",
     "height": 34
    },
    "executionInfo": {
     "elapsed": 36841,
     "status": "ok",
     "timestamp": 1605396120766,
     "user": {
      "displayName": "Neil Fabião",
      "photoUrl": "https://lh3.googleusercontent.com/a-/AOh14GhMOq5Dk_mo2J1heKElAoyxZmCXn5wegT1VwobLmA=s64",
      "userId": "06437641205793281458"
     },
     "user_tz": -120
    },
    "id": "1anzeJq8aKiJ",
    "outputId": "513cd59b-1ebd-42d9-8a9d-141d0c696034"
   },
   "outputs": [],
   "source": [
    "#importing all the necessary libraries \n",
    "import numpy as np\n",
    "import pandas as pd  \n",
    "import imageio\n",
    "from skimage import img_as_float32 as as_float\n",
    "from natsort import natsorted\n",
    "from glob import glob\n",
    "import matplotlib.pyplot as plt\n",
    "import seaborn as sns\n",
    "import random\n",
    "from scipy.stats import multivariate_normal\n",
    "import cv2\n",
    "import pickle\n",
    "from sklearn.metrics import accuracy_score\n",
    "import time\n",
    "from skimage import exposure\n",
    "from functools import partial\n",
    "from tqdm import tqdm\n",
    "tqdm = partial(tqdm, position=0, leave=True)\n",
    "from sklearn.metrics import confusion_matrix\n",
    "from sklearn.metrics import cohen_kappa_score\n",
    "from sklearn.model_selection import KFold,train_test_split \n",
    "plt.gray() #include this to display the gray scalled version of the image using matplotlib\n",
    "#!pip install split-folders"
   ]
  },
  {
   "cell_type": "markdown",
   "metadata": {
    "id": "iQtqqOhPaKkJ"
   },
   "source": [
    "# Project: Revisiting Background Segmentation Gaussian Mixture Models & Deep Learning\n",
    " \n",
    "Submited by : $Sibusiso \\space Mgidi$ student number 1141573 and $Neil \\space Fabi\\tilde{a}o$ student number 2216748"
   ]
  },
  {
   "cell_type": "markdown",
   "metadata": {
    "id": "FvJNdDJjaKkg"
   },
   "source": [
    "**Note:** \n",
    "\n",
    "`1. This jupyter notebook is considered part 1 of the project, containing code and explanation for the Gauissian Mixture modeling section.`\n",
    "\n",
    "`2. After each numbered header for example 1.Dataset there will be a dedicated cell with code for the particular task `\n"
   ]
  },
  {
   "cell_type": "markdown",
   "metadata": {
    "id": "LtMLj7Q9aKkt"
   },
   "source": [
    "## Introduction\n",
    "\n",
    "In previous labs, we have been helping Quarantino solve his puzzle. In Lab 0, we worked with Tino to create\n",
    "several ground truth masks which indicated which pixels belonged to the background and which ones belonged\n",
    "to the puzzle piece.\n",
    "\n",
    "### 1 Dataset"
   ]
  },
  {
   "cell_type": "markdown",
   "metadata": {
    "id": "LJybMiXmaKkv"
   },
   "source": [
    "COMS4036A students only need the dataset that contians cleaned masks and images from Lab 6 provided in puzzle corners 1024x768 v2.zip downloaded from Moodle. The  puzzle images dataset is divide the into training (70%), validation (15%) and test (15%) sets, which you will use for training and analysis in the tasks below. This works out to 34 training images, 7 validation and 7 test images.\n",
    "\n",
    "- Consider the implications of a dataset this size for the methods below and explain whether or not it will be a problem for each.\n",
    "\n",
    "- Explain how you split your data into these sets."
   ]
  },
  {
   "cell_type": "code",
   "execution_count": 2,
   "metadata": {
    "colab": {
     "base_uri": "https://localhost:8080/"
    },
    "executionInfo": {
     "elapsed": 20942,
     "status": "ok",
     "timestamp": 1605352499919,
     "user": {
      "displayName": "Neil Fabião",
      "photoUrl": "https://lh3.googleusercontent.com/a-/AOh14GhMOq5Dk_mo2J1heKElAoyxZmCXn5wegT1VwobLmA=s64",
      "userId": "06437641205793281458"
     },
     "user_tz": -120
    },
    "id": "ZG_s23QtaKkw",
    "outputId": "a8b71ed4-ca72-4800-8e6a-c838cee9eba2"
   },
   "outputs": [
    {
     "name": "stdout",
     "output_type": "stream",
     "text": [
      "There are 48 images and 48 masks\n",
      "The shape of our data is (48, 768, 1024, 3) and (48, 768, 1024)\n"
     ]
    }
   ],
   "source": [
    "#reading the dataset\n",
    "path_pairs = list(zip(\n",
    "natsorted(glob('./puzzle_corners_1024x768/images-1024x768/*.png')),\n",
    "natsorted(glob('./puzzle_corners_1024x768/masks-1024x768/*.png')),\n",
    "))\n",
    "img = np.array([as_float(imageio.imread(ipath)) for ipath, _ in path_pairs])\n",
    "msk = np.array([as_float(imageio.imread(mpath)) for _, mpath in path_pairs])\n",
    "\n",
    "print('There are',img.shape[0],'images and',msk.shape[0],'masks')\n",
    "print('The shape of our data is',img.shape,'and',msk.shape)"
   ]
  },
  {
   "cell_type": "code",
   "execution_count": 3,
   "metadata": {
    "colab": {
     "base_uri": "https://localhost:8080/"
    },
    "executionInfo": {
     "elapsed": 20386,
     "status": "ok",
     "timestamp": 1605352499920,
     "user": {
      "displayName": "Neil Fabião",
      "photoUrl": "https://lh3.googleusercontent.com/a-/AOh14GhMOq5Dk_mo2J1heKElAoyxZmCXn5wegT1VwobLmA=s64",
      "userId": "06437641205793281458"
     },
     "user_tz": -120
    },
    "id": "cNH5vjq0aKli",
    "outputId": "a06218cf-6650-450f-8742-2a00277cc5e2"
   },
   "outputs": [
    {
     "name": "stderr",
     "output_type": "stream",
     "text": [
      "Resizing Images: 100%|██████████| 48/48 [00:00<00:00, 625.02it/s]\n",
      "Resizing Masks: 100%|██████████| 48/48 [00:00<00:00, 1773.32it/s]"
     ]
    },
    {
     "name": "stdout",
     "output_type": "stream",
     "text": [
      "\n",
      " (768, 1024, 3) -> (307, 410, 3)\n"
     ]
    },
    {
     "name": "stderr",
     "output_type": "stream",
     "text": [
      "\n"
     ]
    }
   ],
   "source": [
    "SIZE = (768, 1024)\n",
    "\n",
    "assert img.shape == (48, SIZE[0], SIZE[1], 3)\n",
    "assert msk.shape == (48, SIZE[0], SIZE[1])\n",
    "\n",
    "SCALE = 0.40\n",
    "\n",
    "images = [cv2.resize(img, None, fx=SCALE, fy=SCALE) for img in tqdm(img, 'Resizing Images')]\n",
    "masks1 = [cv2.resize(img, None, fx=SCALE, fy=SCALE) for img in tqdm(msk, 'Resizing Masks')]\n",
    "\n",
    "masks = []#thresholding the mask to 0 and 1 since after rescaling the mask will have different float values\n",
    "for i in range(len(masks1)):\n",
    "    mask = cv2.threshold(masks1[i],0,1,cv2.THRESH_BINARY)[1]\n",
    "    masks.append(mask)\n",
    "    \n",
    "print('\\n', img[0].shape, '->', images[0].shape)"
   ]
  },
  {
   "cell_type": "markdown",
   "metadata": {
    "id": "aakMG1V0aKnP"
   },
   "source": [
    "#### 1.1 Splitting the dataset"
   ]
  },
  {
   "cell_type": "code",
   "execution_count": 4,
   "metadata": {
    "executionInfo": {
     "elapsed": 19041,
     "status": "ok",
     "timestamp": 1605352499921,
     "user": {
      "displayName": "Neil Fabião",
      "photoUrl": "https://lh3.googleusercontent.com/a-/AOh14GhMOq5Dk_mo2J1heKElAoyxZmCXn5wegT1VwobLmA=s64",
      "userId": "06437641205793281458"
     },
     "user_tz": -120
    },
    "id": "sO5SsLDEaKna"
   },
   "outputs": [],
   "source": [
    "#source: https://www.quora.com/How-can-I-split-my-image-datasets-into-training-validation-and-testing-sets-for-Neural-Network-CNN-in-python\n",
    "#https://stackoverflow.com/questions/38250710/how-to-split-data-into-3-sets-train-validation-and-test\n",
    "\n",
    "VALIDATION_needed = True \n",
    "def train_test_valid_split(all_X, all_Y,PERC_TRAIN = 0.65,PERC_VALIDATION = 0.14,PERC_TEST = 0.13): \n",
    "    '''\n",
    "    returs the desired data split ( 34 training images, 7 validation and 7 test images)\n",
    "    \n",
    "    params: \n",
    "    - all_X image data\n",
    "    - all_Y mask or ground truth data\n",
    "    - PERC_VALIDATION percentage for validation data\n",
    "    - PERC_TEST percentage for testing data\n",
    "    - PERC_TRAIN percentage for training data\n",
    "    \n",
    "    '''\n",
    "    left_X, valid_X, left_y, valid_y = train_test_split(all_X, all_Y, test_size=PERC_VALIDATION) \n",
    "    train_X, test_X, train_y, test_y = train_test_split(left_X, left_y, test_size=PERC_TEST / (PERC_TEST + PERC_TRAIN)) \n",
    "    return test_X, test_y, train_X, train_y, valid_X, valid_y \n",
    " \n",
    "if VALIDATION_needed: \n",
    "    test_X, test_y, train_X, train_y, valid_X, valid_y = train_test_valid_split(images, masks) \n",
    "else: \n",
    "    train_X, test_X, train_y, test_y = train_test_split(images, masks) "
   ]
  },
  {
   "cell_type": "code",
   "execution_count": 5,
   "metadata": {
    "executionInfo": {
     "elapsed": 18192,
     "status": "ok",
     "timestamp": 1605352499921,
     "user": {
      "displayName": "Neil Fabião",
      "photoUrl": "https://lh3.googleusercontent.com/a-/AOh14GhMOq5Dk_mo2J1heKElAoyxZmCXn5wegT1VwobLmA=s64",
      "userId": "06437641205793281458"
     },
     "user_tz": -120
    },
    "id": "4ipmNtm1aKno"
   },
   "outputs": [],
   "source": [
    "#6k fold data \n",
    "\n",
    "#https://www.pluralsight.com/guides/validating-machine-learning-models-scikit-learn\n",
    "#https://www.knowledgehut.com/blog/data-science/k-fold-cross-validation-in-ml\n",
    "\n",
    "#this is the complete data with no slpit that will be used for the 6kfold validation\n",
    "X_raw = np.asarray(images)#make this an array to be easy to use later one \n",
    "Y_raw = np.asarray(masks)# for the rest of the code is fine to use as list"
   ]
  },
  {
   "cell_type": "code",
   "execution_count": 6,
   "metadata": {
    "colab": {
     "base_uri": "https://localhost:8080/"
    },
    "executionInfo": {
     "elapsed": 1119,
     "status": "ok",
     "timestamp": 1605352501073,
     "user": {
      "displayName": "Neil Fabião",
      "photoUrl": "https://lh3.googleusercontent.com/a-/AOh14GhMOq5Dk_mo2J1heKElAoyxZmCXn5wegT1VwobLmA=s64",
      "userId": "06437641205793281458"
     },
     "user_tz": -120
    },
    "id": "4KmmquiPaKoh",
    "outputId": "12cad66d-cf30-41cc-e993-b2613a752098"
   },
   "outputs": [
    {
     "name": "stdout",
     "output_type": "stream",
     "text": [
      "After data split have: 34 training images 7 validation and 7 test images\n"
     ]
    }
   ],
   "source": [
    "print('After data split have:',len(train_X),\n",
    "      'training images',len(valid_X),\n",
    "      'validation and',len(test_X),'test images')"
   ]
  },
  {
   "cell_type": "markdown",
   "metadata": {
    "id": "I_RlmmqPaKou"
   },
   "source": [
    "<img src=\"im/traintest.png\" alt=\"Where is the image ?\" width=\"670\"/>"
   ]
  },
  {
   "cell_type": "markdown",
   "metadata": {
    "id": "WqGciiSpaKou"
   },
   "source": [
    "### 2 Gaussian Mixture Models\n",
    "\n",
    "(the written section is not completed need to change most of the information is from another source and has yet to ba paraphrased)"
   ]
  },
  {
   "cell_type": "markdown",
   "metadata": {
    "id": "vWUwkRhDaKov"
   },
   "source": [
    "In statistics, an expectation–maximization (EM) algorithm is an iterative method to find (local) maximum likelihood or maximum a posteriori (MAP) estimates of parameters in statistical models, where the model depends on unobserved latent variables. The EM iteration alternates between performing an expectation (E) step, which creates a function for the expectation of the log-likelihood evaluated using the current estimate for the parameters, and a maximization (M) step, which computes parameters maximizing the expected log-likelihood found on the E step. These parameter-estimates are then used to determine the distribution of the latent variables in the next E step  [Oran Looney,2019](http://www.oranlooney.com/post/ml-from-scratch-part-5-gmm/). source:"
   ]
  },
  {
   "cell_type": "markdown",
   "metadata": {
    "id": "2z6kg2_maKov"
   },
   "source": [
    "<img src=\"./im/gmm.gif\" alt=\"Where is the image ?\" width=\"200\" heigth=\"200\"/>"
   ]
  },
  {
   "cell_type": "code",
   "execution_count": 7,
   "metadata": {
    "executionInfo": {
     "elapsed": 2251,
     "status": "ok",
     "timestamp": 1605352502225,
     "user": {
      "displayName": "Neil Fabião",
      "photoUrl": "https://lh3.googleusercontent.com/a-/AOh14GhMOq5Dk_mo2J1heKElAoyxZmCXn5wegT1VwobLmA=s64",
      "userId": "06437641205793281458"
     },
     "user_tz": -120
    },
    "id": "hDN5nxcgaKov"
   },
   "outputs": [],
   "source": [
    "class GMM_scratch:\n",
    "    '''\n",
    "        This class is the implementation of the Gaussian Mixture Models for the project\n",
    "        Inspiration for this function came from sklearn.mixture.GaussianMixture and other sources listed bellow\n",
    "        \n",
    "        params: \n",
    "        data - the image data to train in the EM step of the GMM\n",
    "        numb_components - the number of clusters to train the GMM\n",
    "        init_strategy - method to initialize the means of the GMM. 0 is the normal initialization method\n",
    "        \n",
    "        \n",
    "        sources :\n",
    "        https://github.com/ScienceKot/mysklearn/blob/master/Gaussian%20Mixture%20Models/GMM.py\n",
    "        https://stackoverflow.com/questions/44913009/initialize-gmm-using-sklearn-python\n",
    "        https://github.com/SeoHyeong/GMM_image-segmentation/blob/master/GMM_image%20segmentation.ipynb\n",
    "    '''\n",
    "    \n",
    "    \n",
    "    def __init__(self, data, numb_components,init_strategy):#Step1 initialization of the main variables\n",
    "                \n",
    "        self.data = data\n",
    "        self.numb_components = numb_components\n",
    "        \n",
    "        self.H = self.data.shape[1]#D#need to understant this point\n",
    "        self.W = self.data.shape[0]#n#need to understant this point\n",
    "        \n",
    "        self.lamda = np.ones((self.numb_components))/self.numb_components\n",
    "        self.means = np.zeros((self.numb_components,self.H))\n",
    "        #create distances variable\n",
    "        if(init_strategy == 0):#random initialization\n",
    "            for i in range(self.numb_components):\n",
    "                soma = random.choice(self.data)\n",
    "                self.means[i] = soma\n",
    "            \n",
    "        else:#kmeans initialization\n",
    "            from sklearn.cluster import KMeans\n",
    "            km = KMeans(numb_components).fit(self.data)\n",
    "            self.means = km.cluster_centers_\n",
    "            \n",
    "        self.covariance = np.zeros((self.numb_components,self.H,self.H))#creating the covariance array with the necessary dimations \n",
    "        self.covariance[:] = np.cov(self.data.T)#array that holds all the covariance information \n",
    "\n",
    "        self.responsavel = np.zeros((self.W, self.numb_components))#responsavel is simply responsability array given the number of channels and components in the array\n",
    "        \n",
    "    #-------------------------------------------Norm-Step------------------------------------------------------------     \n",
    "    def normalvariant(self):\n",
    "        '''\n",
    "        this is used to make inference throught the class, best to have a separate function as also seen on sklearn\n",
    "        '''\n",
    "        numb_components = self.numb_components\n",
    "        self.normal = []\n",
    "        for i in range(numb_components):\n",
    "            self.normal.append(multivariate_normal(mean=self.means[i], cov=self.covariance[i]))\n",
    "    #-------------------------------------------E-Step-------------------------------------------------------------- \n",
    "    def Expectation(self):#need to understant this section\n",
    "        numb_components = self.numb_components\n",
    "        self.normalvariant()\n",
    "        \n",
    "        for i, points in enumerate(self.data):\n",
    "            for j in range(numb_components):\n",
    "                \n",
    "                self.responsavel[i,j] = self.lamda[j]*self.normal[j].pdf(points)\n",
    "            self.responsavel[i,:] /= self.responsavel[i, :].sum()\n",
    "            \n",
    "    #-------------------------------------------M-Step---------------------------------------------------------------\n",
    "    def Maximization(self):#need to understant this section\n",
    "        numb_components = self.numb_components\n",
    "\n",
    "        responsavel_sum = self.responsavel.sum(0)\n",
    "        \n",
    "        self.lamda = responsavel_sum/float(self.responsavel.sum())\n",
    "\n",
    "        for i in range(self.numb_components):\n",
    "            self.means[i] = self.responsavel[:,i].dot(self.data)/responsavel_sum[i]\n",
    "            \n",
    "        for i in range(self.numb_components):\n",
    "            temp = np.zeros((self.H, self.H))\n",
    "            for j in range(self.W):\n",
    "                t = self.data[j, :] - self.means[i]#identity matrix t\n",
    "                temp += self.responsavel[j,i]*np.outer(t,t)\n",
    "            self.covariance[i] = temp/responsavel_sum[i]\n",
    "            \n",
    "    #-------------------------------------------Train or fit Step----------------------------------------------------- \n",
    "    def fit(self, tolerance=0.01, max_epoch=35):\n",
    "        distance = tolerance\n",
    "        epoch = 0\n",
    "        while ((distance >= tolerance) and (epoch != max_epoch)):\n",
    "            old_means = self.means.copy()\n",
    "            self.Expectation()\n",
    "            self.Maximization()\n",
    "            distance = np.linalg.norm(old_means - self.means)\n",
    "            print(epoch, distance)\n",
    "            epoch += 1\n",
    "   #-------------------------------------------Likelihood-Step--------------------------------------------------------\n",
    "    def Proba(self,image):\n",
    "    \n",
    "        Probabilities = np.zeros((image.shape[:-1]))\n",
    "        numb_components = self.numb_components\n",
    "        for i in range(numb_components):\n",
    "            Probabilities += self.lamda[i] * multivariate_normal(mean=self.means[i], cov=self.covariance[i]).pdf(image)\n",
    "        return Probabilities "
   ]
  },
  {
   "cell_type": "markdown",
   "metadata": {
    "id": "gIYwAm5UaKox"
   },
   "source": [
    "### 3 Feature vector\n",
    "\n",
    "A feature vector can be considered a collection of features (important characteristic of the image being studied) which you extracted and form of matrix. For this project the following feature sets will be utilized:\n",
    "\n",
    "1. RGB pixel value\n",
    "2. RGB+Difference of Gaussian\n",
    "3. One other feature set from the previous labs that performed well.\n",
    "\n",
    "The function bellow returns the puzzle and background pixels for this project, conversely the following sections will make use of the function bellow."
   ]
  },
  {
   "cell_type": "code",
   "execution_count": 8,
   "metadata": {
    "colab": {
     "base_uri": "https://localhost:8080/"
    },
    "executionInfo": {
     "elapsed": 2233,
     "status": "ok",
     "timestamp": 1605352502226,
     "user": {
      "displayName": "Neil Fabião",
      "photoUrl": "https://lh3.googleusercontent.com/a-/AOh14GhMOq5Dk_mo2J1heKElAoyxZmCXn5wegT1VwobLmA=s64",
      "userId": "06437641205793281458"
     },
     "user_tz": -120
    },
    "id": "zO8tyc9NaKox",
    "outputId": "778ab985-7838-4813-fc63-2ed9b87b05bd"
   },
   "outputs": [
    {
     "name": "stdout",
     "output_type": "stream",
     "text": [
      "For the mask we have :[0. 1.]\n",
      "Number of white or puzzle pixels :32400\n",
      "Number of black or background pixels :93470\n"
     ]
    }
   ],
   "source": [
    "def pixels(image, mask):\n",
    "    '''\n",
    "    Return puzzle and background pixels\n",
    "    params: \n",
    "    - image array containing all the image\n",
    "    - mask array containing all the mask \n",
    "    '''\n",
    "    puzzle = image[mask == 1]\n",
    "    background = image[mask == 0]\n",
    "    return puzzle, background\n",
    "    \n",
    "def priors(mask): \n",
    "    '''\n",
    "    Return the prior of the mask\n",
    "    params: \n",
    "    - mask array containing all the mask             \n",
    "    '''    \n",
    "    puzzle = np.sum(mask == 1)\n",
    "    background = np.sum(mask == 0)\n",
    "    prior = puzzle/(puzzle + background)\n",
    "    return prior\n",
    "\n",
    "def Puzzle_background_Pixels_one(num_images,img,mks):\n",
    "    '''\n",
    "    Return the puzzle and background pixels plus the prior of the mask to be used later in the project\n",
    "    params: \n",
    "    - num_images it specifies the number of images we wish to extract information from\n",
    "    - img array containing all the image data\n",
    "    - mk array containing all the mask data\n",
    "    \n",
    "    altought there are may ways to do this this source to concatenate feature vectors as used in this project:\n",
    "    https://www.researchgate.net/post/How_to_concatenate_feature_vectors_in_Python\n",
    "    ''' \n",
    "    prior = 0\n",
    "    for i in range(num_images):\n",
    "        image, mask = (img[i], mks[i])\n",
    "        if(i == 0):\n",
    "            puzzle_pixels, background_pixels = pixels(image, mask)\n",
    "            prior = priors(mask)\n",
    "        else:\n",
    "            curr_puzzle_pixels, curr_background_pixels = pixels(image, mask)\n",
    "            puzzle_pixels = np.vstack((puzzle_pixels, curr_puzzle_pixels))\n",
    "            background_pixels = np.vstack((background_pixels, curr_background_pixels))\n",
    "            prior += priors(mask)\n",
    "    return puzzle_pixels, background_pixels,prior\n",
    "\n",
    "print('For the mask we have :{}'.format(np.unique(masks[0])) )\n",
    "print('Number of white or puzzle pixels :{}'.format(np.sum(masks[0] == 1)))#puzzle pixel for image 1\n",
    "print('Number of black or background pixels :{}'.format(np.sum(masks[0] == 0))) #background pixel for image 1\n",
    "\n",
    "#helper function to display images using matplotlib.pyplot.imshow \n",
    "def visualize(imgs, format=None):\n",
    "    plt.figure(figsize=(20, 40))\n",
    "    for i, img in enumerate(imgs):\n",
    "        plt_idx = i+1\n",
    "        plt.subplot(4, 2, plt_idx)    \n",
    "        plt.imshow(img)\n",
    "    plt.show()\n",
    "    \n",
    "#Number of white or puzzle pixels :72825\n",
    "#Number of black or background pixels :210229"
   ]
  },
  {
   "cell_type": "markdown",
   "metadata": {
    "id": "0NB-MGf5aKoz"
   },
   "source": [
    "#### 3.1 RGB pixel value\n",
    "Retreiving RGB pixel values in image and creating the first feature vector of the lab."
   ]
  },
  {
   "cell_type": "code",
   "execution_count": 9,
   "metadata": {
    "executionInfo": {
     "elapsed": 2211,
     "status": "ok",
     "timestamp": 1605352502226,
     "user": {
      "displayName": "Neil Fabião",
      "photoUrl": "https://lh3.googleusercontent.com/a-/AOh14GhMOq5Dk_mo2J1heKElAoyxZmCXn5wegT1VwobLmA=s64",
      "userId": "06437641205793281458"
     },
     "user_tz": -120
    },
    "id": "M_yUTha3aKoz"
   },
   "outputs": [],
   "source": [
    "puzzle_pixel_RGB, background_pixel_RGB, prior_RGB = Puzzle_background_Pixels_one(30,train_X,train_y)\n",
    "gmms_puzzle = []\n",
    "gmms_background = []"
   ]
  },
  {
   "cell_type": "code",
   "execution_count": 17,
   "metadata": {
    "colab": {
     "base_uri": "https://localhost:8080/"
    },
    "executionInfo": {
     "elapsed": 4399827,
     "status": "ok",
     "timestamp": 1605315399029,
     "user": {
      "displayName": "Neil Fabião",
      "photoUrl": "https://lh3.googleusercontent.com/a-/AOh14GhMOq5Dk_mo2J1heKElAoyxZmCXn5wegT1VwobLmA=s64",
      "userId": "06437641205793281458"
     },
     "user_tz": -120
    },
    "id": "8md_8BHLaKo1",
    "outputId": "e3e74cdf-c7d5-4b13-8d28-1281cf39763a",
    "scrolled": true
   },
   "outputs": [
    {
     "name": "stdout",
     "output_type": "stream",
     "text": [
      "The number of gaussian for RGB using puzzle pixels is now: 1\n",
      "0 0.30206418066900714\n",
      "1 0.0\n",
      "The number of gaussian for RGB using puzzle pixels is now: 2\n",
      "0 0.2834228136870068\n",
      "1 0.03395624781479698\n",
      "2 0.025511417468873303\n",
      "3 0.015347067905581711\n",
      "4 0.009737732203768135\n",
      "5 0.008377338667263241\n",
      "6 0.008885351998849168\n",
      "7 0.010046369000141544\n",
      "8 0.010690960958222603\n",
      "9 0.01039083804781045\n",
      "10 0.009373657325300511\n",
      "11 0.007499586595599497\n",
      "12 0.005460167783845445\n",
      "13 0.004153968890820491\n",
      "14 0.0033235832714088175\n",
      "15 0.0027562213739623365\n",
      "16 0.002313092788686695\n",
      "17 0.001936986792158626\n",
      "18 0.0016050336305080215\n",
      "19 0.0013111142377201773\n",
      "20 0.0010547293671513004\n",
      "21 0.0008356757367445764\n",
      "The number of gaussian for RGB using puzzle pixels is now: 3\n",
      "0 0.3209429610406065\n",
      "1 0.032106885977695565\n",
      "2 0.039318989982000396\n",
      "3 0.041437191080793544\n",
      "4 0.03744365693728192\n",
      "5 0.0295843267015046\n",
      "6 0.02030373029108133\n",
      "7 0.012099865687895006\n",
      "8 0.006264823602694478\n",
      "9 0.0028329661785721854\n",
      "10 0.001605870502558565\n",
      "11 0.0017015162696850789\n",
      "12 0.0018678875939886577\n",
      "13 0.0018780857909981648\n",
      "14 0.0017836145570207516\n",
      "15 0.0016380486688426716\n",
      "16 0.0014738902348065404\n",
      "17 0.0013087111690886198\n",
      "18 0.0011514569078369412\n",
      "19 0.0010063462773652807\n",
      "20 0.0008750362381359339\n",
      "The number of gaussian for RGB using puzzle pixels is now: 4\n",
      "0 0.5204680845000818\n",
      "1 0.050788036143467656\n",
      "2 0.04696257931493069\n",
      "3 0.04803686108205532\n",
      "4 0.05004861055851085\n",
      "5 0.04330196306389937\n",
      "6 0.029668134787414323\n",
      "7 0.020101296319106524\n",
      "8 0.017190703679791825\n",
      "9 0.01893164362174768\n",
      "10 0.022524080187852437\n",
      "11 0.024096242069565864\n",
      "12 0.025544064631828154\n",
      "13 0.02780542553041241\n",
      "14 0.02938337166240953\n",
      "15 0.028656837531907866\n",
      "16 0.025058390883763125\n",
      "17 0.020172996649024246\n",
      "18 0.016239465687505235\n",
      "19 0.013361954150003415\n",
      "20 0.011007122999735337\n",
      "21 0.009050036973376127\n",
      "22 0.007516943552787854\n",
      "23 0.006393037434858247\n",
      "24 0.005605971871014756\n",
      "25 0.005071829815908379\n",
      "26 0.004727221784330938\n",
      "27 0.004523251613807506\n",
      "28 0.004411114014253792\n",
      "29 0.0043443702361867405\n",
      "30 0.004288894946046464\n",
      "31 0.004226023525983043\n",
      "32 0.0041487734319131525\n",
      "33 0.004056361825364704\n",
      "34 0.0039498651977406\n",
      "The number of gaussian for RGB using puzzle pixels is now: 5\n",
      "0 0.2777856406971439\n",
      "1 0.03789252768304229\n",
      "2 0.03643820675604445\n",
      "3 0.041278362062607016\n",
      "4 0.033131879976335044\n",
      "5 0.02525788096766197\n",
      "6 0.01757085028272792\n",
      "7 0.01104269379780206\n",
      "8 0.0075321673615402086\n",
      "9 0.006129432519310508\n",
      "10 0.005711796669037959\n",
      "11 0.005718779634388245\n",
      "12 0.005896609004404821\n",
      "13 0.006166804898836246\n",
      "14 0.006613027966475155\n",
      "15 0.007207642071806072\n",
      "16 0.0075485857349597415\n",
      "17 0.007340721484057473\n",
      "18 0.006781576505636059\n",
      "19 0.006302954464778387\n",
      "20 0.006128235312794755\n",
      "21 0.0061612221918999725\n",
      "22 0.006233365515356178\n",
      "23 0.00626810229375512\n",
      "24 0.006265205382560582\n",
      "25 0.006252444992108884\n",
      "26 0.0062610731115481134\n",
      "27 0.006319705414734522\n",
      "28 0.0064562010119406845\n",
      "29 0.0067030015054566\n",
      "30 0.007105343462914469\n",
      "31 0.007732483837948065\n",
      "32 0.00868362101669088\n",
      "33 0.01002790610726174\n",
      "34 0.011462650869647832\n"
     ]
    }
   ],
   "source": [
    "for i in range(1, 6):\n",
    "    print('The number of gaussian for RGB using puzzle pixels is now:',i)\n",
    "    pkl = open(\"gmm_puzzle-RGB-\"+str(i)+\".pickle\",\"wb\")\n",
    "    gmm = GMM_scratch(puzzle_pixel_RGB, i,0)#GMM with sklearn clustered centers\n",
    "    gmm.fit()\n",
    "    pickle.dump(gmm, pkl)\n",
    "    gmms_puzzle.append(gmm)\n",
    "    pkl.close()"
   ]
  },
  {
   "cell_type": "markdown",
   "metadata": {
    "id": "zI3vqXwLQe6N"
   },
   "source": [
    "The number of gaussian for RGB using puzzle pixels is now: 1\n",
    "0 0.30206418066900714\n",
    "1 0.0\n",
    "The number of gaussian for RGB using puzzle pixels is now: 2\n",
    "0 0.2834228136870068\n",
    "1 0.03395624781479698\n",
    "2 0.025511417468873303\n",
    "3 0.015347067905581711\n",
    "4 0.009737732203768135\n",
    "5 0.008377338667263241\n",
    "6 0.008885351998849168\n",
    "7 0.010046369000141544\n",
    "8 0.010690960958222603\n",
    "9 0.01039083804781045\n",
    "10 0.009373657325300511\n",
    "11 0.007499586595599497\n",
    "12 0.005460167783845445\n",
    "13 0.004153968890820491\n",
    "14 0.0033235832714088175\n",
    "15 0.0027562213739623365\n",
    "16 0.002313092788686695\n",
    "17 0.001936986792158626\n",
    "18 0.0016050336305080215\n",
    "19 0.0013111142377201773\n",
    "20 0.0010547293671513004\n",
    "21 0.0008356757367445764\n",
    "The number of gaussian for RGB using puzzle pixels is now: 3\n",
    "0 0.3209429610406065\n",
    "1 0.032106885977695565\n",
    "2 0.039318989982000396\n",
    "3 0.041437191080793544\n",
    "4 0.03744365693728192\n",
    "5 0.0295843267015046\n",
    "6 0.02030373029108133\n",
    "7 0.012099865687895006\n",
    "8 0.006264823602694478\n",
    "9 0.0028329661785721854\n",
    "10 0.001605870502558565\n",
    "11 0.0017015162696850789\n",
    "12 0.0018678875939886577\n",
    "13 0.0018780857909981648\n",
    "14 0.0017836145570207516\n",
    "15 0.0016380486688426716\n",
    "16 0.0014738902348065404\n",
    "17 0.0013087111690886198\n",
    "18 0.0011514569078369412\n",
    "19 0.0010063462773652807\n",
    "20 0.0008750362381359339\n",
    "The number of gaussian for RGB using puzzle pixels is now: 4\n",
    "0 0.5204680845000818\n",
    "1 0.050788036143467656\n",
    "2 0.04696257931493069\n",
    "3 0.04803686108205532\n",
    "4 0.05004861055851085\n",
    "5 0.04330196306389937\n",
    "6 0.029668134787414323\n",
    "7 0.020101296319106524\n",
    "8 0.017190703679791825\n",
    "9 0.01893164362174768\n",
    "10 0.022524080187852437\n",
    "11 0.024096242069565864\n",
    "12 0.025544064631828154\n",
    "13 0.02780542553041241\n",
    "14 0.02938337166240953\n",
    "15 0.028656837531907866\n",
    "16 0.025058390883763125\n",
    "17 0.020172996649024246\n",
    "18 0.016239465687505235\n",
    "19 0.013361954150003415\n",
    "20 0.011007122999735337\n",
    "21 0.009050036973376127\n",
    "22 0.007516943552787854\n",
    "23 0.006393037434858247\n",
    "24 0.005605971871014756\n",
    "25 0.005071829815908379\n",
    "26 0.004727221784330938\n",
    "27 0.004523251613807506\n",
    "28 0.004411114014253792\n",
    "29 0.0043443702361867405\n",
    "30 0.004288894946046464\n",
    "31 0.004226023525983043\n",
    "32 0.0041487734319131525\n",
    "33 0.004056361825364704\n",
    "34 0.0039498651977406\n",
    "The number of gaussian for RGB using puzzle pixels is now: 5\n",
    "0 0.2777856406971439\n",
    "1 0.03789252768304229\n",
    "2 0.03643820675604445\n",
    "3 0.041278362062607016\n",
    "4 0.033131879976335044\n",
    "5 0.02525788096766197\n",
    "6 0.01757085028272792\n",
    "7 0.01104269379780206\n",
    "8 0.0075321673615402086\n",
    "9 0.006129432519310508\n",
    "10 0.005711796669037959\n",
    "11 0.005718779634388245\n",
    "12 0.005896609004404821\n",
    "13 0.006166804898836246\n",
    "14 0.006613027966475155\n",
    "15 0.007207642071806072\n",
    "16 0.0075485857349597415\n",
    "17 0.007340721484057473\n",
    "18 0.006781576505636059\n",
    "19 0.006302954464778387\n",
    "20 0.006128235312794755\n",
    "21 0.0061612221918999725\n",
    "22 0.006233365515356178\n",
    "23 0.00626810229375512\n",
    "24 0.006265205382560582\n",
    "25 0.006252444992108884\n",
    "26 0.0062610731115481134\n",
    "27 0.006319705414734522\n",
    "28 0.0064562010119406845\n",
    "29 0.0067030015054566\n",
    "30 0.007105343462914469\n",
    "31 0.007732483837948065\n",
    "32 0.00868362101669088\n",
    "33 0.01002790610726174\n",
    "34 0.011462650869647832"
   ]
  },
  {
   "cell_type": "code",
   "execution_count": 13,
   "metadata": {
    "colab": {
     "base_uri": "https://localhost:8080/"
    },
    "executionInfo": {
     "elapsed": 15703576,
     "status": "ok",
     "timestamp": 1605368203596,
     "user": {
      "displayName": "Neil Fabião",
      "photoUrl": "https://lh3.googleusercontent.com/a-/AOh14GhMOq5Dk_mo2J1heKElAoyxZmCXn5wegT1VwobLmA=s64",
      "userId": "06437641205793281458"
     },
     "user_tz": -120
    },
    "id": "K1ST37ZmaKo4",
    "outputId": "6b7aadc9-310e-42e2-99c3-3fc427d7ec2d",
    "scrolled": true
   },
   "outputs": [
    {
     "name": "stdout",
     "output_type": "stream",
     "text": [
      "The number of gaussian for RGB using background pixels is now : 5\n",
      "0 0.19076091896861277\n",
      "1 0.014524179747719244\n",
      "2 0.01846189707663681\n",
      "3 0.01932848754856439\n",
      "4 0.017577816599472156\n",
      "5 0.015132886335581382\n",
      "6 0.012753227420864656\n",
      "7 0.010663640314073129\n",
      "8 0.00880478407501602\n",
      "9 0.007042921049922532\n",
      "10 0.005320234381704814\n",
      "11 0.00374095738724686\n",
      "12 0.002688660457132948\n",
      "13 0.0027262322961780975\n",
      "14 0.0035625444130800545\n",
      "15 0.004530867544054131\n",
      "16 0.005367626368300671\n",
      "17 0.006016021236026131\n",
      "18 0.006486138520249631\n",
      "19 0.006806729123203497\n",
      "20 0.0070072088372251954\n",
      "21 0.007111893104131094\n",
      "22 0.007137127391824679\n",
      "23 0.007095392900585789\n",
      "24 0.00699734574713006\n",
      "25 0.006851368065463407\n",
      "26 0.006664447810772647\n",
      "27 0.006443235653444501\n",
      "28 0.006194746906129325\n",
      "29 0.005925729110906772\n",
      "30 0.005641823459114679\n",
      "31 0.005348024472659917\n",
      "32 0.005048926561783277\n",
      "33 0.004749347740415896\n",
      "34 0.00445450778564072\n"
     ]
    }
   ],
   "source": [
    "for i in range(5, 6):\n",
    "    print('The number of gaussian for RGB using background pixels is now :',i)\n",
    "    pkl = open(\"drive/My Drive/CV project/gmm_background-RGB-\"+str(i)+\".pickle\",\"wb\")\n",
    "    gmm = GMM_scratch(background_pixel_RGB, i,0)#GMM with sklearn clustered centers\n",
    "    gmm.fit()\n",
    "    pickle.dump(gmm, pkl)\n",
    "    gmms_background.append(gmm)\n",
    "    pkl.close()"
   ]
  },
  {
   "cell_type": "markdown",
   "metadata": {
    "id": "x6irgbL_c2kb"
   },
   "source": [
    "The number of gaussian for RGB using background pixels is now : 1\n",
    "0 0.2620281731181492\n",
    "1 0.0\n",
    "The number of gaussian for RGB using background pixels is now : 2\n",
    "0 0.2365044768359056\n",
    "1 0.005336397355816069\n",
    "2 0.0061750252325789325\n",
    "3 0.007438679264001522\n",
    "4 0.00869534090079625\n",
    "5 0.009893248460080595\n",
    "6 0.01047796750535667\n",
    "7 0.010034628987294125\n",
    "8 0.00897423207314382\n",
    "9 0.007945912736253277\n",
    "10 0.007254453573004118\n",
    "11 0.0069259258756202095\n",
    "12 0.006896951535942605\n",
    "13 0.007105104315911454\n",
    "14 0.007505567666189871\n",
    "15 0.008052836661316863\n",
    "16 0.008646299490281496\n",
    "17 0.009085036282264362\n",
    "18 0.00911422748555953\n",
    "19 0.008616122296570307\n",
    "20 0.007737575266874235\n",
    "21 0.0067596053506744575\n",
    "22 0.0058828610181422955\n",
    "23 0.0051760232247935745\n",
    "24 0.004633408647923212\n",
    "25 0.004221990781644847\n",
    "26 0.0039059849871558175\n",
    "27 0.0036596615378310603\n",
    "28 0.0034656587815818708\n",
    "29 0.003311925675527684\n",
    "30 0.0031903170032496226\n",
    "31 0.0030953171584159585\n",
    "32 0.0030231298198479793\n",
    "33 0.0029711091632557587\n",
    "34 0.0029373738042444853\n",
    "The number of gaussian for RGB using background pixels is now : 3\n",
    "0 0.22286109519237135\n",
    "1 0.007669922210763213\n",
    "2 0.008900525588661777\n",
    "3 0.009956558694699642\n",
    "4 0.010052394529401376\n",
    "5 0.00983176644294368\n",
    "6 0.009463028703053124\n",
    "7 0.009061070561113974\n",
    "8 0.008999776062244605\n",
    "9 0.009486972067685454\n",
    "10 0.009853159522036484\n",
    "11 0.00925215251988826\n",
    "12 0.007782393938016966\n",
    "13 0.006156782598754218\n",
    "14 0.004924067740744368\n",
    "15 0.0042044931490617604\n",
    "16 0.003854987631041501\n",
    "17 0.0036882393117678935\n",
    "18 0.0035774633819066924\n",
    "19 0.0034575953508429067\n",
    "20 0.0033003911812695195\n",
    "21 0.0030979853743399407\n",
    "22 0.0028555021158941547\n",
    "23 0.0025874627946672526\n",
    "24 0.0023105961330558028\n",
    "25 0.002041235459770704\n",
    "26 0.0017918031657716176\n",
    "27 0.0015709878697486846\n",
    "28 0.001382921069306185\n",
    "29 0.0012263044154047398\n",
    "30 0.0010987217931062263\n",
    "31 0.0009958974910512057\n",
    "The number of gaussian for RGB using background pixels is now : 4\n",
    "0 0.23334378325332997\n",
    "1 0.016642271116933564\n",
    "2 0.011930849404542282\n",
    "3 0.00926631100997524\n",
    "4 0.007259320042253795\n",
    "5 0.0049920103973548425\n",
    "6 0.0034671172140336047\n",
    "7 0.002801269995475769\n",
    "8 0.002598586379826633\n",
    "9 0.0025587315041750956\n",
    "10 0.0025327412483331585\n",
    "11 0.0024722038462186052\n",
    "12 0.002375090803631578\n",
    "13 0.002253748166303796\n",
    "14 0.0021212982445376794\n",
    "15 0.0019874833014862834\n",
    "16 0.001858311314906556\n",
    "17 0.001736877475054717\n",
    "18 0.0016243312406380107\n",
    "19 0.0015206631570226106\n",
    "20 0.001425258275127897\n",
    "21 0.0013372512222971863\n",
    "22 0.001255735561376275\n",
    "23 0.0011798745215177027\n",
    "24 0.0011089491793371084\n",
    "25 0.001042369651303838\n",
    "26 0.000979666423781534\n",
    "The number of gaussian for RGB using background pixels is now : 5\n",
    "0 0.2413242197259287\n",
    "1 0.012445125174590416\n",
    "2 0.00534000970169766\n",
    "3 0.006301830565195205\n",
    "4 0.007695425732593032\n",
    "5 0.009414588841943555\n",
    "6 0.010599739985874252\n",
    "7 0.010284190403772132\n",
    "8 0.009083262521869775\n",
    "9 0.008019958793494103\n",
    "10 0.007354334431980132\n",
    "11 0.006919116257650058\n",
    "12 0.0065484864467500225\n",
    "13 0.006168880452126599\n",
    "14 0.005766880254887994\n",
    "15 0.005354308348727158\n",
    "16 0.004944398930903201\n",
    "17 0.004544946661612374\n",
    "18 0.004161388087728133\n",
    "19 0.003797253837885725\n",
    "20 0.0034530304067192626\n",
    "21 0.003129043658085864\n",
    "22 0.002825345701134414\n",
    "23 0.002543928767810862\n",
    "24 0.0022864215270424174\n",
    "25 0.002053077987227282\n",
    "26 0.0018436620566281226\n",
    "27 0.0016573399030942772\n",
    "28 0.001492645930669463\n",
    "29 0.0013476722834201808\n",
    "30 0.0012202391130399042\n",
    "31 0.0011081124242197315\n",
    "The number of gaussian for RGB using background pixels is now : 5\n",
    "0 0.19076091896861277\n",
    "1 0.014524179747719244\n",
    "2 0.01846189707663681\n",
    "3 0.01932848754856439\n",
    "4 0.017577816599472156\n",
    "5 0.015132886335581382\n",
    "6 0.012753227420864656\n",
    "7 0.010663640314073129\n",
    "8 0.00880478407501602\n",
    "9 0.007042921049922532\n",
    "10 0.005320234381704814\n",
    "11 0.00374095738724686\n",
    "12 0.002688660457132948\n",
    "13 0.0027262322961780975\n",
    "14 0.0035625444130800545\n",
    "15 0.004530867544054131\n",
    "16 0.005367626368300671\n",
    "17 0.006016021236026131\n",
    "18 0.006486138520249631\n",
    "19 0.006806729123203497\n",
    "20 0.0070072088372251954\n",
    "21 0.007111893104131094\n",
    "22 0.007137127391824679\n",
    "23 0.007095392900585789\n",
    "24 0.00699734574713006\n",
    "25 0.006851368065463407\n",
    "26 0.006664447810772647\n",
    "27 0.006443235653444501\n",
    "28 0.006194746906129325\n",
    "29 0.005925729110906772\n",
    "30 0.005641823459114679\n",
    "31 0.005348024472659917\n",
    "32 0.005048926561783277\n",
    "33 0.004749347740415896\n",
    "34 0.00445450778564072"
   ]
  },
  {
   "cell_type": "code",
   "execution_count": 14,
   "metadata": {
    "colab": {
     "base_uri": "https://localhost:8080/",
     "height": 320
    },
    "executionInfo": {
     "elapsed": 3158,
     "status": "ok",
     "timestamp": 1605368206787,
     "user": {
      "displayName": "Neil Fabião",
      "photoUrl": "https://lh3.googleusercontent.com/a-/AOh14GhMOq5Dk_mo2J1heKElAoyxZmCXn5wegT1VwobLmA=s64",
      "userId": "06437641205793281458"
     },
     "user_tz": -120
    },
    "id": "AKZw8nONaKo6",
    "outputId": "07eaa536-b215-4d7e-9411-68d1b1a58311"
   },
   "outputs": [
    {
     "data": {
      "image/png": "[encoded data removed]",
      "text/plain": [
       "<Figure size 1080x360 with 1 Axes>"
      ]
     },
     "metadata": {
      "needs_background": "light",
      "tags": []
     },
     "output_type": "display_data"
    }
   ],
   "source": [
    "# List1  \n",
    "tables = ['RGB 2 Gaussian', 'RGB 3 Gaussian', 'RGB 4 Gaussian', 'RGB 5 Gaussian']  \n",
    "\n",
    "#list 2 \n",
    "data2 = [0.031162469,0.02642044,0.014105668,0.007316382,0.0049300794,0.004275723,0.004040173,0.0038939836,0.0037687363\n",
    "         ,0.003646149,0.003520257,0.003389694,0.003254846,0.0031170838,0.0029780297,0.0028392419,0.0027018774,0.0025667995,0.0024338472\n",
    "         ,0.002302964,0.002173725,0.002045948,0.0019196745,0.0017950851,0.0016727871,0.001553313,0.0014372584,0.0013255242\n",
    "         ,0.0012185212,0.0011167492,0.0010204813,0.00093005924]\n",
    "\n",
    "data3 = [0.1642226,0.032175288,0.028973438,0.022455003,0.01782416,0.014909969,0.012232406,0.009978425,0.00810873,0.0066513317,\n",
    "         0.0056354576,0.005002256,0.004641046,0.004433941,0.0042875526,0.0041420935,0.003972685,0.0037822877,0.0035792654,0.0033680669\n",
    "         ,0.0031492189,0.0029225885,0.0026905006,0.0024597268,0.00223928,0.0020376586,0.0018610753,0.0017129963,0.0015938595,0.0015024877\n",
    "         ,0.0014363591,0.001392433,0.0013676098,0.0013588918,0.0013638848,0.0013803731,0.0014066859,0.0014414146,0.0014833916\n",
    "         ,0.0015316607,0.0015855003,0.0016441449,0.0017070763,0.001773692,0.0018435954,0.0019162259,0.0019912263,0.0020682018\n",
    "         ,0.0021468145,0.0022266987]\n",
    "\n",
    "data4 = [0.20942192,0.04047765,0.028566392,0.019869732,0.017617084,0.014938177,0.01217109,0.011096732,0.013317527,0.016561493\n",
    "         ,0.01728644,0.015327171,0.013212397,0.0119175445,0.010746815,0.009319098,0.0077207675,0.0061656744,0.004800063\n",
    "         ,0.0036831233,0.0028159104,0.00216907,0.0017016827,0.0013718273,0.0011414149,0.0009790746]\n",
    "\n",
    "data5 = [0.2619766,0.042591445,0.025249146,0.018886449,0.021239435,0.020605875,0.016957188,0.01248437,0.009071778\n",
    "         ,0.007923847,0.009261084,0.011743451,0.014399347,0.016486973,0.017407047,0.017305106,0.016964052,0.017043391\n",
    "         ,0.017746113,0.018703453,0.018821962,0.017809905,0.01647608,0.014609324,0.012554081,0.010665587,0.009038625\n",
    "         ,0.007648944,0.0064422744,0.0053806677,0.0044502816,0.0036496404,0.0029758532,0.002421091,0.0019720774,0.0016128886\n",
    "         ,0.0013276513,0.0011016229,0.0009220591]\n",
    "\n",
    "RGB2 = pd.DataFrame({tables[0]: data2})\n",
    "RGB3 = pd.DataFrame({tables[1]: data3})\n",
    "RGB4 = pd.DataFrame({tables[2]: data4})\n",
    "RGB5 = pd.DataFrame({tables[3]: data5})\n",
    "\n",
    "\n",
    "plt.figure(figsize=(15, 5))\n",
    "plt.plot(RGB2,label=\"RGB Kmeans 2 Gaussian\")\n",
    "plt.plot(RGB3,label=\"RGB Kmeans 3 Gaussian\")\n",
    "plt.plot(RGB4,label=\"RGB Kmeans 4 Gaussian\")\n",
    "plt.plot(RGB5,label=\"RGB Kmeans 5 Gaussian\")\n",
    "plt.legend()\n",
    "plt.show()"
   ]
  },
  {
   "cell_type": "markdown",
   "metadata": {
    "id": "qyKtfLvWaKpe"
   },
   "source": [
    "##### Metrics and ...."
   ]
  },
  {
   "cell_type": "code",
   "execution_count": 15,
   "metadata": {
    "executionInfo": {
     "elapsed": 3155,
     "status": "ok",
     "timestamp": 1605368206788,
     "user": {
      "displayName": "Neil Fabião",
      "photoUrl": "https://lh3.googleusercontent.com/a-/AOh14GhMOq5Dk_mo2J1heKElAoyxZmCXn5wegT1VwobLmA=s64",
      "userId": "06437641205793281458"
     },
     "user_tz": -120
    },
    "id": "7ZQ7gpPSaKpf"
   },
   "outputs": [],
   "source": [
    "def Metrics_CM_CK_IOU(test,index,images):\n",
    "    '''\n",
    "    Return the confusion matrix, the cohens kappa score and IOU (intersection over union)\n",
    "    for only 4 probable masks.\n",
    "    \n",
    "    params: \n",
    "    - test is the array containing the testing images\n",
    "    - index of the image that was used to generate the probable images\n",
    "    - image array containing all the image provided by the GMM (probable maks)\n",
    "    \n",
    "    '''\n",
    "    \n",
    "    main_mask = test[index]\n",
    "    main_mask = main_mask.flatten()\n",
    "\n",
    "    Prob_mask1 = images[0]\n",
    "    Prob_mask1 = Prob_mask1.flatten()\n",
    "\n",
    "    Prob_mask2 = images[1]\n",
    "    Prob_mask2 = Prob_mask2.flatten()\n",
    "\n",
    "    Prob_mask3 = images[2]\n",
    "    Prob_mask3 = Prob_mask3.flatten()\n",
    "    \n",
    "    Prob_mask4 = images[3]\n",
    "    Prob_mask4 = Prob_mask4.flatten()\n",
    "\n",
    "    model1 = confusion_matrix(main_mask, Prob_mask1)\n",
    "    print('This is the confusion matrix for mask',index,'and GMM mask 1: \\n',model1)\n",
    "\n",
    "    model2 = confusion_matrix(main_mask, Prob_mask2)\n",
    "    print('This is the confusion matrix for mask',index,'and GMM mask 2: \\n',model2)\n",
    "\n",
    "    model3 = confusion_matrix(main_mask, Prob_mask3)\n",
    "    print('This is the confusion matrix for mask',index,'and GMM mask 3: \\n',model3)\n",
    "    \n",
    "    model4 = confusion_matrix(main_mask, Prob_mask4)\n",
    "    print('This is the confusion matrix for mask',index,'and GMM mask 4: \\n',model4)\n",
    "\n",
    "    print('\\n')\n",
    "    \n",
    "    cohens_kappa1 = cohen_kappa_score(main_mask, Prob_mask1)\n",
    "    print('This is the cohens kappa score for mask',index,'and GMM mask 1:',cohens_kappa1)\n",
    "\n",
    "    cohens_kappa2 = cohen_kappa_score(main_mask, Prob_mask2)\n",
    "    print('This is the cohens kappa score for mask',index,'and GMM mask 2: ',cohens_kappa2)\n",
    "\n",
    "    cohens_kappa3 = cohen_kappa_score(main_mask, Prob_mask3)\n",
    "    print('This is the cohens kappa score for mask',index,'and GMM mask 3: ',cohens_kappa3)\n",
    "    \n",
    "    cohens_kappa4 = cohen_kappa_score(main_mask, Prob_mask4)\n",
    "    print('This is the cohens kappa score for mask',index,'and GMM mask 4:',cohens_kappa4)\n",
    "    \n",
    "    print('\\n')\n",
    "    \n",
    "    overlap = main_mask*Prob_mask1 # Logical AND\n",
    "    union = main_mask + Prob_mask1# Logical OR\n",
    "    IOU1 = overlap.sum()/float(union.sum())           \n",
    "    print('The intersection over union of the predicted GMM 1 and mask',index,': ',IOU1)\n",
    "\n",
    "    overlap = main_mask*Prob_mask2 \n",
    "    union = main_mask + Prob_mask2 # Logical OR\n",
    "    IOU2 = overlap.sum()/float(union.sum())      \n",
    "    print('The intersection over union of the predicted GMM 2 and mask',index,': ',IOU2) \n",
    "    \n",
    "    overlap = main_mask*Prob_mask3 # Logical AND\n",
    "    union = main_mask + Prob_mask3 # Logical OR\n",
    "    IOU3 = overlap.sum()/float(union.sum())         \n",
    "    print('The intersection over union of the predicted GMM 3 and mask',index,': ',IOU3)\n",
    "    \n",
    "    overlap = main_mask*Prob_mask4 # Logical AND\n",
    "    union = main_mask + Prob_mask4 # Logical OR\n",
    "    IOU4 = overlap.sum()/float(union.sum())         \n",
    "    print('The intersection over union of the predicted GMM 4 and mask',index,': ',IOU4)"
   ]
  },
  {
   "cell_type": "code",
   "execution_count": 20,
   "metadata": {
    "colab": {
     "base_uri": "https://localhost:8080/"
    },
    "executionInfo": {
     "elapsed": 1468,
     "status": "ok",
     "timestamp": 1605368679660,
     "user": {
      "displayName": "Neil Fabião",
      "photoUrl": "https://lh3.googleusercontent.com/a-/AOh14GhMOq5Dk_mo2J1heKElAoyxZmCXn5wegT1VwobLmA=s64",
      "userId": "06437641205793281458"
     },
     "user_tz": -120
    },
    "id": "z_5xHra2baAv",
    "outputId": "b79612ac-d31e-467b-d4f4-c4ad700964f1"
   },
   "outputs": [
    {
     "name": "stdout",
     "output_type": "stream",
     "text": [
      "gmm_background-RGB-1.pickle  gmm_puzzle-RGB-1.pickle\n",
      "gmm_background-RGB-2.pickle  gmm_puzzle-RGB-2.pickle\n",
      "gmm_background-RGB-3.pickle  gmm_puzzle-RGB-3.pickle\n",
      "gmm_background-RGB-4.pickle  gmm_puzzle-RGB-4.pickle\n",
      "gmm_background-RGB-5.pickle  gmm_puzzle-RGB-5.pickle\n"
     ]
    }
   ],
   "source": [
    "! ls 'drive/My Drive/CV project/pickles/'"
   ]
  },
  {
   "cell_type": "code",
   "execution_count": 21,
   "metadata": {
    "colab": {
     "base_uri": "https://localhost:8080/"
    },
    "executionInfo": {
     "elapsed": 2604,
     "status": "ok",
     "timestamp": 1605368698212,
     "user": {
      "displayName": "Neil Fabião",
      "photoUrl": "https://lh3.googleusercontent.com/a-/AOh14GhMOq5Dk_mo2J1heKElAoyxZmCXn5wegT1VwobLmA=s64",
      "userId": "06437641205793281458"
     },
     "user_tz": -120
    },
    "id": "mV-IBWvWaKpg",
    "outputId": "fb5ecc70-64ac-4115-8115-da938d9ad9e0",
    "scrolled": true
   },
   "outputs": [
    {
     "name": "stdout",
     "output_type": "stream",
     "text": [
      "The accuracy for GMM 2 is : 98.85834591244935\n",
      "The accuracy for GMM 3 is : 98.87582426312862\n",
      "The accuracy for GMM 4 is : 98.80034956701358\n",
      "The accuracy for GMM 5 is : 98.72249145944228\n"
     ]
    }
   ],
   "source": [
    "images_RGB = []\n",
    "probs = []\n",
    "for i in range(2, 6):\n",
    "    pickle_off0 = open(\"drive/My Drive/CV project/pickles/gmm_puzzle-RGB-\"+str(i)+\".pickle\",\"rb\")\n",
    "    gmm_puzzle = pickle.load(pickle_off0)\n",
    "    \n",
    "    pickle_off1 = open(\"drive/My Drive/CV project/pickles/gmm_background-RGB-\"+str(i)+\".pickle\",\"rb\")\n",
    "    gmm_background = pickle.load(pickle_off1)\n",
    "    \n",
    "    index = 3\n",
    "    image, mask = (test_X[index], test_y[index])\n",
    "\n",
    "    ##### The inference as specified in the question using the background and the puzzle pixels gmm\n",
    "    likelihood1 = gmm_background.Proba(image) #probability of being background\n",
    "    likelihood2 = gmm_puzzle.Proba(image) #probability of being foreground\n",
    "    \n",
    "    prior1 = prior_RGB\n",
    "    prior2 = 1 - prior_RGB \n",
    "    \n",
    "    foreground_prior = prior2 * likelihood2\n",
    "    Background_prior = foreground_prior + (prior1 * likelihood1)\n",
    "    \n",
    "    prob = foreground_prior/Background_prior   \n",
    "    #######\n",
    "    \n",
    "    prob[prob>0.5] = 1\n",
    "    prob[prob<0.5] = 0\n",
    "    \n",
    "    images_RGB.append(prob)\n",
    "    \n",
    "    prob = prob.ravel().astype(int)\n",
    "    mask = mask.ravel()\n",
    "    score = accuracy_score(mask, prob)*100\n",
    "    print(\"The accuracy for GMM\",i,\"is :\",score)\n",
    "    probs.append(prob)"
   ]
  },
  {
   "cell_type": "code",
   "execution_count": 22,
   "metadata": {
    "colab": {
     "base_uri": "https://localhost:8080/",
     "height": 998
    },
    "executionInfo": {
     "elapsed": 2615,
     "status": "ok",
     "timestamp": 1605368705476,
     "user": {
      "displayName": "Neil Fabião",
      "photoUrl": "https://lh3.googleusercontent.com/a-/AOh14GhMOq5Dk_mo2J1heKElAoyxZmCXn5wegT1VwobLmA=s64",
      "userId": "06437641205793281458"
     },
     "user_tz": -120
    },
    "id": "75MDwlr6aKpi",
    "outputId": "8df74978-5e70-496f-bd30-83aa561811ed"
   },
   "outputs": [
    {
     "data": {
      "image/png": "[encoded data removed]",
      "text/plain": [
       "<Figure size 1440x2880 with 4 Axes>"
      ]
     },
     "metadata": {
      "needs_background": "light",
      "tags": []
     },
     "output_type": "display_data"
    }
   ],
   "source": [
    "visualize(images_RGB)"
   ]
  },
  {
   "cell_type": "code",
   "execution_count": 23,
   "metadata": {
    "colab": {
     "base_uri": "https://localhost:8080/"
    },
    "executionInfo": {
     "elapsed": 3748,
     "status": "ok",
     "timestamp": 1605368713833,
     "user": {
      "displayName": "Neil Fabião",
      "photoUrl": "https://lh3.googleusercontent.com/a-/AOh14GhMOq5Dk_mo2J1heKElAoyxZmCXn5wegT1VwobLmA=s64",
      "userId": "06437641205793281458"
     },
     "user_tz": -120
    },
    "id": "rpbRj42LaKpk",
    "outputId": "8c675c41-4df7-4f9c-fdef-af7a82fa6bac"
   },
   "outputs": [
    {
     "name": "stdout",
     "output_type": "stream",
     "text": [
      "This is the confusion matrix for mask 3 and GMM mask 1: \n",
      " [[91671   646]\n",
      " [  791 32762]]\n",
      "This is the confusion matrix for mask 3 and GMM mask 2: \n",
      " [[91177  1140]\n",
      " [  275 33278]]\n",
      "This is the confusion matrix for mask 3 and GMM mask 3: \n",
      " [[91474   843]\n",
      " [  667 32886]]\n",
      "This is the confusion matrix for mask 3 and GMM mask 4: \n",
      " [[91465   852]\n",
      " [  756 32797]]\n",
      "\n",
      "\n",
      "This is the cohens kappa score for mask 3 and GMM mask 1: 0.9707629389386644\n",
      "This is the cohens kappa score for mask 3 and GMM mask 2:  0.9714841223778546\n",
      "This is the cohens kappa score for mask 3 and GMM mask 3:  0.9693710786197671\n",
      "This is the cohens kappa score for mask 3 and GMM mask 4: 0.9673585124948448\n",
      "\n",
      "\n",
      "The intersection over union of the predicted GMM 1 and mask 3 :  0.48926987350846013\n",
      "The intersection over union of the predicted GMM 2 and mask 3 :  0.4895911491665563\n",
      "The intersection over union of the predicted GMM 3 and mask 3 :  0.48877857376415684\n",
      "The intersection over union of the predicted GMM 4 and mask 3 :  0.488036070355049\n"
     ]
    }
   ],
   "source": [
    "Metrics_CM_CK_IOU(test_y,index,images_RGB)"
   ]
  },
  {
   "cell_type": "markdown",
   "metadata": {
    "id": "UVgHkfZGaKpl"
   },
   "source": [
    "#### testing GMM with random initialized means"
   ]
  },
  {
   "cell_type": "code",
   "execution_count": 1,
   "metadata": {
    "colab": {
     "base_uri": "https://localhost:8080/",
     "height": 249
    },
    "executionInfo": {
     "elapsed": 1558,
     "status": "error",
     "timestamp": 1605351749535,
     "user": {
      "displayName": "Neil Fabião",
      "photoUrl": "https://lh3.googleusercontent.com/a-/AOh14GhMOq5Dk_mo2J1heKElAoyxZmCXn5wegT1VwobLmA=s64",
      "userId": "06437641205793281458"
     },
     "user_tz": -120
    },
    "id": "NWNh2NHkaKpl",
    "outputId": "8e087f19-ac49-4601-f083-2c937a86f0a8",
    "scrolled": false
   },
   "outputs": [
    {
     "name": "stdout",
     "output_type": "stream",
     "text": [
      "The number of gaussian for RGB using puzzle pixels is now: 1\n"
     ]
    },
    {
     "ename": "FileNotFoundError",
     "evalue": "ignored",
     "output_type": "error",
     "traceback": [
      "\u001b[0;31m---------------------------------------------------------------------------\u001b[0m",
      "\u001b[0;31mFileNotFoundError\u001b[0m                         Traceback (most recent call last)",
      "\u001b[0;32m<ipython-input-1-d3921a3a4592>\u001b[0m in \u001b[0;36m<module>\u001b[0;34m()\u001b[0m\n\u001b[1;32m      3\u001b[0m \u001b[0;32mfor\u001b[0m \u001b[0mi\u001b[0m \u001b[0;32min\u001b[0m \u001b[0mrange\u001b[0m\u001b[0;34m(\u001b[0m\u001b[0;36m1\u001b[0m\u001b[0;34m,\u001b[0m \u001b[0;36m6\u001b[0m\u001b[0;34m)\u001b[0m\u001b[0;34m:\u001b[0m\u001b[0;34m\u001b[0m\u001b[0;34m\u001b[0m\u001b[0m\n\u001b[1;32m      4\u001b[0m     \u001b[0mprint\u001b[0m\u001b[0;34m(\u001b[0m\u001b[0;34m'The number of gaussian for RGB using puzzle pixels is now:'\u001b[0m\u001b[0;34m,\u001b[0m\u001b[0mi\u001b[0m\u001b[0;34m)\u001b[0m\u001b[0;34m\u001b[0m\u001b[0;34m\u001b[0m\u001b[0m\n\u001b[0;32m----> 5\u001b[0;31m     \u001b[0mpkl\u001b[0m \u001b[0;34m=\u001b[0m \u001b[0mopen\u001b[0m\u001b[0;34m(\u001b[0m\u001b[0;34m\"drive/My Drive/CV project/gmm_puzzle-RGBKmeans-\"\u001b[0m\u001b[0;34m+\u001b[0m\u001b[0mstr\u001b[0m\u001b[0;34m(\u001b[0m\u001b[0mi\u001b[0m\u001b[0;34m)\u001b[0m\u001b[0;34m+\u001b[0m\u001b[0;34m\".pickle\"\u001b[0m\u001b[0;34m,\u001b[0m\u001b[0;34m\"wb\"\u001b[0m\u001b[0;34m)\u001b[0m\u001b[0;34m\u001b[0m\u001b[0;34m\u001b[0m\u001b[0m\n\u001b[0m\u001b[1;32m      6\u001b[0m     \u001b[0mgmm\u001b[0m \u001b[0;34m=\u001b[0m \u001b[0mGMM_scratch\u001b[0m\u001b[0;34m(\u001b[0m\u001b[0mpuzzle_pixel_RGB\u001b[0m\u001b[0;34m,\u001b[0m \u001b[0mi\u001b[0m\u001b[0;34m,\u001b[0m\u001b[0;36m1\u001b[0m\u001b[0;34m)\u001b[0m\u001b[0;31m#GMM with sklearn clustered centers\u001b[0m\u001b[0;34m\u001b[0m\u001b[0;34m\u001b[0m\u001b[0m\n\u001b[1;32m      7\u001b[0m     \u001b[0mgmm\u001b[0m\u001b[0;34m.\u001b[0m\u001b[0mfit\u001b[0m\u001b[0;34m(\u001b[0m\u001b[0;34m)\u001b[0m\u001b[0;34m\u001b[0m\u001b[0;34m\u001b[0m\u001b[0m\n",
      "\u001b[0;31mFileNotFoundError\u001b[0m: [Errno 2] No such file or directory: 'drive/My Drive/CV project/gmm_puzzle-RGBKmeans-1.pickle'"
     ]
    }
   ],
   "source": [
    "gmms_puzzle = []\n",
    "gmms_background = []\n",
    "for i in range(1, 6):\n",
    "    print('The number of gaussian for RGB using puzzle pixels is now:',i)\n",
    "    pkl = open(\"gmm_puzzle-RGBKmeans-\"+str(i)+\".pickle\",\"wb\")\n",
    "    gmm = GMM_scratch(puzzle_pixel_RGB, i,1)#GMM with sklearn clustered centers\n",
    "    gmm.fit()\n",
    "    pickle.dump(gmm, pkl)\n",
    "    gmms_puzzle.append(gmm)\n",
    "    pkl.close()"
   ]
  },
  {
   "cell_type": "code",
   "execution_count": 2,
   "metadata": {
    "colab": {
     "base_uri": "https://localhost:8080/",
     "height": 249
    },
    "executionInfo": {
     "elapsed": 2389,
     "status": "error",
     "timestamp": 1605351750371,
     "user": {
      "displayName": "Neil Fabião",
      "photoUrl": "https://lh3.googleusercontent.com/a-/AOh14GhMOq5Dk_mo2J1heKElAoyxZmCXn5wegT1VwobLmA=s64",
      "userId": "06437641205793281458"
     },
     "user_tz": -120
    },
    "id": "2A1A5BNYaKp8",
    "outputId": "9c3ec508-57ca-4ef8-fbb0-789224bebbe1"
   },
   "outputs": [
    {
     "name": "stdout",
     "output_type": "stream",
     "text": [
      "The number of gaussian for RGB using background pixels is now : 1\n"
     ]
    },
    {
     "ename": "FileNotFoundError",
     "evalue": "ignored",
     "output_type": "error",
     "traceback": [
      "\u001b[0;31m---------------------------------------------------------------------------\u001b[0m",
      "\u001b[0;31mFileNotFoundError\u001b[0m                         Traceback (most recent call last)",
      "\u001b[0;32m<ipython-input-2-cd5bba461db7>\u001b[0m in \u001b[0;36m<module>\u001b[0;34m()\u001b[0m\n\u001b[1;32m      1\u001b[0m \u001b[0;32mfor\u001b[0m \u001b[0mi\u001b[0m \u001b[0;32min\u001b[0m \u001b[0mrange\u001b[0m\u001b[0;34m(\u001b[0m\u001b[0;36m1\u001b[0m\u001b[0;34m,\u001b[0m \u001b[0;36m6\u001b[0m\u001b[0;34m)\u001b[0m\u001b[0;34m:\u001b[0m\u001b[0;34m\u001b[0m\u001b[0;34m\u001b[0m\u001b[0m\n\u001b[1;32m      2\u001b[0m     \u001b[0mprint\u001b[0m\u001b[0;34m(\u001b[0m\u001b[0;34m'The number of gaussian for RGB using background pixels is now :'\u001b[0m\u001b[0;34m,\u001b[0m\u001b[0mi\u001b[0m\u001b[0;34m)\u001b[0m\u001b[0;34m\u001b[0m\u001b[0;34m\u001b[0m\u001b[0m\n\u001b[0;32m----> 3\u001b[0;31m     \u001b[0mpkl\u001b[0m \u001b[0;34m=\u001b[0m \u001b[0mopen\u001b[0m\u001b[0;34m(\u001b[0m\u001b[0;34m\"drive/My Drive/CV project/gmm_background-RGBKmeans-final\"\u001b[0m\u001b[0;34m+\u001b[0m\u001b[0mstr\u001b[0m\u001b[0;34m(\u001b[0m\u001b[0mi\u001b[0m\u001b[0;34m)\u001b[0m\u001b[0;34m+\u001b[0m\u001b[0;34m\".pickle\"\u001b[0m\u001b[0;34m,\u001b[0m\u001b[0;34m\"wb\"\u001b[0m\u001b[0;34m)\u001b[0m\u001b[0;34m\u001b[0m\u001b[0;34m\u001b[0m\u001b[0m\n\u001b[0m\u001b[1;32m      4\u001b[0m     \u001b[0mgmm\u001b[0m \u001b[0;34m=\u001b[0m \u001b[0mGMM_scratch\u001b[0m\u001b[0;34m(\u001b[0m\u001b[0mbackground_pixel_RGB\u001b[0m\u001b[0;34m,\u001b[0m \u001b[0mi\u001b[0m\u001b[0;34m,\u001b[0m\u001b[0;36m1\u001b[0m\u001b[0;34m)\u001b[0m\u001b[0;31m#GMM with sklearn clustered centers\u001b[0m\u001b[0;34m\u001b[0m\u001b[0;34m\u001b[0m\u001b[0m\n\u001b[1;32m      5\u001b[0m     \u001b[0mgmm\u001b[0m\u001b[0;34m.\u001b[0m\u001b[0mfit\u001b[0m\u001b[0;34m(\u001b[0m\u001b[0;34m)\u001b[0m\u001b[0;34m\u001b[0m\u001b[0;34m\u001b[0m\u001b[0m\n",
      "\u001b[0;31mFileNotFoundError\u001b[0m: [Errno 2] No such file or directory: 'drive/My Drive/CV project/gmm_background-RGBKmeans-final1.pickle'"
     ]
    }
   ],
   "source": [
    "for i in range(1, 6):\n",
    "    print('The number of gaussian for RGB using background pixels is now :',i)\n",
    "    pkl = open(\"gmm_background-RGBKmeans-\"+str(i)+\".pickle\",\"wb\")\n",
    "    gmm = GMM_scratch(background_pixel_RGB, i,1)#GMM with sklearn clustered centers\n",
    "    gmm.fit()\n",
    "    pickle.dump(gmm, pkl)\n",
    "    gmms_background.append(gmm)\n",
    "    pkl.close()"
   ]
  },
  {
   "cell_type": "markdown",
   "metadata": {
    "id": "6hTdf-opaKqS"
   },
   "source": []
  },
  {
   "cell_type": "code",
   "execution_count": null,
   "metadata": {
    "id": "CN8l2goDaKqT"
   },
   "outputs": [],
   "source": [
    "# List1  \n",
    "tables = ['RGB 2 Gaussian', 'RGB 3 Gaussian', 'RGB 4 Gaussian', 'RGB 5 Gaussian']  \n",
    "\n",
    "# List2\n",
    "data2 = [0.3789598549406549,0.005912747437482601,0.00627124393682809,0.008830941482259571,0.009962485766560827\n",
    "         ,0.010439943858705556 ,0.010626283549042269,0.010736059462937096,0.010837188737017025,0.01086756496398512\n",
    "         ,0.010678440071510212,0.01013798001725074,0.009265088617225909,0.00821568927796391,0.00715791745934224\n",
    "         ,0.006187936547252256,0.005340751024043299,0.004624147086191664,0.004031377137060641,0.0035421586324774516\n",
    "         ,0.0031268406193187305,0.0027561465366564685,0.0024087859194614003,0.0020728063157361477,0.0017459856098482273\n",
    "         ,0.001436957250396181,0.001160112911873539,0.0009256222871916343]\n",
    "\n",
    "data3 = [0.3389909976687044,0.030650973313542006,0.032711684421469454,0.028521449377829532,0.017727295995987366\n",
    "         ,0.008798968119528157,0.006963373960539044,0.008955244527112874,0.011260001764205668,0.01316691084499404\n",
    "         ,0.01431559452470824,0.014494571152618293,0.01377104166508792,0.012439516686957532,0.010849426421301685\n",
    "         ,0.009270198063609476,0.007855191469227469,0.006665269790017059,0.005704306985800895,0.004947087691251389\n",
    "         ,0.004357259395319978,0.003897672903485296,0.003535617015463614,0.003244777773994882,0.0030052564170853354\n",
    "         ,0.002802650456169163,0.0026268487341058943,0.0024708907172266183,0.002330041035652808,0.0022011020753179137\n",
    "         ,0.002081923579595236,0.0019710566131823266,0.0018675108859214809,0.0017705873083237902,0.0016797655810983935\n",
    "         ,0.0015946313042896965,0.0015148306181295883,0.0014400434121893309,0.0013699686462841031,0.0013043172790255769\n",
    "         ,0.0012428097341157917,0.0011851758754200293,0.001131156137391279,0.001080503019449246,0.0010329824538381398\n",
    "         ,0.0009883748022331438]\n",
    "\n",
    "data4 = [0.4726716876273368,0.038345320431562906,0.03755728042844828,0.033935873733342364,0.02764851540379715\n",
    "         ,0.02406500905306339,0.022570820767554782,0.020128054434702378,0.0172829741884383,0.015390538056937271\n",
    "         ,0.014419701742668852,0.01399582893397443,0.013869896082453731,0.013852222729527186,0.013717618347257984\n",
    "         ,0.013277725857428093,0.012061261852683592,0.010269857362187268,0.008456363759133967,0.006856788956819333\n",
    "         ,0.005520289833063332,0.0044282169307221925,0.0035440058715034885,0.002831068804501968,0.0022577636270079645\n",
    "         ,0.001797862409359106,0.0014298427244396235,0.0011360732094229371,0.0009021326273430514]\n",
    "\n",
    "data5 = [0.1774501219245029,0.0457890817690006,0.03822270916344246,0.028905871414910522,0.026981528349663213\n",
    "         ,0.030772479783247653,0.035845644676420076,0.03987909655057639,0.03257402881953323,0.022888207565545826\n",
    "         ,0.017974940281576708,0.014689956363517746,0.011071659766587642,0.008062292808058823,0.005940094816263\n",
    "         ,0.004494259328810685,0.0035177236564509144,0.0028735498690332186,0.0024590329353208853,0.0021930216857179666\n",
    "         ,0.0020162971730416203,0.0018900563874088173,0.0017909218620959606,0.0017055740666013636,0.0016267545132325248\n",
    "         ,0.0015507308382407773,0.0014757856577870684,0.0014013286313611939,0.0013273734335972145,0.0012542292469942386\n",
    "         ,0.001182320608663569,0.0011120852373489635,0.0010439195299267387,0.0009781529976211792]\n",
    "\n",
    "\n",
    "RGB2 = pd.DataFrame({tables[0]: data2})\n",
    "RGB3 = pd.DataFrame({tables[1]: data3})\n",
    "RGB4 = pd.DataFrame({tables[2]: data4})\n",
    "RGB5 = pd.DataFrame({tables[3]: data5})\n",
    "\n",
    "\n",
    "plt.figure(figsize=(15, 5))\n",
    "plt.plot(RGB2,label=\"RGB with random initialization 2 Gaussian\")\n",
    "plt.plot(RGB3,label=\"RGB with random initialization 3 Gaussian\")\n",
    "plt.plot(RGB4,label=\"RGB with random initialization 4 Gaussian\")\n",
    "plt.plot(RGB5,label=\"RGB with random initialization 5 Gaussian\")\n",
    "plt.legend()\n",
    "plt.show()"
   ]
  },
  {
   "cell_type": "code",
   "execution_count": null,
   "metadata": {
    "id": "jFgL_XC3aKqe"
   },
   "outputs": [],
   "source": [
    "images_RGB = []\n",
    "probs = []\n",
    "for i in range(2, 6):\n",
    "    pickle_off0 = open(\"drive/My Drive/CV project/pickles/gmm_puzzle-RGBKmeans-\"+str(i)+\".pickle\",\"rb\")\n",
    "    gmm_puzzle = pickle.load(pickle_off0)\n",
    "    \n",
    "    pickle_off1 = open(\"drive/My Drive/CV project/pickles/gmm_background-RGBKmeans-\"+str(i)+\".pickle\",\"rb\")\n",
    "    gmm_background = pickle.load(pickle_off1)\n",
    "    \n",
    "    index = 3\n",
    "    image, mask = (test_X[index], test_y[index])\n",
    "\n",
    "    ##### The inference as specified in the question using the background and the puzzle pixels gmm\n",
    "    likelihood1 = gmm_background.Proba(image) #probability of being background\n",
    "    likelihood2 = gmm_puzzle.Proba(image) #probability of being foreground\n",
    "    \n",
    "    prior1 = prior_RGB\n",
    "    prior2 = 1 - prior_RGB \n",
    "    \n",
    "    foreground_prior = prior2 * likelihood2\n",
    "    Background_prior = foreground_prior + (prior1 * likelihood1)\n",
    "    \n",
    "    prob = foreground_prior/Background_prior   \n",
    "    #######\n",
    "    \n",
    "    prob[prob>0.5] = 1\n",
    "    prob[prob<0.5] = 0\n",
    "    \n",
    "    images_RGB.append(prob)\n",
    "    \n",
    "    prob = prob.ravel().astype(int)\n",
    "    mask = mask.ravel()\n",
    "    score = accuracy_score(mask, prob)*100\n",
    "    print(\"The accuracy for GMM\",i,\"is :\",score)\n",
    "    probs.append(prob)"
   ]
  },
  {
   "cell_type": "code",
   "execution_count": null,
   "metadata": {
    "id": "_kktaW-CaKqr"
   },
   "outputs": [],
   "source": [
    "visualize(images_RGB)"
   ]
  },
  {
   "cell_type": "code",
   "execution_count": null,
   "metadata": {
    "id": "Rd-NgJrUaKqt"
   },
   "outputs": [],
   "source": [
    "Metrics_CM_CK_IOU(test_y,testing_image,images_RGB)"
   ]
  },
  {
   "cell_type": "markdown",
   "metadata": {
    "id": "zTqC0hv2aKqu"
   },
   "source": [
    "#### 3.2 RGB+Difference of Gaussian\n",
    "\n",
    "Retreiving RGB+DOG pixel values in image and creating the second feature vector of the lab."
   ]
  },
  {
   "cell_type": "code",
   "execution_count": 12,
   "metadata": {
    "executionInfo": {
     "elapsed": 1369,
     "status": "ok",
     "timestamp": 1605368729164,
     "user": {
      "displayName": "Neil Fabião",
      "photoUrl": "https://lh3.googleusercontent.com/a-/AOh14GhMOq5Dk_mo2J1heKElAoyxZmCXn5wegT1VwobLmA=s64",
      "userId": "06437641205793281458"
     },
     "user_tz": -120
    },
    "id": "KG_ql3BDaKqv"
   },
   "outputs": [],
   "source": [
    "def DoG(size,sig,k):\n",
    "    s = int(size/2)\n",
    "    kernel = np.zeros( (size,size),np.float32)\n",
    "    \n",
    "    for x in range(-s,s-1):\n",
    "        for y in range(-s,s-1):\n",
    "            part1 = (1/(2*np.pi*sig**2))\n",
    "            part2 = np.exp(-1*((x**2+y**2))/(2*sig**2) ) \n",
    "            part3 = (1/(2*np.pi*k**2*sig**2))*np.exp(-1*((x**2 + y**2))/(2*k**2*sig**2))\n",
    "            \n",
    "            kernel[x+s,y+s] = part1*part2-part3\n",
    "            \n",
    "    return kernel"
   ]
  },
  {
   "cell_type": "code",
   "execution_count": 13,
   "metadata": {
    "colab": {
     "base_uri": "https://localhost:8080/",
     "height": 267
    },
    "executionInfo": {
     "elapsed": 1020,
     "status": "ok",
     "timestamp": 1605368729165,
     "user": {
      "displayName": "Neil Fabião",
      "photoUrl": "https://lh3.googleusercontent.com/a-/AOh14GhMOq5Dk_mo2J1heKElAoyxZmCXn5wegT1VwobLmA=s64",
      "userId": "06437641205793281458"
     },
     "user_tz": -120
    },
    "id": "5SD5pcWmaKq8",
    "outputId": "cf9872dd-8f72-4049-c4e4-f434247bcb82",
    "scrolled": true
   },
   "outputs": [
    {
     "data": {
      "image/png": "[encoded data removed]",
      "text/plain": [
       "<Figure size 432x288 with 1 Axes>"
      ]
     },
     "metadata": {
      "needs_background": "light"
     },
     "output_type": "display_data"
    }
   ],
   "source": [
    "plt.imshow(DoG(49,3,2),cmap='inferno')\n",
    "plt.show()"
   ]
  },
  {
   "cell_type": "code",
   "execution_count": 26,
   "metadata": {
    "executionInfo": {
     "elapsed": 2650,
     "status": "ok",
     "timestamp": 1605368731241,
     "user": {
      "displayName": "Neil Fabião",
      "photoUrl": "https://lh3.googleusercontent.com/a-/AOh14GhMOq5Dk_mo2J1heKElAoyxZmCXn5wegT1VwobLmA=s64",
      "userId": "06437641205793281458"
     },
     "user_tz": -120
    },
    "id": "z3LMGpoaaKq-"
   },
   "outputs": [],
   "source": [
    "train_X_DoG = []\n",
    "for i in range(len(train_X)):\n",
    "    test_DoG = cv2.filter2D(train_X[i],-1,DoG(49,3,2))\n",
    "    train_X_DoG.append(exposure.rescale_intensity(test_DoG))"
   ]
  },
  {
   "cell_type": "code",
   "execution_count": 27,
   "metadata": {
    "executionInfo": {
     "elapsed": 2164,
     "status": "ok",
     "timestamp": 1605368731242,
     "user": {
      "displayName": "Neil Fabião",
      "photoUrl": "https://lh3.googleusercontent.com/a-/AOh14GhMOq5Dk_mo2J1heKElAoyxZmCXn5wegT1VwobLmA=s64",
      "userId": "06437641205793281458"
     },
     "user_tz": -120
    },
    "id": "cOxo9qbuaKq_"
   },
   "outputs": [],
   "source": [
    "puzzle_pixel_DOG, background_pixel_DOG, prior_DOG = Puzzle_background_Pixels_one(30,train_X_DoG,train_y)\n",
    "\n",
    "#feature vector\n",
    "puzzle_pixel_RGBDOG = np.vstack((puzzle_pixel_RGB, puzzle_pixel_DOG))\n",
    "background_pixel_RGBDOG = np.vstack((background_pixel_RGB, background_pixel_DOG))\n",
    "prior_RGBDOG = prior_RGB + prior_DOG"
   ]
  },
  {
   "cell_type": "code",
   "execution_count": null,
   "metadata": {
    "colab": {
     "base_uri": "https://localhost:8080/"
    },
    "id": "fRS2WpYjaKrA",
    "outputId": "8b566b60-3329-42be-e405-0af2cd1a58c3",
    "scrolled": false
   },
   "outputs": [
    {
     "name": "stdout",
     "output_type": "stream",
     "text": [
      "The number of gaussian for RGBDOG using puzzle pixels is now: 1\n",
      "0 0.6356147979796878\n",
      "1 0.0\n",
      "The number of gaussian for RGBDOG using puzzle pixels is now: 2\n",
      "0 0.2217755804169426\n",
      "1 0.022893671543873822\n",
      "2 0.027863087386992124\n",
      "3 0.027643131546303722\n",
      "4 0.02480834728934814\n",
      "5 0.020568335906261597\n",
      "6 0.01592744238800988\n",
      "7 0.016470806986305816\n",
      "8 0.021280123350465217\n",
      "9 0.014607688265745962\n",
      "10 0.00806364011026504\n",
      "11 0.004517463547167286\n",
      "12 0.003294931073367009\n",
      "13 0.003204044993591653\n",
      "14 0.0032448495268432645\n",
      "15 0.003128031675962036\n",
      "16 0.002859331404283084\n",
      "17 0.002504166407623044\n",
      "18 0.0021236714620969186\n",
      "19 0.0017597897394905123\n",
      "20 0.001435450388826986\n",
      "21 0.001159475287670591\n",
      "22 0.0009318428369358146\n",
      "The number of gaussian for RGBDOG using puzzle pixels is now: 3\n",
      "0 0.5311656780134593\n",
      "1 0.01460672304584891\n",
      "2 0.022940694302994637\n",
      "3 0.02148068175837566\n",
      "4 0.027307904098857066\n",
      "5 0.038394103969634275\n",
      "6 0.041424150665510875\n",
      "7 0.037085324353780875\n",
      "8 0.029639470247929744\n",
      "9 0.022417512973870474\n",
      "10 0.016798443645202672\n",
      "11 0.012831272160065332\n",
      "12 0.010135043305790509\n",
      "13 0.008318238966950619\n",
      "14 0.0070849250418600065\n",
      "15 0.006233027852274089\n",
      "16 0.0056298408562661904\n",
      "17 0.0051893330356034325\n",
      "18 0.004855777332021431\n",
      "19 0.004592934159778181\n",
      "20 0.004377158767627608\n",
      "21 0.00419305861290222\n",
      "22 0.004030746537482502\n",
      "23 0.0038840752258267387\n",
      "24 0.0037494698850857504\n",
      "25 0.003625124368341276\n",
      "26 0.003510419600851189\n",
      "27 0.0034054829881425153\n",
      "28 0.0033108461298692977\n",
      "29 0.0032271823607339005\n",
      "30 0.0031551187813841073\n",
      "31 0.0030951214675669215\n",
      "32 0.003047449743423689\n",
      "33 0.0030121689267141936\n",
      "34 0.0029892045787502587\n",
      "The number of gaussian for RGBDOG using puzzle pixels is now: 4\n",
      "0 0.37216189556990836\n",
      "1 0.11287688642517663\n",
      "2 0.05717695788085991\n",
      "3 0.03836122638268876\n",
      "4 0.05446901766285213\n",
      "5 0.06681149816027945\n",
      "6 0.057647988790794503\n",
      "7 0.03989330583181117\n",
      "8 0.02915160867699282\n",
      "9 0.023848737045057015\n",
      "10 0.020484470480134\n",
      "11 0.018209916822205192\n",
      "12 0.01652863997787511\n",
      "13 0.015231863540548117\n",
      "14 0.014267957344242807\n",
      "15 0.013642082007881376\n",
      "16 0.013364585926672464\n",
      "17 0.013363462879986366\n",
      "18 0.013283326180716749\n",
      "19 0.012459361780253832\n",
      "20 0.010934816909547843\n",
      "21 0.00962568820939858\n",
      "22 0.008950885909550925\n",
      "23 0.008747128982197455\n",
      "24 0.008799564705603285\n",
      "25 0.008978101558381565\n",
      "26 0.009208087045986222\n",
      "27 0.00944072655821384\n",
      "28 0.009639365585469182\n",
      "29 0.009775254768261002\n",
      "30 0.009828319122561012\n",
      "31 0.009790145270219625\n",
      "32 0.009666780773866936\n",
      "33 0.009479363379798147\n",
      "34 0.009261813550484454\n",
      "The number of gaussian for RGBDOG using puzzle pixels is now: 5\n",
      "0 0.30068682229659466\n",
      "1 0.02270481460790223\n",
      "2 0.03561231778037294\n",
      "3 0.04218729932273644\n",
      "4 0.051739836044571094\n",
      "5 0.04477761840205327\n",
      "6 0.03184996363170922\n",
      "7 0.02329100957578777\n",
      "8 0.02001201046919778\n",
      "9 0.019194291156263348\n",
      "10 0.018961000078753086\n",
      "11 0.01868077069815737\n",
      "12 0.018259581188821032\n",
      "13 0.017769383657926553\n",
      "14 0.017303302935396548\n",
      "15 0.016921119816607447\n",
      "16 0.016637042061453864\n",
      "17 0.016429429074008826\n",
      "18 0.016258843126514873\n",
      "19 0.01608508629531407\n",
      "20 0.01587862460382451\n",
      "21 0.01562548315909081\n",
      "22 0.015326625626428515\n",
      "23 0.01499363106181156\n",
      "24 0.014642782252677336\n",
      "25 0.014289645561904523\n",
      "26 0.013945743045218785\n",
      "27 0.013617889313023903\n"
     ]
    }
   ],
   "source": [
    "gmms_puzzle = []\n",
    "gmms_background = []\n",
    "for i in range(1, 6):\n",
    "    print('The number of gaussian for RGBDOG using puzzle pixels is now:',i)\n",
    "    pkl = open(\"gmm_puzzle-RGBDOG-\"+str(i)+\".pickle\",\"wb\")\n",
    "    gmm = GMM_scratch(puzzle_pixel_RGBDOG, i,0)#GMM with random clustered centers\n",
    "    gmm.fit()\n",
    "    pickle.dump(gmm, pkl)\n",
    "    gmms_puzzle.append(gmm)\n",
    "    pkl.close()"
   ]
  },
  {
   "cell_type": "code",
   "execution_count": null,
   "metadata": {
    "id": "Fv7_WudkaKrB"
   },
   "outputs": [],
   "source": [
    "for i in range(1, 6):\n",
    "    print('The number of gaussian for RGBDOG using background pixels is now :',i)\n",
    "    pkl = open(\"gmm_background-RGBDOG-\"+str(i)+\".pickle\",\"wb\")\n",
    "    gmm = GMM_scratch(background_pixel_RGBDOG, i,0)#GMM with random clustered centers\n",
    "    gmm.fit()\n",
    "    pickle.dump(gmm, pkl)\n",
    "    gmms_background.append(gmm)\n",
    "    pkl.close()"
   ]
  },
  {
   "cell_type": "markdown",
   "metadata": {
    "id": "HNZdHtY4aKrC"
   },
   "source": []
  },
  {
   "cell_type": "code",
   "execution_count": null,
   "metadata": {
    "id": "7Ttuo81CcONU"
   },
   "outputs": [],
   "source": [
    "images_RGBDOG = []\n",
    "probs = []\n",
    "for i in range(2, 6):\n",
    "    pickle_off0 = open(\"gmm_puzzle-RGBDOG-\"+str(i)+\".pickle\",\"rb\")\n",
    "    gmm_puzzle = pickle.load(pickle_off0)\n",
    "    \n",
    "    pickle_off1 = open(\"gmm_background-RGBDOG-\"+str(i)+\".pickle\",\"rb\")\n",
    "    gmm_background = pickle.load(pickle_off1)\n",
    "    \n",
    "    index = 3\n",
    "    image, mask = (test_X[index], test_y[index])\n",
    "\n",
    "    ##### The inference as specified in the question using the background and the puzzle pixels gmm\n",
    "    likelihood1 = gmm_background.Proba(image) #probability of being background\n",
    "    likelihood2 = gmm_puzzle.Proba(image) #probability of being foreground\n",
    "    \n",
    "    prior1 = prior_RGBDOG\n",
    "    prior2 = 1 - prior_RGBDOG \n",
    "    \n",
    "    foreground_prior = prior2 * likelihood2\n",
    "    Background_prior = foreground_prior + (prior1 * likelihood1)\n",
    "    \n",
    "    prob = foreground_prior/Background_prior   \n",
    "    #######\n",
    "    \n",
    "    prob[prob>0.5] = 1\n",
    "    prob[prob<0.5] = 0\n",
    "    \n",
    "    images_RGBDOG.append(prob)\n",
    "    \n",
    "    prob = prob.ravel().astype(int)\n",
    "    mask = mask.ravel()\n",
    "    score = accuracy_score(mask, prob)*100\n",
    "    print(\"The accuracy for GMM\",i,\"is :\",score)\n",
    "    probs.append(prob)"
   ]
  },
  {
   "cell_type": "code",
   "execution_count": null,
   "metadata": {
    "id": "TA3EY4rVaKrF"
   },
   "outputs": [],
   "source": [
    "visualize(images_RGBDOG)"
   ]
  },
  {
   "cell_type": "code",
   "execution_count": null,
   "metadata": {
    "id": "hgyJcH2laKrH"
   },
   "outputs": [],
   "source": [
    "Metrics_CM_CK_IOU(test_y,testing_image,images_RGBDOG)"
   ]
  },
  {
   "cell_type": "markdown",
   "metadata": {
    "id": "zZ8LymEiaKrI"
   },
   "source": [
    "#### 3.3 One other feature set from the previous labs that performed well.\n",
    "\n",
    "The other feature set that will be used from the previous lab will be the HSV (hue, saturation, value) color space and DOG"
   ]
  },
  {
   "cell_type": "code",
   "execution_count": null,
   "metadata": {
    "id": "HoOeviuXaKrT"
   },
   "outputs": [],
   "source": [
    "train_X_HSV = []\n",
    "test_X_HSV = []\n",
    "\n",
    "for i in range(len(train_X)):\n",
    "    train_HSV = cv2.cvtColor(train_X[i], cv2.COLOR_RGB2HSV)\n",
    "    train_X_HSV.append(train_HSV)\n",
    "    \n",
    "for i in range(len(test_X)):\n",
    "    test_HSV = cv2.cvtColor(test_X[i], cv2.COLOR_RGB2HSV)\n",
    "    test_X_HSV.append(test_HSV)"
   ]
  },
  {
   "cell_type": "code",
   "execution_count": null,
   "metadata": {
    "id": "reIlEC_WaKrU"
   },
   "outputs": [],
   "source": [
    "puzzle_pixe_HSV, background_pixel_HSV, prior_HSV = Puzzle_background_Pixels_one(30,train_X_HSV,train_y)\n",
    "\n",
    "#feature vector\n",
    "puzzle_pixel_HSVDOG = np.vstack((puzzle_pixe_HSV, puzzle_pixel_DOG))\n",
    "background_pixel_HSVDOG = np.vstack((background_pixel_HSV, background_pixel_DOG))\n",
    "prior_HSVDOG = prior_DOG + prior_HSV"
   ]
  },
  {
   "cell_type": "code",
   "execution_count": null,
   "metadata": {
    "id": "1YoEDYOWaKrV",
    "scrolled": false
   },
   "outputs": [],
   "source": [
    "gmms_puzzle = []\n",
    "gmms_background = []\n",
    "for i in range(1, 6):\n",
    "    print('The number of gaussian for HSVDOG using puzzle pixels is now:',i)\n",
    "    pkl = open(\"gmm_puzzle-HSVDOG-\"+str(i)+\".pickle\",\"wb\")\n",
    "    gmm = GMM_scratch(puzzle_pixel_HSVDOG, i,0)#GMM with random clustered centers\n",
    "    gmm.fit()\n",
    "    pickle.dump(gmm, pkl)\n",
    "    gmms_puzzle.append(gmm)\n",
    "    pkl.close()"
   ]
  },
  {
   "cell_type": "code",
   "execution_count": null,
   "metadata": {
    "id": "EQO9GaRJaKrh"
   },
   "outputs": [],
   "source": [
    "for i in range(1, 6):\n",
    "    print('The number of gaussian for RGBDOG using background pixels is now :',i)\n",
    "    pkl = open(\"gmm_background-HSVDOG-final\"+str(i)+\".pickle\",\"wb\")\n",
    "    gmm = GMM_scratch(background_pixel_HSVDOG, i,0)#GMM with random clustered centers\n",
    "    gmm.fit()\n",
    "    pickle.dump(gmm, pkl)\n",
    "    gmms_background.append(gmm)\n",
    "    pkl.close()"
   ]
  },
  {
   "cell_type": "code",
   "execution_count": null,
   "metadata": {
    "id": "sJKjEP1VdD_B"
   },
   "outputs": [],
   "source": [
    "images_HSVDOG = []\n",
    "probs = []\n",
    "for i in range(2, 6):\n",
    "    pickle_off0 = open(\"gmm_puzzle-HSVDOG-\"+str(i)+\".pickle\",\"rb\")\n",
    "    gmm_puzzle = pickle.load(pickle_off0)\n",
    "    \n",
    "    pickle_off1 = open(\"gmm_background-HSVDOG-\"+str(i)+\".pickle\",\"rb\")\n",
    "    gmm_background = pickle.load(pickle_off1)\n",
    "    \n",
    "    index = 3\n",
    "    image, mask = (test_X[index], test_y[index])\n",
    "\n",
    "    ##### The inference as specified in the question using the background and the puzzle pixels gmm\n",
    "    likelihood1 = gmm_background.Proba(image) #probability of being background\n",
    "    likelihood2 = gmm_puzzle.Proba(image) #probability of being foreground\n",
    "    \n",
    "    prior1 = prior_HSVDOG\n",
    "    prior2 = 1 - prior_HSVDOG \n",
    "    \n",
    "    foreground_prior = prior2 * likelihood2\n",
    "    Background_prior = foreground_prior + (prior1 * likelihood1)\n",
    "    \n",
    "    prob = foreground_prior/Background_prior   \n",
    "    #######\n",
    "    \n",
    "    prob[prob>0.5] = 1\n",
    "    prob[prob<0.5] = 0\n",
    "    \n",
    "    images_HSVDOG.append(prob)\n",
    "    \n",
    "    prob = prob.ravel().astype(int)\n",
    "    mask = mask.ravel()\n",
    "    score = accuracy_score(mask, prob)*100\n",
    "    print(\"The accuracy for GMM\",i,\"is :\",score)\n",
    "    probs.append(prob)"
   ]
  },
  {
   "cell_type": "code",
   "execution_count": null,
   "metadata": {
    "id": "RcmI1fvdaKrk"
   },
   "outputs": [],
   "source": [
    "visualize(images_HSVDOG)"
   ]
  },
  {
   "cell_type": "code",
   "execution_count": null,
   "metadata": {
    "id": "yb-3hn5naKrl"
   },
   "outputs": [],
   "source": [
    "Metrics_CM_CK_IOU(test_y,testing_image,images_HSVDOG)"
   ]
  },
  {
   "cell_type": "markdown",
   "metadata": {
    "id": "D7-TkYONaKrm"
   },
   "source": [
    "## Extra marks ( 6-fold cross validation)"
   ]
  },
  {
   "cell_type": "markdown",
   "metadata": {
    "id": "uDYWduEvaKrn"
   },
   "source": [
    "### Training section for RGB"
   ]
  },
  {
   "cell_type": "code",
   "execution_count": 10,
   "metadata": {
    "id": "2Fti-x94aKrn",
    "scrolled": false
   },
   "outputs": [
    {
     "name": "stdout",
     "output_type": "stream",
     "text": [
      "Currently at Kfold iter 1\n",
      "The number of gaussian for RGB implementation using puzzle pixels is: 1\n",
      "0 0.2917262658048736\n",
      "1 0.0\n",
      "The number of gaussian for RGB implementation using puzzle pixels is: 2\n",
      "0 0.7218975779486486\n",
      "1 0.01194825598510864\n",
      "2 0.013448749905434055\n",
      "3 0.008716963194671606\n",
      "The number of gaussian for RGB implementation using puzzle pixels is: 3\n",
      "0 0.18974140716958213\n",
      "1 0.06439175164529483\n",
      "2 0.035950861918469704\n",
      "3 0.028514926342779797\n",
      "4 0.025480696744190984\n",
      "5 0.022636192193680987\n",
      "6 0.02094040820230239\n",
      "7 0.021461754569043007\n",
      "8 0.022953415296324702\n",
      "9 0.023163688171478902\n",
      "10 0.021825156694679035\n",
      "11 0.019846613260779487\n",
      "12 0.017739805608179834\n",
      "13 0.016025849374250244\n",
      "14 0.014909907688040713\n",
      "15 0.014247763359579425\n",
      "16 0.01382782311857271\n",
      "17 0.013491777791985883\n",
      "18 0.013141262645381496\n",
      "19 0.012725379735010783\n",
      "20 0.012193325346552875\n",
      "21 0.011499794125563739\n",
      "22 0.010626762861895239\n",
      "23 0.009601692771188048\n",
      "The number of gaussian for RGB implementation background pixels is: 1\n",
      "0 0.20932828564515724\n",
      "1 0.0\n",
      "The number of gaussian for RGB implementation background pixels is: 2\n",
      "0 0.2127103758023746\n",
      "1 0.010034927672920342\n",
      "2 0.005898981721325012\n",
      "The number of gaussian for RGB implementation background pixels is: 3\n",
      "0 0.058146986758976234\n",
      "1 0.007296443869358059\n",
      "Currently at Kfold iter 2\n",
      "The number of gaussian for RGB implementation using puzzle pixels is: 1\n",
      "0 0.2191725988252317\n",
      "1 0.0\n",
      "The number of gaussian for RGB implementation using puzzle pixels is: 2\n",
      "0 0.25833451126220086\n",
      "1 0.02240878829867164\n",
      "2 0.023824194764115233\n",
      "3 0.027168474311213744\n",
      "4 0.03420390943062295\n",
      "5 0.049423074554037064\n",
      "6 0.06790334667730377\n",
      "7 0.06513920742559895\n",
      "8 0.042679123033834226\n",
      "9 0.023792613909363394\n",
      "10 0.013486240658121491\n",
      "11 0.008286233146023753\n",
      "The number of gaussian for RGB implementation using puzzle pixels is: 3\n",
      "0 0.3696112980003704\n",
      "1 0.04722706795310771\n",
      "2 0.049391449396891884\n",
      "3 0.049826260812260326\n",
      "4 0.0415533282026381\n",
      "5 0.030580208056826628\n",
      "6 0.019131524673124616\n",
      "7 0.011235460008193515\n",
      "8 0.007706495399163799\n",
      "The number of gaussian for RGB implementation background pixels is: 1\n",
      "0 0.030081610473144633\n",
      "1 0.0\n",
      "The number of gaussian for RGB implementation background pixels is: 2\n",
      "0 0.13103182235168537\n",
      "1 0.0014823938990386352\n",
      "The number of gaussian for RGB implementation background pixels is: 3\n",
      "0 0.1698629516514268\n",
      "1 0.015945548415010002\n",
      "2 0.01358244670115899\n",
      "3 0.01138622184631729\n",
      "4 0.009937260175968559\n",
      "Currently at Kfold iter 3\n",
      "The number of gaussian for RGB implementation using puzzle pixels is: 1\n",
      "0 0.1309946208465155\n",
      "1 0.0\n",
      "The number of gaussian for RGB implementation using puzzle pixels is: 2\n",
      "0 0.163181022980631\n",
      "1 0.020912006124750946\n",
      "2 0.029996030923600685\n",
      "3 0.03566310459364517\n",
      "4 0.025224321605545757\n",
      "5 0.012519011979130242\n",
      "6 0.005108085174559344\n",
      "The number of gaussian for RGB implementation using puzzle pixels is: 3\n",
      "0 0.1654156823147816\n",
      "1 0.02770750258225639\n",
      "2 0.042776099606520936\n",
      "3 0.03278360198546177\n",
      "4 0.024330396833580636\n",
      "5 0.020334830546377906\n",
      "6 0.0205320886937373\n",
      "7 0.022257448613090765\n",
      "8 0.024557126776756182\n",
      "9 0.026616182947612907\n",
      "10 0.02799479793741948\n",
      "11 0.02858401847784013\n",
      "12 0.02772031154673513\n",
      "13 0.025549628815942017\n",
      "14 0.02260714206852533\n",
      "15 0.019289149023105627\n",
      "16 0.01594178334773312\n",
      "17 0.012847734109854434\n",
      "18 0.010171610076077545\n",
      "19 0.007965517527238692\n",
      "The number of gaussian for RGB implementation background pixels is: 1\n",
      "0 0.2694537660484821\n",
      "1 0.0\n",
      "The number of gaussian for RGB implementation background pixels is: 2\n",
      "0 0.1609842764935829\n",
      "1 0.01785958738619752\n",
      "2 0.01937784902918228\n",
      "3 0.018264963328224915\n",
      "4 0.015888380002258593\n",
      "5 0.013154799944238743\n",
      "6 0.010618354058388183\n",
      "7 0.008503212940470392\n",
      "The number of gaussian for RGB implementation background pixels is: 3\n",
      "0 0.19011086288494977\n",
      "1 0.005278885661667997\n",
      "Currently at Kfold iter 4\n",
      "The number of gaussian for RGB implementation using puzzle pixels is: 1\n",
      "0 0.06865808617497753\n",
      "1 0.0\n",
      "The number of gaussian for RGB implementation using puzzle pixels is: 2\n",
      "0 0.6007965757083251\n",
      "1 0.042307007079173585\n",
      "2 0.026520293194380158\n",
      "3 0.014841544267881951\n",
      "4 0.011382835759053843\n",
      "5 0.010850461540955023\n",
      "6 0.010856511606684193\n",
      "7 0.010692405165056039\n",
      "8 0.01020271720854539\n",
      "9 0.009455614562291999\n",
      "The number of gaussian for RGB implementation using puzzle pixels is: 3\n",
      "0 0.3343383090187079\n",
      "1 0.024596487015458367\n",
      "2 0.021577130540773138\n",
      "3 0.021325734797081965\n",
      "4 0.020279093008977716\n",
      "5 0.019044419886213745\n",
      "6 0.017919775403800478\n",
      "7 0.01642166281848677\n",
      "8 0.014346944636609972\n",
      "9 0.012150951797985813\n",
      "10 0.010291833358632315\n",
      "11 0.008850309459953335\n",
      "The number of gaussian for RGB implementation background pixels is: 1\n",
      "0 0.5490032594018687\n",
      "1 0.0\n",
      "The number of gaussian for RGB implementation background pixels is: 2\n",
      "0 0.1459030433149798\n",
      "1 0.0029281186976636937\n",
      "The number of gaussian for RGB implementation background pixels is: 3\n",
      "0 0.1046666819100499\n",
      "1 0.008138918299472157\n",
      "Currently at Kfold iter 5\n",
      "The number of gaussian for RGB implementation using puzzle pixels is: 1\n",
      "0 0.08519183631453495\n",
      "1 0.0\n",
      "The number of gaussian for RGB implementation using puzzle pixels is: 2\n",
      "0 0.482126806031763\n",
      "1 0.03013280673807633\n",
      "2 0.047850693304646905\n",
      "3 0.04743893351393047\n",
      "4 0.03872020881203212\n",
      "5 0.028191898213058158\n",
      "6 0.019029649372961605\n",
      "7 0.01240891136169777\n",
      "8 0.00784523437007199\n",
      "The number of gaussian for RGB implementation using puzzle pixels is: 3\n",
      "0 0.19440984726796626\n",
      "1 0.03279697954373686\n",
      "2 0.030041246877328703\n",
      "3 0.024276781460514\n",
      "4 0.01674612327615308\n",
      "5 0.011398175705128216\n",
      "6 0.008869870774747103\n",
      "The number of gaussian for RGB implementation background pixels is: 1\n",
      "0 0.256187822992841\n",
      "1 0.0\n",
      "The number of gaussian for RGB implementation background pixels is: 2\n",
      "0 0.21010860123690964\n",
      "1 0.008999160677514693\n",
      "The number of gaussian for RGB implementation background pixels is: 3\n",
      "0 0.26656791804705443\n",
      "1 0.006306628065543293\n",
      "Currently at Kfold iter 6\n",
      "The number of gaussian for RGB implementation using puzzle pixels is: 1\n",
      "0 0.08466279471906771\n",
      "1 0.0\n",
      "The number of gaussian for RGB implementation using puzzle pixels is: 2\n",
      "0 0.5004303321507687\n",
      "1 0.01397204720725359\n",
      "2 0.0036228047676203864\n",
      "The number of gaussian for RGB implementation using puzzle pixels is: 3\n",
      "0 0.3495828960251209\n",
      "1 0.04172177491252125\n",
      "2 0.05516361962053835\n",
      "3 0.05493924868400403\n",
      "4 0.04448425405592603\n",
      "5 0.027976410796764627\n",
      "6 0.01754599657834937\n",
      "7 0.011458831373502286\n",
      "8 0.007934581311877648\n",
      "The number of gaussian for RGB implementation background pixels is: 1\n",
      "0 0.20891533601427595\n",
      "1 0.0\n",
      "The number of gaussian for RGB implementation background pixels is: 2\n",
      "0 0.12456925696713833\n",
      "1 0.001723762010077474\n",
      "The number of gaussian for RGB implementation background pixels is: 3\n",
      "0 0.23140629243728764\n",
      "1 0.005888299933760055\n"
     ]
    }
   ],
   "source": [
    "#sources:\n",
    "\n",
    "#https://www.pluralsight.com/guides/validating-machine-learning-models-scikit-learn\n",
    "#https://www.knowledgehut.com/blog/data-science/k-fold-cross-validation-in-ml\n",
    "\n",
    "\n",
    "cv = KFold(n_splits=6, random_state=100)\n",
    "\n",
    "testfold_X_RGB = []\n",
    "testfold_Y_RGB = []\n",
    "indicie_kfold = 1\n",
    "\n",
    "for train_index, test_index in cv.split(X_raw): \n",
    "    \n",
    "    #retrieve the index for the training and test data\n",
    "    X_train, X_test, y_train, y_test = X_raw[train_index], X_raw[test_index], Y_raw[train_index], Y_raw[test_index]\n",
    "    \n",
    "    #append the data to be used for testing later on\n",
    "    testfold_X_RGB.append(X_test)\n",
    "    testfold_Y_RGB.append(y_test)\n",
    "    \n",
    "    #given the len of the data in the fold in this case all the images retrieve all the puzzle pixels for the training \n",
    "    puzzle_pixel_RGB_fold, background_pixel_RGB_fold, prior_RGB_fold = Puzzle_background_Pixels_one(len(X_train),X_train,y_train)\n",
    "    \n",
    "    print('Currently at Kfold iter',indicie_kfold)\n",
    "    \n",
    "    #fit the gmm as normaly done in the code\n",
    "    gmms_puzzle = []\n",
    "    gmms_background = []\n",
    "    \n",
    "    for i in range(1, 4):\n",
    "        print('The number of gaussian for RGB implementation using puzzle pixels is:',i)\n",
    "        pkl = open(\"gmm_puzzle\"+str(i)+\"-RGB_of_fold\"+str(indicie_kfold)+\".pickle\",\"wb\")\n",
    "        gmm = GMM_scratch(puzzle_pixel_RGB_fold, i,0)#GMM with sklearn clustered centers\n",
    "        gmm.fit()\n",
    "        pickle.dump(gmm, pkl)\n",
    "        gmms_puzzle.append(gmm)\n",
    "        pkl.close()\n",
    "        \n",
    "    for i in range(1, 4):\n",
    "        print('The number of gaussian for RGB implementation background pixels is:',i)\n",
    "        pkl = open(\"gmm_background\"+str(i)+\"-RGB_of_fold\"+str(indicie_kfold)+\".pickle\",\"wb\")\n",
    "        gmm = GMM_scratch(background_pixel_RGB_fold, i,0)#GMM with sklearn clustered centers\n",
    "        gmm.fit()\n",
    "        pickle.dump(gmm, pkl)\n",
    "        gmms_background.append(gmm)\n",
    "        pkl.close()\n",
    "    \n",
    "    indicie_kfold+=1"
   ]
  },
  {
   "cell_type": "markdown",
   "metadata": {
    "id": "BRHZrwdvaKro"
   },
   "source": [
    "### Training section for RGBDOG"
   ]
  },
  {
   "cell_type": "code",
   "execution_count": 14,
   "metadata": {
    "id": "fBiYLjihaKro"
   },
   "outputs": [],
   "source": [
    "train_X_DoG = []\n",
    "for i in range(len(X_raw)):\n",
    "    test_DoG = cv2.filter2D(X_raw[i],-1,DoG(49,3,2))\n",
    "    train_X_DoG.append(exposure.rescale_intensity(test_DoG))\n",
    "    \n",
    "X_DOG = np.asarray(train_X_DoG)"
   ]
  },
  {
   "cell_type": "code",
   "execution_count": null,
   "metadata": {
    "id": "mjUS4iPfaKrp",
    "scrolled": false
   },
   "outputs": [
    {
     "name": "stdout",
     "output_type": "stream",
     "text": [
      "Currently at Kfold iter 1\n",
      "The number of gaussian for RGBDOG implementation using puzzle pixels is: 1\n",
      "0 0.5166322123874028\n",
      "1 0.0\n",
      "The number of gaussian for RGBDOG implementation using puzzle pixels is: 2\n",
      "0 0.37849292005944785\n",
      "1 0.008929927911497847\n",
      "The number of gaussian for RGBDOG implementation using puzzle pixels is: 3\n",
      "0 0.3070729943209629\n",
      "1 0.01135840216808674\n",
      "2 0.039924316165457226\n",
      "3 0.04619805940340865\n",
      "4 0.04290545529437442\n",
      "5 0.04032549607712864\n",
      "6 0.0390337004077905\n",
      "7 0.0381822999301911\n",
      "8 0.038071451357759224\n",
      "9 0.03867892056151605\n",
      "10 0.039398720432582635\n",
      "11 0.03971244808688045\n",
      "12 0.039488554110930246\n",
      "13 0.038812300010284566\n",
      "14 0.03793992807979187\n",
      "15 0.037190162959595506\n",
      "16 0.036592228388723017\n",
      "17 0.03574439364731152\n",
      "18 0.03405142416563548\n",
      "19 0.031144456169037896\n",
      "20 0.027139774944432045\n",
      "21 0.022544804828595083\n",
      "22 0.017961054599888088\n",
      "23 0.013839943657513419\n",
      "24 0.010401915137496835\n",
      "25 0.0076790196948959485\n",
      "The number of gaussian for RGBDOG implementation background pixels is: 1\n",
      "0 0.6551335547441672\n",
      "1 0.0\n",
      "The number of gaussian for RGBDOG implementation background pixels is: 2\n",
      "0 0.5005481195726692\n",
      "1 0.007225998212486247\n",
      "The number of gaussian for RGBDOG implementation background pixels is: 3\n",
      "0 0.3281176813319175\n",
      "1 0.04085658198704168\n",
      "2 0.04566885017539103\n",
      "3 0.07777325390691968\n",
      "4 0.11999531462780777\n",
      "5 0.08348764569159708\n",
      "6 0.03986935615311409\n",
      "7 0.01993914637907688\n",
      "8 0.011046389716158143\n",
      "9 0.006548731743380696\n",
      "Currently at Kfold iter 2\n",
      "The number of gaussian for RGBDOG implementation using puzzle pixels is: 1\n",
      "0 0.04853680621783263\n",
      "1 0.0\n",
      "The number of gaussian for RGBDOG implementation using puzzle pixels is: 2\n",
      "0 0.20399808949033027\n",
      "1 0.0329319499937463\n",
      "2 0.044553735894963205\n",
      "3 0.04615631998046161\n",
      "4 0.04286273933237599\n",
      "5 0.0365415542702674\n",
      "6 0.030517793243039087\n",
      "7 0.029113960552200426\n",
      "8 0.03330819583083071\n",
      "9 0.0424021414168425\n",
      "10 0.05796761707883852\n",
      "11 0.08352933448538565\n",
      "12 0.09998408052516398\n",
      "13 0.08014325915398982\n",
      "14 0.04715609756850181\n",
      "15 0.02486634025285758\n",
      "16 0.013250888649910742\n",
      "17 0.0075522216760612075\n",
      "The number of gaussian for RGBDOG implementation using puzzle pixels is: 3\n",
      "0 0.852179762846291\n",
      "1 0.0236310454425667\n",
      "2 0.047173233923147914\n",
      "3 0.054367324021469876\n",
      "4 0.05638684855807384\n",
      "5 0.037291463353239414\n",
      "6 0.02425700640613154\n",
      "7 0.020944266025918284\n",
      "8 0.019930469858938524\n",
      "9 0.01929556741451497\n",
      "10 0.01888416496016277\n",
      "11 0.018701700359474573\n",
      "12 0.01872775649042957\n",
      "13 0.018912110670738957\n",
      "14 0.019189033080918058\n",
      "15 0.019490982933720636\n",
      "16 0.01975843400434707\n",
      "17 0.019946494546738643\n",
      "18 0.020029088366833647\n",
      "19 0.02000059861997835\n",
      "20 0.01987483704471429\n",
      "21 0.019681857166694454\n",
      "22 0.019463516939423282\n",
      "23 0.019269110103067102\n",
      "24 0.01915468441752424\n",
      "25 0.01918639985195371\n",
      "26 0.019450545158770968\n",
      "27 0.020103671595931134\n",
      "28 0.02152471317074097\n",
      "29 0.024676946722144873\n",
      "30 0.03104397110469679\n",
      "31 0.04133805548361531\n",
      "32 0.05430947239398538\n",
      "33 0.06694761799441828\n",
      "34 0.07432808784183835\n",
      "The number of gaussian for RGBDOG implementation background pixels is: 1\n",
      "0 0.1924028236786148\n",
      "1 0.0\n",
      "The number of gaussian for RGBDOG implementation background pixels is: 2\n",
      "0 0.43119692040130375\n",
      "1 0.008235420522343299\n",
      "The number of gaussian for RGBDOG implementation background pixels is: 3\n",
      "0 0.33530447009656256\n",
      "1 0.08508540462556087\n",
      "2 0.06822986578572665\n",
      "3 0.06373491260537596\n",
      "4 0.04193947756035082\n",
      "5 0.04930954312782914\n",
      "6 0.06391704248552463\n",
      "7 0.08372758854240107\n",
      "8 0.10252010113807698\n",
      "9 0.10529824803599427\n",
      "10 0.02875439951422306\n",
      "11 0.00754617402200233\n",
      "Currently at Kfold iter 3\n",
      "The number of gaussian for RGBDOG implementation using puzzle pixels is: 1\n",
      "0 0.03084048363116833\n",
      "1 0.0\n",
      "The number of gaussian for RGBDOG implementation using puzzle pixels is: 2\n",
      "0 0.7358360032252128\n",
      "1 0.005600090843398148\n",
      "The number of gaussian for RGBDOG implementation using puzzle pixels is: 3\n",
      "0 0.6855247611521016\n",
      "1 0.16875526406288835\n",
      "2 0.1789971356081795\n",
      "3 0.059582631110138035\n",
      "4 0.031101746020146065\n",
      "5 0.027926538996544466\n",
      "6 0.02367422860888865\n",
      "7 0.01820353755064029\n",
      "8 0.013619632015353812\n",
      "9 0.010510801298714272\n",
      "10 0.008485024275198164\n",
      "The number of gaussian for RGBDOG implementation background pixels is: 1\n",
      "0 0.03477918509214793\n",
      "1 0.0\n",
      "The number of gaussian for RGBDOG implementation background pixels is: 2\n",
      "0 0.1979547955162569\n",
      "1 0.058501963160217135\n",
      "2 0.04546637610870407\n",
      "3 0.0420830653786957\n",
      "4 0.008553050449510512\n",
      "The number of gaussian for RGBDOG implementation background pixels is: 3\n",
      "0 0.4781304196882011\n",
      "1 0.056876758164942934\n",
      "2 0.053397898416108994\n",
      "3 0.029689080214241343\n",
      "4 0.02104811366365854\n",
      "5 0.04866548622047605\n",
      "6 0.07762318686537695\n",
      "7 0.08265919955658126\n",
      "8 0.08196270459331101\n",
      "9 0.07177683415654607\n",
      "10 0.05653119342960463\n",
      "11 0.03849321089286132\n",
      "12 0.024251482694305028\n",
      "13 0.014641847536535687\n",
      "14 0.008626650774324882\n",
      "Currently at Kfold iter 4\n",
      "The number of gaussian for RGBDOG implementation using puzzle pixels is: 1\n",
      "0 0.1814505764014093\n",
      "1 0.0\n",
      "The number of gaussian for RGBDOG implementation using puzzle pixels is: 2\n",
      "0 0.19923663123007848\n",
      "1 0.007045080440861146\n",
      "The number of gaussian for RGBDOG implementation using puzzle pixels is: 3\n",
      "0 0.1425076795429652\n",
      "1 0.06509994889512805\n",
      "2 0.08779804534780315\n",
      "3 0.07607533266185378\n",
      "4 0.0507689344015282\n",
      "5 0.03565162032313815\n",
      "6 0.03320071812218423\n",
      "7 0.035108940415035594\n",
      "8 0.04267009835957438\n",
      "9 0.05265988322576983\n",
      "10 0.057031284062789685\n",
      "11 0.052463780685976805\n",
      "12 0.04219475945845688\n",
      "13 0.031006690688942143\n",
      "14 0.021559367615519624\n",
      "15 0.014447858334777438\n",
      "16 0.009365110451735367\n",
      "The number of gaussian for RGBDOG implementation background pixels is: 1\n",
      "0 0.6066621492796096\n",
      "1 0.0\n",
      "The number of gaussian for RGBDOG implementation background pixels is: 2\n",
      "0 0.29463557773353216\n",
      "1 0.020228533012379507\n",
      "2 0.005515348805262546\n",
      "The number of gaussian for RGBDOG implementation background pixels is: 3\n",
      "0 0.6748452421385064\n",
      "1 0.03735691342157634\n",
      "2 0.0393097638112989\n",
      "3 0.07232679011307507\n",
      "4 0.06590409269731544\n",
      "5 0.10932845499333244\n",
      "6 0.14973143608974857\n",
      "7 0.09993952521589433\n",
      "8 0.04922729914954133\n",
      "9 0.023977988224344583\n",
      "10 0.01211883750819083\n",
      "11 0.0062828457708086006\n",
      "Currently at Kfold iter 5\n",
      "The number of gaussian for RGBDOG implementation using puzzle pixels is: 1\n",
      "0 0.10190118058579523\n",
      "1 0.0\n",
      "The number of gaussian for RGBDOG implementation using puzzle pixels is: 2\n",
      "0 0.7860311325677404\n",
      "1 0.017497524678902258\n",
      "2 0.023046813582201495\n",
      "3 0.015734796524756435\n",
      "4 0.004491733827323497\n",
      "The number of gaussian for RGBDOG implementation using puzzle pixels is: 3\n",
      "0 0.4813627987699246\n",
      "1 0.0343907711994762\n",
      "2 0.03949133816708596\n",
      "3 0.030174440193554888\n",
      "4 0.0296528320281224\n",
      "5 0.038113612488828136\n",
      "6 0.03950324900870013\n",
      "7 0.03259756774543837\n",
      "8 0.032333872996090605\n",
      "9 0.030682646453518172\n",
      "10 0.02885963365781895\n",
      "11 0.027632838877829507\n",
      "12 0.02686443492398914\n",
      "13 0.026260455319126543\n",
      "14 0.02554353955230665\n",
      "15 0.024557089099567383\n",
      "16 0.023268104438672676\n",
      "17 0.021726743686905865\n",
      "18 0.020024126359163695\n",
      "19 0.018259693077946056\n",
      "20 0.01651997713285919\n",
      "21 0.014868379808351978\n",
      "22 0.013343784988108365\n",
      "23 0.011964594410411864\n",
      "24 0.010734742337228207\n",
      "25 0.009649298077897862\n",
      "The number of gaussian for RGBDOG implementation background pixels is: 1\n",
      "0 0.8276915362410417\n",
      "1 0.0\n",
      "The number of gaussian for RGBDOG implementation background pixels is: 2\n",
      "0 0.7013988244692186\n",
      "1 0.06350486884397562\n",
      "2 0.028344369342838828\n",
      "3 0.0038502227571589383\n",
      "The number of gaussian for RGBDOG implementation background pixels is: 3\n",
      "0 0.2062099095828586\n",
      "1 0.03027289233404784\n",
      "2 0.04510469927883997\n",
      "3 0.046867448898006155\n",
      "4 0.049647738977525446\n",
      "5 0.056505434079963376\n",
      "6 0.07151435915962244\n",
      "7 0.10030352681074556\n",
      "8 0.13383852772155075\n",
      "9 0.14153901535120433\n",
      "10 0.11869527542157038\n",
      "11 0.09229312237566423\n",
      "12 0.07679290762940323\n",
      "13 0.07196770697018812\n",
      "14 0.07443631177351398\n",
      "15 0.07272265509995875\n",
      "16 0.03242490839038005\n",
      "17 0.029726978903439154\n",
      "18 0.02290606320070674\n",
      "19 0.017435549848977428\n",
      "20 0.013061546368136815\n",
      "21 0.009605707228736049\n",
      "Currently at Kfold iter 6\n",
      "The number of gaussian for RGBDOG implementation using puzzle pixels is: 1\n",
      "0 0.0326131451348061\n",
      "1 0.0\n",
      "The number of gaussian for RGBDOG implementation using puzzle pixels is: 2\n",
      "0 0.8095101518523846\n",
      "1 0.05615275398281694\n",
      "2 0.08791597071336026\n",
      "3 0.07920841449478327\n",
      "4 0.05408397118962953\n",
      "5 0.0357852969678892\n"
     ]
    },
    {
     "name": "stdout",
     "output_type": "stream",
     "text": [
      "6 0.024913658595508505\n",
      "7 0.01832416080603275\n",
      "8 0.014036440980650669\n",
      "9 0.011017685330408847\n",
      "10 0.008736285703199556\n",
      "The number of gaussian for RGBDOG implementation using puzzle pixels is: 3\n",
      "0 0.32252672564303364\n",
      "1 0.011298731925408029\n",
      "2 0.02574713456403518\n",
      "3 0.026513764886972185\n",
      "4 0.029604334309682352\n",
      "5 0.034465096484203615\n",
      "6 0.03686902021090885\n",
      "7 0.03751601655844049\n",
      "8 0.037209675559639006\n",
      "9 0.03595370820253837\n",
      "10 0.033583871904959844\n",
      "11 0.03024586583024115\n",
      "12 0.02642035027887376\n",
      "13 0.022678467960664205\n",
      "14 0.019897934010026635\n",
      "15 0.024217541037599502\n",
      "16 0.03506357896599295\n",
      "17 0.028205781792010474\n",
      "18 0.025305753614467186\n",
      "19 0.02209489834121947\n",
      "20 0.018176721030010577\n",
      "21 0.014895863671790325\n",
      "22 0.012442044368488937\n",
      "23 0.010646079920357375\n",
      "24 0.009301329750707332\n",
      "The number of gaussian for RGBDOG implementation background pixels is: 1\n",
      "0 0.14981258352049684\n",
      "1 0.0\n",
      "The number of gaussian for RGBDOG implementation background pixels is: 2\n",
      "0 0.6339483851629656\n",
      "1 0.008023602508087403\n",
      "The number of gaussian for RGBDOG implementation background pixels is: 3\n",
      "0 0.9572146387671961\n",
      "1 0.06348030874471053\n",
      "2 0.1350419508047775\n",
      "3 0.1394355412572911\n",
      "4 0.09229376496265362\n",
      "5 0.05216689126506545\n",
      "6 0.029829135503986495\n",
      "7 0.019192472273400273\n",
      "8 0.017985389883052507\n",
      "9 0.024377520569367015\n",
      "10 0.033343588697362536\n",
      "11 0.041070579776280015\n",
      "12 0.04649118922725447\n",
      "13 0.05046315993570336\n",
      "14 0.054051541003987576\n",
      "15 0.05785775834079413\n",
      "16 0.06215707146476613\n",
      "17 0.06633114833402337\n",
      "18 0.06593492707035124\n",
      "19 0.06308878452242542\n",
      "20 0.0805076298984716\n",
      "21 0.06557102346780476\n",
      "22 0.04106046513631543\n",
      "23 0.027695479905655317\n",
      "24 0.021474942199974683\n"
     ]
    }
   ],
   "source": [
    "cv = KFold(n_splits=6, random_state=100)\n",
    "\n",
    "testfold_X_DOG = []\n",
    "testfold_Y_DOG = []\n",
    "priors_DOG = []\n",
    "indicie_kfold = 1\n",
    "\n",
    "for train_index, test_index in cv.split(X_DOG): \n",
    "    \n",
    "    #retrieve the index for the training and test data\n",
    "    X_train, X_test, y_train, y_test = X_DOG[train_index], X_DOG[test_index], Y_raw[train_index], Y_raw[test_index]\n",
    "    \n",
    "    #append the data to be used for testing later on\n",
    "    testfold_X_DOG.append(X_test)\n",
    "    testfold_Y_DOG.append(y_test)\n",
    "    \n",
    "    #retrieve the dog images(we are using X_DOG data)\n",
    "    puzzle_pixel_DOG_fold, background_pixel_DOG_fold, prior_DOG_fold = Puzzle_background_Pixels_one(len(X_train),X_train,y_train)\n",
    "    \n",
    "    #retrieve the rgb images using same index as above(we are using the X_raw data array) \n",
    "    puzzle_pixel_RGB_fold, background_pixel_RGB_fold, prior_RGB_fold = Puzzle_background_Pixels_one(len(X_train),X_raw[train_index],Y_raw[train_index])\n",
    "    \n",
    "\n",
    "    #feature vector\n",
    "    puzzle_pixel_RGBDOG = np.vstack((puzzle_pixel_RGB_fold, puzzle_pixel_DOG_fold))\n",
    "    background_pixel_RGBDOG = np.vstack((background_pixel_RGB_fold, background_pixel_DOG_fold))\n",
    "    prior_RGBDOG = prior_RGB_fold + prior_DOG_fold\n",
    "    priors_DOG.append(prior_RGBDOG)\n",
    "    \n",
    "    print('Currently at Kfold iter',indicie_kfold)\n",
    "    \n",
    "    #fit the gmm as normaly done in the code\n",
    "    gmms_puzzle = []\n",
    "    gmms_background = []\n",
    "    \n",
    "    for i in range(1, 4):\n",
    "        print('The number of gaussian for RGBDOG implementation using puzzle pixels is:',i)\n",
    "        pkl = open(\"gmm_puzzle\"+str(i)+\"-RGBDOG_of_fold\"+str(indicie_kfold)+\".pickle\",\"wb\")\n",
    "        gmm = GMM_scratch(puzzle_pixel_RGBDOG, i,0)#GMM with sklearn clustered centers\n",
    "        gmm.fit()\n",
    "        pickle.dump(gmm, pkl)\n",
    "        gmms_puzzle.append(gmm)\n",
    "        pkl.close()\n",
    "        \n",
    "    for i in range(1, 4):\n",
    "        print('The number of gaussian for RGBDOG implementation background pixels is:',i)\n",
    "        pkl = open(\"gmm_background\"+str(i)+\"-RGBDOG_of_fold\"+str(indicie_kfold)+\".pickle\",\"wb\")\n",
    "        gmm = GMM_scratch(background_pixel_RGBDOG, i,0)#GMM with sklearn clustered centers\n",
    "        gmm.fit()\n",
    "        pickle.dump(gmm, pkl)\n",
    "        gmms_background.append(gmm)\n",
    "        pkl.close()\n",
    "    \n",
    "    indicie_kfold+=1\n"
   ]
  },
  {
   "cell_type": "code",
   "execution_count": null,
   "metadata": {},
   "outputs": [],
   "source": []
  },
  {
   "cell_type": "markdown",
   "metadata": {
    "id": "nZme1hdQaKr2"
   },
   "source": [
    "### Training section for HSV"
   ]
  },
  {
   "cell_type": "code",
   "execution_count": null,
   "metadata": {},
   "outputs": [],
   "source": [
    "train_X_HSV = []\n",
    "\n",
    "for i in range(len(X_raw)):\n",
    "    train_HSV = cv2.cvtColor(X_raw[i], cv2.COLOR_RGB2HSV)\n",
    "    train_X_HSV.append(train_HSV)\n",
    "    \n",
    "X_HSV = np.asarray(train_X_HSV)"
   ]
  },
  {
   "cell_type": "code",
   "execution_count": null,
   "metadata": {},
   "outputs": [],
   "source": [
    "cv = KFold(n_splits=6, random_state=100)\n",
    "\n",
    "testfold_X_HSV = []\n",
    "testfold_Y_HSV = []\n",
    "indicie_kfold = 1\n",
    "priors_HSV = []\n",
    "\n",
    "for train_index, test_index in cv.split(X_HSV): \n",
    "    \n",
    "    #retrieve the index for the training and test data\n",
    "    X_train, X_test, y_train, y_test = X_HSV[train_index], X_HSV[test_index], Y_raw[train_index], Y_raw[test_index]\n",
    "    \n",
    "    #append the data to be used for testing later on\n",
    "    testfold_X_HSV.append(X_test)\n",
    "    testfold_Y_HSV.append(y_test)\n",
    "    \n",
    "    #retrieve the HSV images(we are using X_HSV data)\n",
    "    puzzle_pixel_HSV_fold, background_pixel_HSV_fold, prior_HSV_fold = Puzzle_background_Pixels_one(len(X_train),X_train,y_train)\n",
    "    priors_HSV.append(prior_HSV_fold)\n",
    "    \n",
    "    print('Currently at Kfold iter',indicie_kfold)\n",
    "    \n",
    "    #fit the gmm as normaly done in the code\n",
    "    gmms = []\n",
    "    \n",
    "    #fit the gmm as normaly done in the code\n",
    "    gmms_puzzle = []\n",
    "    gmms_background = []\n",
    "    \n",
    "    for i in range(1, 4):\n",
    "        print('The number of gaussian for HSV implementation using puzzle pixels is:',i)\n",
    "        pkl = open(\"gmm_puzzle\"+str(i)+\"-HSV_of_fold\"+str(indicie_kfold)+\".pickle\",\"wb\")\n",
    "        gmm = GMM_scratch(puzzle_pixel_HSV_fold, i,0)#GMM with sklearn clustered centers\n",
    "        gmm.fit()\n",
    "        pickle.dump(gmm, pkl)\n",
    "        gmms_puzzle.append(gmm)\n",
    "        pkl.close()\n",
    "        \n",
    "    for i in range(1, 4):\n",
    "        print('The number of gaussian for HSV implementation background pixels is:',i)\n",
    "        pkl = open(\"gmm_background\"+str(i)+\"-HSV_of_fold\"+str(indicie_kfold)+\".pickle\",\"wb\")\n",
    "        gmm = GMM_scratch(background_pixel_HSV_fold, i,0)#GMM with sklearn clustered centers\n",
    "        gmm.fit()\n",
    "        pickle.dump(gmm, pkl)\n",
    "        gmms_background.append(gmm)\n",
    "        pkl.close()\n",
    "    \n",
    "    indicie_kfold+=1"
   ]
  },
  {
   "cell_type": "code",
   "execution_count": null,
   "metadata": {},
   "outputs": [],
   "source": []
  }
 ],
 "metadata": {
  "colab": {
   "collapsed_sections": [],
   "name": "ComputerVisionGmmComplete2020.ipynb",
   "provenance": []
  },
  "kernelspec": {
   "display_name": "Python 3",
   "language": "python",
   "name": "python3"
  },
  "language_info": {
   "codemirror_mode": {
    "name": "ipython",
    "version": 3
   },
   "file_extension": ".py",
   "mimetype": "text/x-python",
   "name": "python",
   "nbconvert_exporter": "python",
   "pygments_lexer": "ipython3",
   "version": "3.7.4"
  }
 },
 "nbformat": 4,
 "nbformat_minor": 1
}
