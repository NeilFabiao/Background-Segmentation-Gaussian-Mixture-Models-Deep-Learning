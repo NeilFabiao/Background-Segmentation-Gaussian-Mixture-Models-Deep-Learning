{
 "cells": [
  {
   "cell_type": "code",
   "execution_count": 1,
   "metadata": {},
   "outputs": [],
   "source": [
    "#importing all the necessary libraries \n",
    "import numpy as np\n",
    "import pandas as pd  \n",
    "import imageio\n",
    "from skimage import img_as_float32 as as_float\n",
    "from natsort import natsorted\n",
    "from glob import glob\n",
    "import matplotlib.pyplot as plt\n",
    "import seaborn as sns\n",
    "import random\n",
    "from scipy.stats import multivariate_normal\n",
    "import cv2\n",
    "import pickle\n",
    "from sklearn.metrics import accuracy_score\n",
    "import time\n",
    "from skimage import exposure\n",
    "from functools import partial\n",
    "from tqdm import tqdm\n",
    "tqdm = partial(tqdm, position=0, leave=True)\n",
    "from sklearn.metrics import confusion_matrix\n",
    "from sklearn.metrics import cohen_kappa_score\n",
    "plt.gray() #include this to display the gray scalled version of the image using matplotlib\n",
    "#!pip install split-folders"
   ]
  },
  {
   "cell_type": "markdown",
   "metadata": {},
   "source": [
    "# Project: Revisiting Background Segmentation Gaussian Mixture Models & Deep Learning\n",
    " \n",
    "Submited by : $Sibusiso \\space Mgidi$ student number 1141573 and $Neil \\space Fabi\\tilde{a}o$ student number 2216748"
   ]
  },
  {
   "cell_type": "markdown",
   "metadata": {},
   "source": [
    "**Note:** \n",
    "\n",
    "`1. This jupyter notebook is considered part 1 of the project, containing code and explanation for the Gauissian Mixture modeling section.`\n",
    "\n",
    "`2. After each numbered header for example 1.Dataset there will be a dedicated cell with code for the particular task `\n"
   ]
  },
  {
   "cell_type": "markdown",
   "metadata": {},
   "source": [
    "## Introduction\n",
    "\n",
    "In previous labs, we have been helping Quarantino solve his puzzle. In Lab 0, we worked with Tino to create\n",
    "several ground truth masks which indicated which pixels belonged to the background and which ones belonged\n",
    "to the puzzle piece.\n",
    "\n",
    "### 1 Dataset"
   ]
  },
  {
   "cell_type": "markdown",
   "metadata": {},
   "source": [
    "COMS4036A students only need the dataset that contians cleaned masks and images from Lab 6 provided in puzzle corners 1024x768 v2.zip downloaded from Moodle. The  puzzle images dataset is divide the into training (70%), validation (15%) and test (15%) sets, which you will use for training and analysis in the tasks below. This works out to 34 training images, 7 validation and 7 test images.\n",
    "\n",
    "- Consider the implications of a dataset this size for the methods below and explain whether or not it will be a problem for each.\n",
    "\n",
    "- Explain how you split your data into these sets."
   ]
  },
  {
   "cell_type": "code",
   "execution_count": 2,
   "metadata": {},
   "outputs": [
    {
     "name": "stdout",
     "output_type": "stream",
     "text": [
      "There are 48 images and 48 masks\n",
      "The shape of our data is (48, 768, 1024, 3) and (48, 768, 1024)\n"
     ]
    }
   ],
   "source": [
    "#reading the dataset\n",
    "path_pairs = list(zip(\n",
    "natsorted(glob('./puzzle_corners_1024x768/images-1024x768/*.png')),\n",
    "natsorted(glob('./puzzle_corners_1024x768/masks-1024x768/*.png')),\n",
    "))\n",
    "img = np.array([as_float(imageio.imread(ipath)) for ipath, _ in path_pairs])\n",
    "msk = np.array([as_float(imageio.imread(mpath)) for _, mpath in path_pairs])\n",
    "\n",
    "print('There are',img.shape[0],'images and',msk.shape[0],'masks')\n",
    "print('The shape of our data is',img.shape,'and',msk.shape)"
   ]
  },
  {
   "cell_type": "code",
   "execution_count": 3,
   "metadata": {},
   "outputs": [
    {
     "name": "stderr",
     "output_type": "stream",
     "text": [
      "Resizing Images: 100%|██████████| 48/48 [00:00<00:00, 1019.24it/s]\n",
      "Resizing Masks: 100%|██████████| 48/48 [00:00<00:00, 2373.07it/s]"
     ]
    },
    {
     "name": "stdout",
     "output_type": "stream",
     "text": [
      "\n",
      " (768, 1024, 3) -> (307, 410, 3)\n"
     ]
    },
    {
     "name": "stderr",
     "output_type": "stream",
     "text": [
      "\n"
     ]
    }
   ],
   "source": [
    "SIZE = (768, 1024)\n",
    "\n",
    "assert img.shape == (48, SIZE[0], SIZE[1], 3)\n",
    "assert msk.shape == (48, SIZE[0], SIZE[1])\n",
    "\n",
    "SCALE = 0.40\n",
    "\n",
    "images = [cv2.resize(img, None, fx=SCALE, fy=SCALE) for img in tqdm(img, 'Resizing Images')]\n",
    "masks1 = [cv2.resize(img, None, fx=SCALE, fy=SCALE) for img in tqdm(msk, 'Resizing Masks')]\n",
    "\n",
    "masks = []#thresholding the mask to 0 and 1 since after rescaling the mask will have different float values\n",
    "for i in range(len(masks1)):\n",
    "    mask = cv2.threshold(masks1[i],0,1,cv2.THRESH_BINARY)[1]\n",
    "    masks.append(mask)\n",
    "    \n",
    "print('\\n', img[0].shape, '->', images[0].shape)"
   ]
  },
  {
   "cell_type": "code",
   "execution_count": 4,
   "metadata": {},
   "outputs": [],
   "source": [
    "#Splitting the dataset\n",
    "#source: https://www.quora.com/How-can-I-split-my-image-datasets-into-training-validation-and-testing-sets-for-Neural-Network-CNN-in-python\n",
    "#https://stackoverflow.com/questions/38250710/how-to-split-data-into-3-sets-train-validation-and-test\n",
    "from sklearn.model_selection import train_test_split \n",
    " \n",
    "\n",
    "VALIDATION_needed = True \n",
    "def train_test_valid_split(all_X, all_Y,PERC_TRAIN = 0.65,PERC_VALIDATION = 0.14,PERC_TEST = 0.13): \n",
    "    '''\n",
    "    returs the desired data split ( 34 training images, 7 validation and 7 test images)\n",
    "    \n",
    "    params: \n",
    "    - all_X image data\n",
    "    - all_Y mask or ground truth data\n",
    "    - PERC_VALIDATION percentage for validation data\n",
    "    - PERC_TEST percentage for testing data\n",
    "    - PERC_TRAIN percentage for training data\n",
    "    \n",
    "    '''\n",
    "    left_X, valid_X, left_y, valid_y = train_test_split(all_X, all_Y, test_size=PERC_VALIDATION) \n",
    "    train_X, test_X, train_y, test_y = train_test_split(left_X, left_y, test_size=PERC_TEST / (PERC_TEST + PERC_TRAIN)) \n",
    "    return test_X, test_y, train_X, train_y, valid_X, valid_y \n",
    " \n",
    "if VALIDATION_needed: \n",
    "    test_X, test_y, train_X, train_y, valid_X, valid_y = train_test_valid_split(images, masks) \n",
    "else: \n",
    "    train_X, test_X, train_y, test_y = train_test_split(images, masks) "
   ]
  },
  {
   "cell_type": "code",
   "execution_count": 5,
   "metadata": {},
   "outputs": [
    {
     "name": "stdout",
     "output_type": "stream",
     "text": [
      "After data split have: 34 training images 7 validation and 7 test images\n"
     ]
    }
   ],
   "source": [
    "print('After data split have:',len(train_X),\n",
    "      'training images',len(valid_X),\n",
    "      'validation and',len(test_X),'test images')"
   ]
  },
  {
   "cell_type": "markdown",
   "metadata": {},
   "source": [
    "<img src=\"./im/traintest.png\" alt=\"Where is the image ?\" width=\"670\"/>"
   ]
  },
  {
   "cell_type": "markdown",
   "metadata": {},
   "source": [
    "### 2 Gaussian Mixture Models\n",
    "\n",
    "(the written section is not completed need to change most of the information is from another source and has yet to ba paraphrased)"
   ]
  },
  {
   "cell_type": "markdown",
   "metadata": {},
   "source": [
    "In statistics, an expectation–maximization (EM) algorithm is an iterative method to find (local) maximum likelihood or maximum a posteriori (MAP) estimates of parameters in statistical models, where the model depends on unobserved latent variables. The EM iteration alternates between performing an expectation (E) step, which creates a function for the expectation of the log-likelihood evaluated using the current estimate for the parameters, and a maximization (M) step, which computes parameters maximizing the expected log-likelihood found on the E step. These parameter-estimates are then used to determine the distribution of the latent variables in the next E step  [Oran Looney,2019](http://www.oranlooney.com/post/ml-from-scratch-part-5-gmm/). source:"
   ]
  },
  {
   "cell_type": "markdown",
   "metadata": {},
   "source": [
    "<img src=\"./im/gmm.gif\" alt=\"Where is the image ?\" width=\"200\" heigth=\"200\"/>"
   ]
  },
  {
   "cell_type": "code",
   "execution_count": 6,
   "metadata": {},
   "outputs": [],
   "source": [
    "class GMM_scratch:\n",
    "    '''\n",
    "        This class is the implementation of the Gaussian Mixture Models for the project\n",
    "        Inspiration for this function came from sklearn.mixture.GaussianMixture and other sources listed bellow\n",
    "        \n",
    "        params: \n",
    "        data - the image data to train in the EM step of the GMM\n",
    "        numb_components - the number of clusters to train the GMM\n",
    "        init_strategy - method to initialize the means of the GMM. 0 is the normal initialization method\n",
    "        \n",
    "        \n",
    "        sources :\n",
    "        https://github.com/ScienceKot/mysklearn/blob/master/Gaussian%20Mixture%20Models/GMM.py\n",
    "        https://stackoverflow.com/questions/44913009/initialize-gmm-using-sklearn-python\n",
    "        https://github.com/SeoHyeong/GMM_image-segmentation/blob/master/GMM_image%20segmentation.ipynb\n",
    "    '''\n",
    "    \n",
    "    \n",
    "    def __init__(self, data, numb_components,init_strategy):#Step1 initialization of the main variables\n",
    "                \n",
    "        self.data = data\n",
    "        self.numb_components = numb_components\n",
    "        \n",
    "        self.H = self.data.shape[1]#D#need to understant this point\n",
    "        self.W = self.data.shape[0]#n#need to understant this point\n",
    "        \n",
    "        self.lamda = np.ones((self.numb_components))/self.numb_components\n",
    "        self.means = np.zeros((self.numb_components,self.H))\n",
    "        #create distances variable\n",
    "        if(init_strategy == 0):#random initialization\n",
    "            for i in range(self.numb_components):\n",
    "                soma = random.choice(self.data)\n",
    "                self.means[i] = soma\n",
    "            \n",
    "        self.covariance = np.zeros((self.numb_components,self.H,self.H))#creating the covariance array with the necessary dimations \n",
    "        self.covariance[:] = np.cov(self.data.T)#array that holds all the covariance information \n",
    "\n",
    "        self.responsavel = np.zeros((self.W, self.numb_components))#responsavel is simply responsability array given the number of channels and components in the array\n",
    "        \n",
    "    #-------------------------------------------Norm-Step------------------------------------------------------------     \n",
    "    def normalvariant(self):\n",
    "        '''\n",
    "        this is used to make inference throught the class, best to have a separate function as also seen on sklearn\n",
    "        '''\n",
    "        numb_components = self.numb_components\n",
    "        self.normal = []\n",
    "        for i in range(numb_components):\n",
    "            self.normal.append(multivariate_normal(mean=self.means[i], cov=self.covariance[i]))\n",
    "    #-------------------------------------------E-Step-------------------------------------------------------------- \n",
    "    def Expectation(self):#need to understant this section\n",
    "        numb_components = self.numb_components\n",
    "        self.normalvariant()\n",
    "        \n",
    "        for i, points in enumerate(self.data):\n",
    "            for j in range(numb_components):\n",
    "                \n",
    "                self.responsavel[i,j] = self.lamda[j]*self.normal[j].pdf(points)\n",
    "            self.responsavel[i,:] /= self.responsavel[i, :].sum()\n",
    "            \n",
    "    #-------------------------------------------M-Step---------------------------------------------------------------\n",
    "    def Maximization(self):#need to understant this section\n",
    "        numb_components = self.numb_components\n",
    "\n",
    "        responsavel_sum = self.responsavel.sum(0)\n",
    "        \n",
    "        self.lamda = responsavel_sum/float(self.responsavel.sum())\n",
    "\n",
    "        for i in range(self.numb_components):\n",
    "            self.means[i] = self.responsavel[:,i].dot(self.data)/responsavel_sum[i]\n",
    "            \n",
    "        for i in range(self.numb_components):\n",
    "            temp = np.zeros((self.H, self.H))\n",
    "            for j in range(self.W):\n",
    "                t = self.data[j, :] - self.means[i]\n",
    "                temp += self.responsavel[j,i]*np.outer(t,t)\n",
    "            self.covariance[i] = temp/responsavel_sum[i]\n",
    "            \n",
    "    #-------------------------------------------Train or fit Step----------------------------------------------------- \n",
    "    def fit(self, tolerance=0.001, max_epoch=50):\n",
    "        distance = tolerance\n",
    "        epoch = 0\n",
    "        while ((distance >= tolerance) and (epoch != max_epoch)):\n",
    "            old_means = self.means.copy()\n",
    "            self.Expectation()\n",
    "            self.Maximization()\n",
    "            distance = np.linalg.norm(old_means - self.means)\n",
    "            print(epoch, distance)\n",
    "            epoch += 1\n",
    "   #-------------------------------------------Likelihood-Step--------------------------------------------------------\n",
    "    def Proba(self,image):\n",
    "    \n",
    "        Probabilities = np.zeros((image.shape[:-1]))\n",
    "        numb_components = self.numb_components\n",
    "        for i in range(numb_components):\n",
    "            Probabilities += self.lamda[i] * multivariate_normal(mean=self.means[i], cov=self.covariance[i]).pdf(image)\n",
    "        return Probabilities "
   ]
  },
  {
   "cell_type": "markdown",
   "metadata": {},
   "source": [
    "### 3 Feature vector\n",
    "\n",
    "A feature vector can be considered a collection of features (important characteristic of the image being studied) which you extracted and form of matrix. For this project the following feature sets will be utilized:\n",
    "\n",
    "1. RGB pixel value\n",
    "2. RGB+Difference of Gaussian\n",
    "3. One other feature set from the previous labs that performed well.\n",
    "\n",
    "The function bellow returns the puzzle and background pixels for this project, conversely the following sections will make use of the function bellow."
   ]
  },
  {
   "cell_type": "code",
   "execution_count": 7,
   "metadata": {},
   "outputs": [
    {
     "name": "stdout",
     "output_type": "stream",
     "text": [
      "For the mask we have :[0. 1.]\n",
      "Number of white or puzzle pixels :32400\n",
      "Number of black or background pixels :93470\n"
     ]
    }
   ],
   "source": [
    "def pixels(image, mask):\n",
    "    '''\n",
    "    Return puzzle and background pixels\n",
    "    params: \n",
    "    - image array containing all the image\n",
    "    - mask array containing all the mask \n",
    "    '''\n",
    "    puzzle = image[mask == 1]\n",
    "    background = image[mask == 0]\n",
    "    return puzzle, background\n",
    "    \n",
    "def priors(mask): \n",
    "    '''\n",
    "    Return the prior of the mask\n",
    "    params: \n",
    "    - mask array containing all the mask             \n",
    "    '''    \n",
    "    puzzle = np.sum(mask == 1)\n",
    "    background = np.sum(mask == 0)\n",
    "    prior = puzzle/(puzzle + background)\n",
    "    return prior\n",
    "\n",
    "def Puzzle_background_Pixels_one(num_images,img,mks):\n",
    "    '''\n",
    "    Return the puzzle and background pixels plus the prior of the mask to be used later in the project\n",
    "    params: \n",
    "    - num_images it specifies the number of images we wish to extract information from\n",
    "    - img array containing all the image data\n",
    "    - mk array containing all the mask data\n",
    "    \n",
    "    altought there are may ways to do this this source to concatenate feature vectors as used in this project:\n",
    "    https://www.researchgate.net/post/How_to_concatenate_feature_vectors_in_Python\n",
    "    ''' \n",
    "    prior = 0\n",
    "    for i in range(num_images):\n",
    "        image, mask = (img[i], mks[i])\n",
    "        if(i == 0):\n",
    "            puzzle_pixels, background_pixels = pixels(image, mask)\n",
    "            prior = priors(mask)\n",
    "        else:\n",
    "            curr_puzzle_pixels, curr_background_pixels = pixels(image, mask)\n",
    "            puzzle_pixels = np.vstack((puzzle_pixels, curr_puzzle_pixels))\n",
    "            background_pixels = np.vstack((background_pixels, curr_background_pixels))\n",
    "            prior += priors(mask)\n",
    "    return puzzle_pixels, background_pixels,prior\n",
    "\n",
    "print('For the mask we have :{}'.format(np.unique(masks[0])) )\n",
    "print('Number of white or puzzle pixels :{}'.format(np.sum(masks[0] == 1)))#puzzle pixel for image 1\n",
    "print('Number of black or background pixels :{}'.format(np.sum(masks[0] == 0))) #background pixel for image 1\n",
    "\n",
    "#helper function to display images using matplotlib.pyplot.imshow \n",
    "def visualize(imgs, format=None):\n",
    "    '''\n",
    "    Return images to be displayed \n",
    "    '''\n",
    "\n",
    "    plt.figure(figsize=(20, 40))\n",
    "    for i, img in enumerate(imgs):\n",
    "        plt_idx = i+1\n",
    "        plt.subplot(4, 2, plt_idx)    \n",
    "        plt.imshow(img)\n",
    "    plt.show()\n",
    "    \n",
    "\n",
    "#helper function to display images using matplotlib.pyplot.imshow \n",
    "def visualize2(imgs, format=None):\n",
    "    '''\n",
    "    Return images to be displayed \n",
    "    '''\n",
    "\n",
    "    plt.figure(figsize=(20, 40))\n",
    "    for i, img in enumerate(imgs):\n",
    "        plt_idx = i+1\n",
    "        plt.subplot(4, 2, plt_idx)    \n",
    "        plt.imshow(img,cmap='inferno')\n",
    "    plt.show()\n",
    "    \n",
    "#Number of white or puzzle pixels :72825\n",
    "#Number of black or background pixels :210229"
   ]
  },
  {
   "cell_type": "markdown",
   "metadata": {},
   "source": [
    "#### 3.1 RGB pixel value\n",
    "Retreiving RGB pixel values in image and creating the first feature vector of the lab."
   ]
  },
  {
   "cell_type": "code",
   "execution_count": 8,
   "metadata": {},
   "outputs": [],
   "source": [
    "puzzle_pixel_RGB, background_pixel_RGB, prior_RGB = Puzzle_background_Pixels_one(30,train_X,train_y)"
   ]
  },
  {
   "cell_type": "code",
   "execution_count": 193,
   "metadata": {
    "scrolled": true
   },
   "outputs": [
    {
     "name": "stdout",
     "output_type": "stream",
     "text": [
      "The number of gaussian for RGB implementation is: 5\n",
      "0 0.2619766\n",
      "1 0.042591445\n",
      "2 0.025249146\n",
      "3 0.018886449\n",
      "4 0.021239435\n",
      "5 0.020605875\n",
      "6 0.016957188\n",
      "7 0.01248437\n",
      "8 0.009071778\n",
      "9 0.007923847\n",
      "10 0.009261084\n",
      "11 0.011743451\n",
      "12 0.014399347\n",
      "13 0.016486973\n",
      "14 0.017407047\n",
      "15 0.017305106\n",
      "16 0.016964052\n",
      "17 0.017043391\n",
      "18 0.017746113\n",
      "19 0.018703453\n",
      "20 0.018821962\n",
      "21 0.017809905\n",
      "22 0.01647608\n",
      "23 0.014609324\n",
      "24 0.012554081\n",
      "25 0.010665587\n",
      "26 0.009038625\n",
      "27 0.007648944\n",
      "28 0.0064422744\n",
      "29 0.0053806677\n",
      "30 0.0044502816\n",
      "31 0.0036496404\n",
      "32 0.0029758532\n",
      "33 0.002421091\n",
      "34 0.0019720774\n",
      "35 0.0016128886\n",
      "36 0.0013276513\n",
      "37 0.0011016229\n",
      "38 0.0009220591\n"
     ]
    }
   ],
   "source": [
    "gmms = []\n",
    "\n",
    "for i in range(5, 6):\n",
    "    print('The number of gaussian for RGB implementation is:',i)\n",
    "    pkl = open(\"gmm-RGBKmeans-final\"+str(i)+\".pickle\",\"wb\")\n",
    "    gmm = GMM_scratch(puzzle_pixel_RGB, i,0)#GMM with random clustered centers\n",
    "    gmm.fit()\n",
    "    pickle.dump(gmm, pkl)\n",
    "    gmms.append(gmm)\n",
    "    pkl.close()\n",
    "\n",
    "pkl = open(\"gmm-RGBKmeans-final.pickle\",\"wb\")\n",
    "pickle.dump(gmms, pkl)\n",
    "pkl.close()"
   ]
  },
  {
   "cell_type": "markdown",
   "metadata": {},
   "source": [
    "##### Metrics and ...."
   ]
  },
  {
   "cell_type": "code",
   "execution_count": 58,
   "metadata": {
    "scrolled": true
   },
   "outputs": [
    {
     "name": "stdout",
     "output_type": "stream",
     "text": [
      "The accuracy for GMM 2 is : 92.53992214189243\n",
      "The accuracy for GMM 3 is : 92.09660761102725\n",
      "The accuracy for GMM 4 is : 93.51553189798999\n",
      "The accuracy for GMM 5 is : 93.44482402478748\n"
     ]
    }
   ],
   "source": [
    "covariance_background = np.cov(background_pixel_RGB.T)\n",
    "mean_background = np.mean(background_pixel_RGB, 0)  \n",
    "\n",
    "probs = []\n",
    "images_RGB = []\n",
    "acc = 0\n",
    "for i in range(2, 6):\n",
    "    pickle_off = open(\"pickles/gmm-RGBKmeans-final\"+str(i)+\".pickle\",\"rb\")\n",
    "    gmm = pickle.load(pickle_off)\n",
    "    \n",
    "    index = 2\n",
    "    image, mask = (test_X[index], test_y[index])\n",
    "\n",
    "    likelihood = gmm.Proba(image)\n",
    "    part1 = prior_RGB*likelihood\n",
    "    part2 = ((1-prior_RGB)*multivariate_normal(mean=mean_background, cov=covariance_background).pdf(image))\n",
    "    part3 = part1 + part2 \n",
    "    prob = part1/part3\n",
    "\n",
    "    prob[prob>0.5] = 1\n",
    "    prob[prob<0.5] = 0\n",
    "    \n",
    "    images_RGB.append(prob)\n",
    "    \n",
    "    prob = prob.ravel().astype(int)\n",
    "    mask = mask.ravel()\n",
    "    score = accuracy_score(mask, prob)*100\n",
    "    print(\"The accuracy for GMM\",i,\"is :\",score)\n",
    "    probs.append(prob)"
   ]
  },
  {
   "cell_type": "code",
   "execution_count": 16,
   "metadata": {
    "scrolled": false
   },
   "outputs": [
    {
     "data": {
      "image/png": "[encoded data removed]",
      "text/plain": [
       "<Figure size 1440x2880 with 4 Axes>"
      ]
     },
     "metadata": {
      "needs_background": "light"
     },
     "output_type": "display_data"
    }
   ],
   "source": [
    "visualize(images_RGB)"
   ]
  },
  {
   "cell_type": "code",
   "execution_count": null,
   "metadata": {},
   "outputs": [],
   "source": []
  }
 ],
 "metadata": {
  "kernelspec": {
   "display_name": "Python 3",
   "language": "python",
   "name": "python3"
  },
  "language_info": {
   "codemirror_mode": {
    "name": "ipython",
    "version": 3
   },
   "file_extension": ".py",
   "mimetype": "text/x-python",
   "name": "python",
   "nbconvert_exporter": "python",
   "pygments_lexer": "ipython3",
   "version": "3.7.4"
  }
 },
 "nbformat": 4,
 "nbformat_minor": 2
}
