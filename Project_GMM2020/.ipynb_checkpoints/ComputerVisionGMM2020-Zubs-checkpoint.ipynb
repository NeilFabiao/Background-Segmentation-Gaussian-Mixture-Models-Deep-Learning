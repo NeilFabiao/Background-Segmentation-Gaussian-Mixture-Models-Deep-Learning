{
 "cells": [
  {
   "cell_type": "code",
   "execution_count": 1,
   "metadata": {},
   "outputs": [],
   "source": [
    "#importing all the necessary libraries \n",
    "import numpy as np\n",
    "import pandas as pd  \n",
    "import imageio\n",
    "from skimage import img_as_float32 as as_float\n",
    "from natsort import natsorted\n",
    "from glob import glob\n",
    "import matplotlib.pyplot as plt\n",
    "import seaborn as sns\n",
    "import random\n",
    "from scipy.stats import multivariate_normal\n",
    "import cv2\n",
    "import pickle\n",
    "from sklearn.metrics import accuracy_score\n",
    "import time\n",
    "from skimage import exposure\n",
    "from functools import partial\n",
    "from tqdm import tqdm\n",
    "tqdm = partial(tqdm, position=0, leave=True)\n",
    "from sklearn.metrics import confusion_matrix\n",
    "from sklearn.metrics import cohen_kappa_score\n",
    "plt.gray() #include this to display the gray scalled version of the image using matplotlib\n",
    "#!pip install split-folders"
   ]
  },
  {
   "cell_type": "markdown",
   "metadata": {},
   "source": [
    "# Project: Revisiting Background Segmentation Gaussian Mixture Models & Deep Learning\n",
    " \n",
    "Submited by : $Sibusiso \\space Mgidi$ student number 1141573 and $Neil \\space Fabi\\tilde{a}o$ student number 2216748"
   ]
  },
  {
   "cell_type": "markdown",
   "metadata": {},
   "source": [
    "**Note:** \n",
    "\n",
    "`1. This jupyter notebook is considered part 1 of the project, containing code and explanation for the Gauissian Mixture modeling section.`\n",
    "\n",
    "`2. After each numbered header for example 1.Dataset there will be a dedicated cell with code for the particular task `\n"
   ]
  },
  {
   "cell_type": "markdown",
   "metadata": {},
   "source": [
    "## Introduction\n",
    "\n",
    "In previous labs, we have been helping Quarantino solve his puzzle. In Lab 0, we worked with Tino to create\n",
    "several ground truth masks which indicated which pixels belonged to the background and which ones belonged\n",
    "to the puzzle piece.\n",
    "\n",
    "### 1 Dataset"
   ]
  },
  {
   "cell_type": "markdown",
   "metadata": {},
   "source": [
    "COMS4036A students only need the dataset that contians cleaned masks and images from Lab 6 provided in puzzle corners 1024x768 v2.zip downloaded from Moodle. The  puzzle images dataset is divide the into training (70%), validation (15%) and test (15%) sets, which you will use for training and analysis in the tasks below. This works out to 34 training images, 7 validation and 7 test images.\n",
    "\n",
    "- Consider the implications of a dataset this size for the methods below and explain whether or not it will be a problem for each.\n",
    "\n",
    "- Explain how you split your data into these sets."
   ]
  },
  {
   "cell_type": "code",
   "execution_count": 2,
   "metadata": {},
   "outputs": [
    {
     "name": "stdout",
     "output_type": "stream",
     "text": [
      "There are 48 images and 48 masks\n",
      "The shape of our data is (48, 768, 1024, 3) and (48, 768, 1024)\n"
     ]
    }
   ],
   "source": [
    "#reading the dataset\n",
    "path_pairs = list(zip(\n",
    "natsorted(glob('./puzzle_corners_1024x768/images-1024x768/*.png')),\n",
    "natsorted(glob('./puzzle_corners_1024x768/masks-1024x768/*.png')),\n",
    "))\n",
    "img = np.array([as_float(imageio.imread(ipath)) for ipath, _ in path_pairs])\n",
    "msk = np.array([as_float(imageio.imread(mpath)) for _, mpath in path_pairs])\n",
    "\n",
    "print('There are',img.shape[0],'images and',msk.shape[0],'masks')\n",
    "print('The shape of our data is',img.shape,'and',msk.shape)"
   ]
  },
  {
   "cell_type": "code",
   "execution_count": 3,
   "metadata": {},
   "outputs": [
    {
     "name": "stderr",
     "output_type": "stream",
     "text": [
      "Resizing Images: 100%|██████████| 48/48 [00:00<00:00, 1019.24it/s]\n",
      "Resizing Masks: 100%|██████████| 48/48 [00:00<00:00, 2373.07it/s]"
     ]
    },
    {
     "name": "stdout",
     "output_type": "stream",
     "text": [
      "\n",
      " (768, 1024, 3) -> (307, 410, 3)\n"
     ]
    },
    {
     "name": "stderr",
     "output_type": "stream",
     "text": [
      "\n"
     ]
    }
   ],
   "source": [
    "SIZE = (768, 1024)\n",
    "\n",
    "assert img.shape == (48, SIZE[0], SIZE[1], 3)\n",
    "assert msk.shape == (48, SIZE[0], SIZE[1])\n",
    "\n",
    "SCALE = 0.40\n",
    "\n",
    "images = [cv2.resize(img, None, fx=SCALE, fy=SCALE) for img in tqdm(img, 'Resizing Images')]\n",
    "masks1 = [cv2.resize(img, None, fx=SCALE, fy=SCALE) for img in tqdm(msk, 'Resizing Masks')]\n",
    "\n",
    "masks = []#thresholding the mask to 0 and 1 since after rescaling the mask will have different float values\n",
    "for i in range(len(masks1)):\n",
    "    mask = cv2.threshold(masks1[i],0,1,cv2.THRESH_BINARY)[1]\n",
    "    masks.append(mask)\n",
    "    \n",
    "print('\\n', img[0].shape, '->', images[0].shape)"
   ]
  },
  {
   "cell_type": "code",
   "execution_count": 4,
   "metadata": {},
   "outputs": [],
   "source": [
    "#Splitting the dataset\n",
    "#source: https://www.quora.com/How-can-I-split-my-image-datasets-into-training-validation-and-testing-sets-for-Neural-Network-CNN-in-python\n",
    "#https://stackoverflow.com/questions/38250710/how-to-split-data-into-3-sets-train-validation-and-test\n",
    "from sklearn.model_selection import train_test_split \n",
    " \n",
    "\n",
    "VALIDATION_needed = True \n",
    "def train_test_valid_split(all_X, all_Y,PERC_TRAIN = 0.65,PERC_VALIDATION = 0.14,PERC_TEST = 0.13): \n",
    "    '''\n",
    "    returs the desired data split ( 34 training images, 7 validation and 7 test images)\n",
    "    \n",
    "    params: \n",
    "    - all_X image data\n",
    "    - all_Y mask or ground truth data\n",
    "    - PERC_VALIDATION percentage for validation data\n",
    "    - PERC_TEST percentage for testing data\n",
    "    - PERC_TRAIN percentage for training data\n",
    "    \n",
    "    '''\n",
    "    left_X, valid_X, left_y, valid_y = train_test_split(all_X, all_Y, test_size=PERC_VALIDATION) \n",
    "    train_X, test_X, train_y, test_y = train_test_split(left_X, left_y, test_size=PERC_TEST / (PERC_TEST + PERC_TRAIN)) \n",
    "    return test_X, test_y, train_X, train_y, valid_X, valid_y \n",
    " \n",
    "if VALIDATION_needed: \n",
    "    test_X, test_y, train_X, train_y, valid_X, valid_y = train_test_valid_split(images, masks) \n",
    "else: \n",
    "    train_X, test_X, train_y, test_y = train_test_split(images, masks) "
   ]
  },
  {
   "cell_type": "code",
   "execution_count": 5,
   "metadata": {},
   "outputs": [
    {
     "name": "stdout",
     "output_type": "stream",
     "text": [
      "After data split have: 34 training images 7 validation and 7 test images\n"
     ]
    }
   ],
   "source": [
    "print('After data split have:',len(train_X),\n",
    "      'training images',len(valid_X),\n",
    "      'validation and',len(test_X),'test images')"
   ]
  },
  {
   "cell_type": "markdown",
   "metadata": {},
   "source": [
    "<img src=\"./im/traintest.png\" alt=\"Where is the image ?\" width=\"670\"/>"
   ]
  },
  {
   "cell_type": "markdown",
   "metadata": {},
   "source": [
    "### 2 Gaussian Mixture Models\n",
    "\n",
    "(the written section is not completed need to change most of the information is from another source and has yet to ba paraphrased)"
   ]
  },
  {
   "cell_type": "markdown",
   "metadata": {},
   "source": [
    "In statistics, an expectation–maximization (EM) algorithm is an iterative method to find (local) maximum likelihood or maximum a posteriori (MAP) estimates of parameters in statistical models, where the model depends on unobserved latent variables. The EM iteration alternates between performing an expectation (E) step, which creates a function for the expectation of the log-likelihood evaluated using the current estimate for the parameters, and a maximization (M) step, which computes parameters maximizing the expected log-likelihood found on the E step. These parameter-estimates are then used to determine the distribution of the latent variables in the next E step  [Oran Looney,2019](http://www.oranlooney.com/post/ml-from-scratch-part-5-gmm/). source:"
   ]
  },
  {
   "cell_type": "markdown",
   "metadata": {},
   "source": [
    "<img src=\"./im/gmm.gif\" alt=\"Where is the image ?\" width=\"200\" heigth=\"200\"/>"
   ]
  },
  {
   "cell_type": "code",
   "execution_count": 6,
   "metadata": {},
   "outputs": [],
   "source": [
    "class GMM_scratch:\n",
    "    '''\n",
    "        This class is the implementation of the Gaussian Mixture Models for the project\n",
    "        Inspiration for this function came from sklearn.mixture.GaussianMixture and other sources listed bellow\n",
    "        \n",
    "        params: \n",
    "        data - the image data to train in the EM step of the GMM\n",
    "        numb_components - the number of clusters to train the GMM\n",
    "        init_strategy - method to initialize the means of the GMM. 0 is the normal initialization method\n",
    "        \n",
    "        \n",
    "        sources :\n",
    "        https://github.com/ScienceKot/mysklearn/blob/master/Gaussian%20Mixture%20Models/GMM.py\n",
    "        https://stackoverflow.com/questions/44913009/initialize-gmm-using-sklearn-python\n",
    "        https://github.com/SeoHyeong/GMM_image-segmentation/blob/master/GMM_image%20segmentation.ipynb\n",
    "    '''\n",
    "    \n",
    "    \n",
    "    def __init__(self, data, numb_components,init_strategy):#Step1 initialization of the main variables\n",
    "                \n",
    "        self.data = data\n",
    "        self.numb_components = numb_components\n",
    "        \n",
    "        self.H = self.data.shape[1]#D#need to understant this point\n",
    "        self.W = self.data.shape[0]#n#need to understant this point\n",
    "        \n",
    "        self.lamda = np.ones((self.numb_components))/self.numb_components\n",
    "        self.means = np.zeros((self.numb_components,self.H))\n",
    "        #create distances variable\n",
    "        if(init_strategy == 0):#random initialization\n",
    "            for i in range(self.numb_components):\n",
    "                soma = random.choice(self.data)\n",
    "                self.means[i] = soma\n",
    "            \n",
    "        else:#kmeans initialization\n",
    "            from sklearn.cluster import KMeans\n",
    "            km = KMeans(numb_components).fit(self.data)\n",
    "            self.means = km.cluster_centers_\n",
    "            \n",
    "        self.covariance = np.zeros((self.numb_components,self.H,self.H))#creating the covariance array with the necessary dimations \n",
    "        self.covariance[:] = np.cov(self.data.T)#array that holds all the covariance information \n",
    "\n",
    "        self.responsavel = np.zeros((self.W, self.numb_components))#responsavel is simply responsability array given the number of channels and components in the array\n",
    "        \n",
    "    #-------------------------------------------Norm-Step------------------------------------------------------------     \n",
    "    def normalvariant(self):\n",
    "        '''\n",
    "        this is used to make inference throught the class, best to have a separate function as also seen on sklearn\n",
    "        '''\n",
    "        numb_components = self.numb_components\n",
    "        self.normal = []\n",
    "        for i in range(numb_components):\n",
    "            self.normal.append(multivariate_normal(mean=self.means[i], cov=self.covariance[i]))\n",
    "    #-------------------------------------------E-Step-------------------------------------------------------------- \n",
    "    def Expectation(self):#need to understant this section\n",
    "        numb_components = self.numb_components\n",
    "        self.normalvariant()\n",
    "        \n",
    "        for i, points in enumerate(self.data):\n",
    "            for j in range(numb_components):\n",
    "                \n",
    "                self.responsavel[i,j] = self.lamda[j]*self.normal[j].pdf(points)\n",
    "            self.responsavel[i,:] /= self.responsavel[i, :].sum()\n",
    "            \n",
    "    #-------------------------------------------M-Step---------------------------------------------------------------\n",
    "    def Maximization(self):#need to understant this section\n",
    "        numb_components = self.numb_components\n",
    "\n",
    "        responsavel_sum = self.responsavel.sum(0)\n",
    "        \n",
    "        self.lamda = responsavel_sum/float(self.responsavel.sum())\n",
    "\n",
    "        for i in range(self.numb_components):\n",
    "            self.means[i] = self.responsavel[:,i].dot(self.data)/responsavel_sum[i]\n",
    "            \n",
    "        for i in range(self.numb_components):\n",
    "            temp = np.zeros((self.H, self.H))\n",
    "            for j in range(self.W):\n",
    "                t = self.data[j, :] - self.means[i]\n",
    "                temp += self.responsavel[j,i]*np.outer(t,t)\n",
    "            self.covariance[i] = temp/responsavel_sum[i]\n",
    "            \n",
    "    #-------------------------------------------Train or fit Step----------------------------------------------------- \n",
    "    def fit(self, tolerance=0.001, max_epoch=50):\n",
    "        distance = tolerance\n",
    "        epoch = 0\n",
    "        while ((distance >= tolerance) and (epoch != max_epoch)):\n",
    "            old_means = self.means.copy()\n",
    "            self.Expectation()\n",
    "            self.Maximization()\n",
    "            distance = np.linalg.norm(old_means - self.means)\n",
    "            print(epoch, distance)\n",
    "            epoch += 1\n",
    "   #-------------------------------------------Likelihood-Step--------------------------------------------------------\n",
    "    def Proba(self,image):\n",
    "    \n",
    "        Probabilities = np.zeros((image.shape[:-1]))\n",
    "        numb_components = self.numb_components\n",
    "        for i in range(numb_components):\n",
    "            Probabilities += self.lamda[i] * multivariate_normal(mean=self.means[i], cov=self.covariance[i]).pdf(image)\n",
    "        return Probabilities "
   ]
  },
  {
   "cell_type": "markdown",
   "metadata": {},
   "source": [
    "### 3 Feature vector\n",
    "\n",
    "A feature vector can be considered a collection of features (important characteristic of the image being studied) which you extracted and form of matrix. For this project the following feature sets will be utilized:\n",
    "\n",
    "1. RGB pixel value\n",
    "2. RGB+Difference of Gaussian\n",
    "3. One other feature set from the previous labs that performed well.\n",
    "\n",
    "The function bellow returns the puzzle and background pixels for this project, conversely the following sections will make use of the function bellow."
   ]
  },
  {
   "cell_type": "code",
   "execution_count": 7,
   "metadata": {},
   "outputs": [
    {
     "name": "stdout",
     "output_type": "stream",
     "text": [
      "For the mask we have :[0. 1.]\n",
      "Number of white or puzzle pixels :32400\n",
      "Number of black or background pixels :93470\n"
     ]
    }
   ],
   "source": [
    "def pixels(image, mask):\n",
    "    '''\n",
    "    Return puzzle and background pixels\n",
    "    params: \n",
    "    - image array containing all the image\n",
    "    - mask array containing all the mask \n",
    "    '''\n",
    "    puzzle = image[mask == 1]\n",
    "    background = image[mask == 0]\n",
    "    return puzzle, background\n",
    "    \n",
    "def priors(mask): \n",
    "    '''\n",
    "    Return the prior of the mask\n",
    "    params: \n",
    "    - mask array containing all the mask             \n",
    "    '''    \n",
    "    puzzle = np.sum(mask == 1)\n",
    "    background = np.sum(mask == 0)\n",
    "    prior = puzzle/(puzzle + background)\n",
    "    return prior\n",
    "\n",
    "def Puzzle_background_Pixels_one(num_images,img,mks):\n",
    "    '''\n",
    "    Return the puzzle and background pixels plus the prior of the mask to be used later in the project\n",
    "    params: \n",
    "    - num_images it specifies the number of images we wish to extract information from\n",
    "    - img array containing all the image data\n",
    "    - mk array containing all the mask data\n",
    "    \n",
    "    altought there are may ways to do this this source to concatenate feature vectors as used in this project:\n",
    "    https://www.researchgate.net/post/How_to_concatenate_feature_vectors_in_Python\n",
    "    ''' \n",
    "    prior = 0\n",
    "    for i in range(num_images):\n",
    "        image, mask = (img[i], mks[i])\n",
    "        if(i == 0):\n",
    "            puzzle_pixels, background_pixels = pixels(image, mask)\n",
    "            prior = priors(mask)\n",
    "        else:\n",
    "            curr_puzzle_pixels, curr_background_pixels = pixels(image, mask)\n",
    "            puzzle_pixels = np.vstack((puzzle_pixels, curr_puzzle_pixels))\n",
    "            background_pixels = np.vstack((background_pixels, curr_background_pixels))\n",
    "            prior += priors(mask)\n",
    "    return puzzle_pixels, background_pixels,prior\n",
    "\n",
    "print('For the mask we have :{}'.format(np.unique(masks[0])) )\n",
    "print('Number of white or puzzle pixels :{}'.format(np.sum(masks[0] == 1)))#puzzle pixel for image 1\n",
    "print('Number of black or background pixels :{}'.format(np.sum(masks[0] == 0))) #background pixel for image 1\n",
    "\n",
    "#helper function to display images using matplotlib.pyplot.imshow \n",
    "def visualize(imgs, format=None):\n",
    "    '''\n",
    "    Return images to be displayed \n",
    "    '''\n",
    "\n",
    "    plt.figure(figsize=(20, 40))\n",
    "    for i, img in enumerate(imgs):\n",
    "        plt_idx = i+1\n",
    "        plt.subplot(4, 2, plt_idx)    \n",
    "        plt.imshow(img)\n",
    "    plt.show()\n",
    "    \n",
    "\n",
    "#helper function to display images using matplotlib.pyplot.imshow \n",
    "def visualize2(imgs, format=None):\n",
    "    '''\n",
    "    Return images to be displayed \n",
    "    '''\n",
    "\n",
    "    plt.figure(figsize=(20, 40))\n",
    "    for i, img in enumerate(imgs):\n",
    "        plt_idx = i+1\n",
    "        plt.subplot(4, 2, plt_idx)    \n",
    "        plt.imshow(img,cmap='inferno')\n",
    "    plt.show()\n",
    "    \n",
    "#Number of white or puzzle pixels :72825\n",
    "#Number of black or background pixels :210229"
   ]
  },
  {
   "cell_type": "markdown",
   "metadata": {},
   "source": [
    "#### 3.1 RGB pixel value\n",
    "Retreiving RGB pixel values in image and creating the first feature vector of the lab."
   ]
  },
  {
   "cell_type": "code",
   "execution_count": 8,
   "metadata": {},
   "outputs": [],
   "source": [
    "puzzle_pixel_RGB, background_pixel_RGB, prior_RGB = Puzzle_background_Pixels_one(30,train_X,train_y)"
   ]
  },
  {
   "cell_type": "code",
   "execution_count": 193,
   "metadata": {
    "scrolled": true
   },
   "outputs": [
    {
     "name": "stdout",
     "output_type": "stream",
     "text": [
      "The number of gaussian for RGB implementation is: 5\n",
      "0 0.2619766\n",
      "1 0.042591445\n",
      "2 0.025249146\n",
      "3 0.018886449\n",
      "4 0.021239435\n",
      "5 0.020605875\n",
      "6 0.016957188\n",
      "7 0.01248437\n",
      "8 0.009071778\n",
      "9 0.007923847\n",
      "10 0.009261084\n",
      "11 0.011743451\n",
      "12 0.014399347\n",
      "13 0.016486973\n",
      "14 0.017407047\n",
      "15 0.017305106\n",
      "16 0.016964052\n",
      "17 0.017043391\n",
      "18 0.017746113\n",
      "19 0.018703453\n",
      "20 0.018821962\n",
      "21 0.017809905\n",
      "22 0.01647608\n",
      "23 0.014609324\n",
      "24 0.012554081\n",
      "25 0.010665587\n",
      "26 0.009038625\n",
      "27 0.007648944\n",
      "28 0.0064422744\n",
      "29 0.0053806677\n",
      "30 0.0044502816\n",
      "31 0.0036496404\n",
      "32 0.0029758532\n",
      "33 0.002421091\n",
      "34 0.0019720774\n",
      "35 0.0016128886\n",
      "36 0.0013276513\n",
      "37 0.0011016229\n",
      "38 0.0009220591\n"
     ]
    }
   ],
   "source": [
    "gmms = []\n",
    "\n",
    "for i in range(5, 6):\n",
    "    print('The number of gaussian for RGB implementation is:',i)\n",
    "    pkl = open(\"gmm-RGBKmeans-final\"+str(i)+\".pickle\",\"wb\")\n",
    "    gmm = GMM_scratch(puzzle_pixel_RGB, i,1)#GMM with sklearn clustered centers\n",
    "    gmm.fit()\n",
    "    pickle.dump(gmm, pkl)\n",
    "    gmms.append(gmm)\n",
    "    pkl.close()\n",
    "\n",
    "pkl = open(\"gmm-RGBKmeans-final.pickle\",\"wb\")\n",
    "pickle.dump(gmms, pkl)\n",
    "pkl.close()"
   ]
  },
  {
   "cell_type": "markdown",
   "metadata": {},
   "source": [
    "The number of gaussian for RGB implementation is: 1\n",
    "0 2.6151432e-07\n",
    "The number of gaussian for RGB implementation is: 2\n",
    "0 0.11655671\n",
    "1 0.031162469\n",
    "2 0.02642044\n",
    "3 0.014105668\n",
    "4 0.007316382\n",
    "5 0.0049300794\n",
    "6 0.004275723\n",
    "7 0.004040173\n",
    "8 0.0038939836\n",
    "9 0.0037687363\n",
    "10 0.003646149\n",
    "11 0.003520257\n",
    "12 0.003389694\n",
    "13 0.003254846\n",
    "14 0.0031170838\n",
    "15 0.0029780297\n",
    "16 0.0028392419\n",
    "17 0.0027018774\n",
    "18 0.0025667995\n",
    "19 0.0024338472\n",
    "20 0.002302964\n",
    "21 0.002173725\n",
    "22 0.002045948\n",
    "23 0.0019196745\n",
    "24 0.0017950851\n",
    "25 0.0016727871\n",
    "26 0.001553313\n",
    "27 0.0014372584\n",
    "28 0.0013255242\n",
    "29 0.0012185212\n",
    "30 0.0011167492\n",
    "31 0.0010204813\n",
    "32 0.00093005924\n",
    "The number of gaussian for RGB implementation is: 3\n",
    "0 0.1642226\n",
    "1 0.032175288\n",
    "2 0.028973438\n",
    "3 0.022455003\n",
    "4 0.01782416\n",
    "5 0.014909969\n",
    "6 0.012232406\n",
    "7 0.009978425\n",
    "8 0.00810873\n",
    "9 0.0066513317\n",
    "10 0.0056354576\n",
    "11 0.005002256\n",
    "12 0.004641046\n",
    "13 0.004433941\n",
    "14 0.0042875526\n",
    "15 0.0041420935\n",
    "16 0.003972685\n",
    "17 0.0037822877\n",
    "18 0.0035792654\n",
    "19 0.0033680669\n",
    "20 0.0031492189\n",
    "21 0.0029225885\n",
    "22 0.0026905006\n",
    "23 0.0024597268\n",
    "24 0.00223928\n",
    "25 0.0020376586\n",
    "26 0.0018610753\n",
    "27 0.0017129963\n",
    "28 0.0015938595\n",
    "29 0.0015024877\n",
    "30 0.0014363591\n",
    "31 0.001392433\n",
    "32 0.0013676098\n",
    "33 0.0013588918\n",
    "34 0.0013638848\n",
    "35 0.0013803731\n",
    "36 0.0014066859\n",
    "37 0.0014414146\n",
    "38 0.0014833916\n",
    "39 0.0015316607\n",
    "40 0.0015855003\n",
    "41 0.0016441449\n",
    "42 0.0017070763\n",
    "43 0.001773692\n",
    "44 0.0018435954\n",
    "45 0.0019162259\n",
    "46 0.0019912263\n",
    "47 0.0020682018\n",
    "48 0.0021468145\n",
    "49 0.0022266987\n",
    "The number of gaussian for RGB implementation is: 4\n",
    "0 0.20942192\n",
    "1 0.04047765\n",
    "2 0.028566392\n",
    "3 0.019869732\n",
    "4 0.017617084\n",
    "5 0.014938177\n",
    "6 0.01217109\n",
    "7 0.011096732\n",
    "8 0.013317527\n",
    "9 0.016561493\n",
    "10 0.01728644\n",
    "11 0.015327171\n",
    "12 0.013212397\n",
    "13 0.0119175445\n",
    "14 0.010746815\n",
    "15 0.009319098\n",
    "16 0.0077207675\n",
    "17 0.0061656744\n",
    "18 0.004800063\n",
    "19 0.0036831233\n",
    "20 0.0028159104\n",
    "21 0.00216907\n",
    "22 0.0017016827\n",
    "23 0.0013718273\n",
    "24 0.0011414149\n",
    "25 0.0009790746\n",
    "The number of gaussian for RGB implementation is: 5\n",
    "0 0.2619766\n",
    "1 0.042591445\n",
    "2 0.025249146\n",
    "3 0.018886449\n",
    "4 0.021239435\n",
    "5 0.020605875\n",
    "6 0.016957188\n",
    "7 0.01248437\n",
    "8 0.009071778\n",
    "9 0.007923847\n",
    "10 0.009261084\n",
    "11 0.011743451\n",
    "12 0.014399347\n",
    "13 0.016486973\n",
    "14 0.017407047\n",
    "15 0.017305106\n",
    "16 0.016964052\n",
    "17 0.017043391\n",
    "18 0.017746113\n",
    "19 0.018703453\n",
    "20 0.018821962\n",
    "21 0.017809905\n",
    "22 0.01647608\n",
    "23 0.014609324\n",
    "24 0.012554081\n",
    "25 0.010665587\n",
    "26 0.009038625\n",
    "27 0.007648944\n",
    "28 0.0064422744\n",
    "29 0.0053806677\n",
    "30 0.0044502816\n",
    "31 0.0036496404\n",
    "32 0.0029758532\n",
    "33 0.002421091\n",
    "34 0.0019720774\n",
    "35 0.0016128886\n",
    "36 0.0013276513\n",
    "37 0.0011016229\n",
    "38 0.0009220591"
   ]
  },
  {
   "cell_type": "code",
   "execution_count": 9,
   "metadata": {},
   "outputs": [
    {
     "data": {
      "image/png": "[encoded data removed]",
      "text/plain": [
       "<Figure size 1080x360 with 1 Axes>"
      ]
     },
     "metadata": {
      "needs_background": "light"
     },
     "output_type": "display_data"
    }
   ],
   "source": [
    "# List1  \n",
    "tables = ['RGB 1 Gaussian', 'RGB 2 Gaussian', 'RGB 3 Gaussian', 'RGB 4 Gaussian', 'RGB 5 Gaussian']  \n",
    "\n",
    "#list 2 \n",
    "data1 = [0, 2.6151432e-07]\n",
    "data2 = [0.031162469,0.02642044,0.014105668,0.007316382,0.0049300794,0.004275723,0.004040173,0.0038939836,0.0037687363\n",
    "         ,0.003646149,0.003520257,0.003389694,0.003254846,0.0031170838,0.0029780297,0.0028392419,0.0027018774,0.0025667995,0.0024338472\n",
    "         ,0.002302964,0.002173725,0.002045948,0.0019196745,0.0017950851,0.0016727871,0.001553313,0.0014372584,0.0013255242\n",
    "         ,0.0012185212,0.0011167492,0.0010204813,0.00093005924]\n",
    "\n",
    "data3 = [0.1642226,0.032175288,0.028973438,0.022455003,0.01782416,0.014909969,0.012232406,0.009978425,0.00810873,0.0066513317,\n",
    "         0.0056354576,0.005002256,0.004641046,0.004433941,0.0042875526,0.0041420935,0.003972685,0.0037822877,0.0035792654,0.0033680669\n",
    "         ,0.0031492189,0.0029225885,0.0026905006,0.0024597268,0.00223928,0.0020376586,0.0018610753,0.0017129963,0.0015938595,0.0015024877\n",
    "         ,0.0014363591,0.001392433,0.0013676098,0.0013588918,0.0013638848,0.0013803731,0.0014066859,0.0014414146,0.0014833916\n",
    "         ,0.0015316607,0.0015855003,0.0016441449,0.0017070763,0.001773692,0.0018435954,0.0019162259,0.0019912263,0.0020682018\n",
    "         ,0.0021468145,0.0022266987]\n",
    "\n",
    "data4 = [0.20942192,0.04047765,0.028566392,0.019869732,0.017617084,0.014938177,0.01217109,0.011096732,0.013317527,0.016561493\n",
    "         ,0.01728644,0.015327171,0.013212397,0.0119175445,0.010746815,0.009319098,0.0077207675,0.0061656744,0.004800063\n",
    "         ,0.0036831233,0.0028159104,0.00216907,0.0017016827,0.0013718273,0.0011414149,0.0009790746]\n",
    "\n",
    "data5 = [0.2619766,0.042591445,0.025249146,0.018886449,0.021239435,0.020605875,0.016957188,0.01248437,0.009071778\n",
    "         ,0.007923847,0.009261084,0.011743451,0.014399347,0.016486973,0.017407047,0.017305106,0.016964052,0.017043391\n",
    "         ,0.017746113,0.018703453,0.018821962,0.017809905,0.01647608,0.014609324,0.012554081,0.010665587,0.009038625\n",
    "         ,0.007648944,0.0064422744,0.0053806677,0.0044502816,0.0036496404,0.0029758532,0.002421091,0.0019720774,0.0016128886\n",
    "         ,0.0013276513,0.0011016229,0.0009220591]\n",
    "\n",
    "RGB1 = pd.DataFrame({tables[0]: data1})\n",
    "RGB2 = pd.DataFrame({tables[1]: data2})\n",
    "RGB3 = pd.DataFrame({tables[2]: data3})\n",
    "RGB4 = pd.DataFrame({tables[3]: data4})\n",
    "RGB5 = pd.DataFrame({tables[4]: data5})\n",
    "\n",
    "\n",
    "plt.figure(figsize=(15, 5))\n",
    "plt.plot(RGB1,label=\"RGB Kmeans 1 Gaussian\")\n",
    "plt.plot(RGB2,label=\"RGB Kmeans 2 Gaussian\")\n",
    "plt.plot(RGB3,label=\"RGB Kmeans 3 Gaussian\")\n",
    "plt.plot(RGB4,label=\"RGB Kmeans 4 Gaussian\")\n",
    "plt.plot(RGB5,label=\"RGB Kmeans 5 Gaussian\")\n",
    "plt.legend()\n",
    "plt.show()"
   ]
  },
  {
   "cell_type": "markdown",
   "metadata": {},
   "source": [
    "##### Metrics and ...."
   ]
  },
  {
   "cell_type": "code",
   "execution_count": 57,
   "metadata": {},
   "outputs": [],
   "source": [
    "def Metrics_CM_CK_IOU(test,index,images):\n",
    "    '''\n",
    "    Return the confusion matrix, the cohens kappa score and IOU (intersection over union)\n",
    "    for only 4 probable masks.\n",
    "    \n",
    "    params: \n",
    "    - test is the array containing the testing images\n",
    "    - index of the image that was used to generate the probable images\n",
    "    - image array containing all the image provided by the GMM (probable maks)\n",
    "    \n",
    "    '''\n",
    "    \n",
    "    main_mask = test[index]\n",
    "    main_mask = main_mask.flatten()\n",
    "\n",
    "    Prob_mask1 = images[0]\n",
    "    Prob_mask1 = Prob_mask1.flatten()\n",
    "\n",
    "    Prob_mask2 = images[1]\n",
    "    Prob_mask2 = Prob_mask2.flatten()\n",
    "\n",
    "    Prob_mask3 = images[2]\n",
    "    Prob_mask3 = Prob_mask3.flatten()\n",
    "    \n",
    "    Prob_mask4 = images[3]\n",
    "    Prob_mask4 = Prob_mask4.flatten()\n",
    "\n",
    "    model1 = confusion_matrix(main_mask, Prob_mask1)\n",
    "    print('This is the confusion matrix for mask',index,'and GMM mask 2: \\n',model1)\n",
    "\n",
    "    model2 = confusion_matrix(main_mask, Prob_mask2)\n",
    "    print('This is the confusion matrix for mask',index,'and GMM mask 3: \\n',model2)\n",
    "\n",
    "    model3 = confusion_matrix(main_mask, Prob_mask3)\n",
    "    print('This is the confusion matrix for mask',index,'and GMM mask 4: \\n',model3)\n",
    "    \n",
    "    model4 = confusion_matrix(main_mask, Prob_mask4)\n",
    "    print('This is the confusion matrix for mask',index,'and GMM mask 5: \\n',model4)\n",
    "\n",
    "    print('\\n')\n",
    "    \n",
    "    cohens_kappa1 = cohen_kappa_score(main_mask, Prob_mask1)\n",
    "    print('This is the cohens kappa score for mask',index,'and GMM mask 2:',cohens_kappa1)\n",
    "\n",
    "    cohens_kappa2 = cohen_kappa_score(main_mask, Prob_mask2)\n",
    "    print('This is the cohens kappa score for mask',index,'and GMM mask 3: ',cohens_kappa2)\n",
    "\n",
    "    cohens_kappa3 = cohen_kappa_score(main_mask, Prob_mask3)\n",
    "    print('This is the cohens kappa score for mask',index,'and GMM mask 4: ',cohens_kappa3)\n",
    "    \n",
    "    cohens_kappa4 = cohen_kappa_score(main_mask, Prob_mask4)\n",
    "    print('This is the cohens kappa score for mask',index,'and GMM mask 5:',cohens_kappa4)\n",
    "    \n",
    "    print('\\n')\n",
    "    \n",
    "    overlap = main_mask*Prob_mask1 # Logical AND\n",
    "    union = main_mask + Prob_mask1# Logical OR\n",
    "    IOU1 = overlap.sum()/float(union.sum())           \n",
    "    print('The intersection over union of the predicted GMM 2 and mask',index,': ',IOU1)\n",
    "\n",
    "    overlap = main_mask*Prob_mask2 \n",
    "    union = main_mask + Prob_mask2 # Logical OR\n",
    "    IOU2 = overlap.sum()/float(union.sum())      \n",
    "    print('The intersection over union of the predicted GMM 3 and mask',index,': ',IOU2) \n",
    "    \n",
    "    overlap = main_mask*Prob_mask3 # Logical AND\n",
    "    union = main_mask + Prob_mask3 # Logical OR\n",
    "    IOU3 = overlap.sum()/float(union.sum())         \n",
    "    print('The intersection over union of the predicted GMM 4 and mask',index,': ',IOU3)\n",
    "    \n",
    "    overlap = main_mask*Prob_mask4 # Logical AND\n",
    "    union = main_mask + Prob_mask4 # Logical OR\n",
    "    IOU4 = overlap.sum()/float(union.sum())         \n",
    "    print('The intersection over union of the predicted GMM 5 and mask',index,': ',IOU4)"
   ]
  },
  {
   "cell_type": "code",
   "execution_count": 58,
   "metadata": {
    "scrolled": true
   },
   "outputs": [
    {
     "name": "stdout",
     "output_type": "stream",
     "text": [
      "The accuracy for GMM 2 is : 92.53992214189243\n",
      "The accuracy for GMM 3 is : 92.09660761102725\n",
      "The accuracy for GMM 4 is : 93.51553189798999\n",
      "The accuracy for GMM 5 is : 93.44482402478748\n"
     ]
    }
   ],
   "source": [
    "covariance_background = np.cov(background_pixel_RGB.T)\n",
    "mean_background = np.mean(background_pixel_RGB, 0)  \n",
    "\n",
    "probs = []\n",
    "images_RGB = []\n",
    "acc = 0\n",
    "for i in range(2, 6):\n",
    "    pickle_off = open(\"pickles/gmm-RGBKmeans-final\"+str(i)+\".pickle\",\"rb\")\n",
    "    gmm = pickle.load(pickle_off)\n",
    "    \n",
    "    index = 2\n",
    "    image, mask = (test_X[index], test_y[index])\n",
    "\n",
    "    likelihood = gmm.Proba(image)\n",
    "    part1 = prior_RGB*likelihood\n",
    "    part2 = ((1-prior_RGB)*multivariate_normal(mean=mean_background, cov=covariance_background).pdf(image))\n",
    "    part3 = part1 + part2 \n",
    "    prob = part1/part3\n",
    "\n",
    "    prob[prob>0.5] = 1\n",
    "    prob[prob<0.5] = 0\n",
    "    \n",
    "    images_RGB.append(prob)\n",
    "    \n",
    "    prob = prob.ravel().astype(int)\n",
    "    mask = mask.ravel()\n",
    "    score = accuracy_score(mask, prob)*100\n",
    "    print(\"The accuracy for GMM\",i,\"is :\",score)\n",
    "    probs.append(prob)"
   ]
  },
  {
   "cell_type": "code",
   "execution_count": 59,
   "metadata": {},
   "outputs": [
    {
     "name": "stdout",
     "output_type": "stream",
     "text": [
      "This is the confusion matrix for mask 2 and GMM mask 2: \n",
      " [[93177  2828]\n",
      " [ 6562 23303]]\n",
      "This is the confusion matrix for mask 2 and GMM mask 3: \n",
      " [[92517  3488]\n",
      " [ 6460 23405]]\n",
      "This is the confusion matrix for mask 2 and GMM mask 4: \n",
      " [[94382  1623]\n",
      " [ 6539 23326]]\n",
      "This is the confusion matrix for mask 2 and GMM mask 5: \n",
      " [[94341  1664]\n",
      " [ 6587 23278]]\n",
      "\n",
      "\n",
      "This is the cohens kappa score for mask 2 and GMM mask 2: 0.7846126145271008\n",
      "This is the cohens kappa score for mask 2 and GMM mask 3:  0.7738899255992427\n",
      "This is the cohens kappa score for mask 2 and GMM mask 4:  0.81007461275837\n",
      "This is the cohens kappa score for mask 2 and GMM mask 5: 0.8079871957170133\n",
      "\n",
      "\n",
      "The intersection over union of the predicted GMM 2 and mask 2 :  0.4161547253375241\n",
      "The intersection over union of the predicted GMM 3 and mask 2 :  0.4123647767715564\n",
      "The intersection over union of the predicted GMM 4 and mask 2 :  0.42554821760864014\n",
      "The intersection over union of the predicted GMM 5 and mask 2 :  0.424726768478479\n"
     ]
    }
   ],
   "source": [
    "Metrics_CM_CK_IOU(test_y,index,images_RGB)"
   ]
  },
  {
   "cell_type": "code",
   "execution_count": 46,
   "metadata": {},
   "outputs": [
    {
     "data": {
      "image/png": "[encoded data removed]",
      "text/plain": [
       "<Figure size 432x288 with 2 Axes>"
      ]
     },
     "metadata": {},
     "output_type": "display_data"
    }
   ],
   "source": [
    "plt.title(\" Confusion Matrix Model1 \\n(0 is true while 1 is false)\")\n",
    "ax = sns.heatmap(model1, annot=True, cmap='Blues', fmt=\".2f\")\n",
    "ax.set_ylim([2,0])\n",
    "plt.show()"
   ]
  },
  {
   "cell_type": "code",
   "execution_count": 16,
   "metadata": {},
   "outputs": [
    {
     "data": {
      "image/png": "[encoded data removed]",
      "text/plain": [
       "<Figure size 1440x2880 with 4 Axes>"
      ]
     },
     "metadata": {
      "needs_background": "light"
     },
     "output_type": "display_data"
    }
   ],
   "source": [
    "visualize(images_RGB)"
   ]
  },
  {
   "cell_type": "code",
   "execution_count": 16,
   "metadata": {},
   "outputs": [
    {
     "name": "stdout",
     "output_type": "stream",
     "text": [
      "This is the confusion matrix for mask 2 and GMM mask 2: \n",
      " [[93177  2828]\n",
      " [ 6562 23303]]\n"
     ]
    }
   ],
   "source": [
    "main_mask = test_y[index]\n",
    "main_mask = main_mask.flatten()\n",
    "\n",
    "Prob_mask1 = images_RGB[0]\n",
    "Prob_mask1 = Prob_mask1.flatten()\n",
    "\n",
    "model1 = confusion_matrix(main_mask, Prob_mask1)\n",
    "print('This is the confusion matrix for mask',index,'and GMM mask 2: \\n',model1)"
   ]
  },
  {
   "cell_type": "code",
   "execution_count": null,
   "metadata": {},
   "outputs": [],
   "source": []
  }
 ],
 "metadata": {
  "kernelspec": {
   "display_name": "Python 3",
   "language": "python",
   "name": "python3"
  },
  "language_info": {
   "codemirror_mode": {
    "name": "ipython",
    "version": 3
   },
   "file_extension": ".py",
   "mimetype": "text/x-python",
   "name": "python",
   "nbconvert_exporter": "python",
   "pygments_lexer": "ipython3",
   "version": "3.7.4"
  }
 },
 "nbformat": 4,
 "nbformat_minor": 2
}
